{
 "cells": [
  {
   "cell_type": "markdown",
   "metadata": {},
   "source": [
    "# Keras 2.0"
   ]
  },
  {
   "cell_type": "code",
   "execution_count": 1,
   "metadata": {},
   "outputs": [],
   "source": [
    "import tensorflow as tf\n",
    "from tensorflow import keras"
   ]
  },
  {
   "cell_type": "code",
   "execution_count": 2,
   "metadata": {},
   "outputs": [],
   "source": [
    "import numpy as np\n",
    "import pandas as pd\n",
    "import matplotlib.pyplot as plt\n",
    "%matplotlib inline"
   ]
  },
  {
   "cell_type": "code",
   "execution_count": 3,
   "metadata": {},
   "outputs": [
    {
     "data": {
      "text/plain": [
       "'2.2.4-tf'"
      ]
     },
     "execution_count": 3,
     "metadata": {},
     "output_type": "execute_result"
    }
   ],
   "source": [
    "keras.__version__"
   ]
  },
  {
   "cell_type": "markdown",
   "metadata": {},
   "source": [
    "<img src=\"imagens/keras2.png\" alt=\"drawing\" width=\"600\"/>"
   ]
  },
  {
   "cell_type": "code",
   "execution_count": 4,
   "metadata": {},
   "outputs": [],
   "source": [
    "fashion_mnist = keras.datasets.fashion_mnist\n",
    "(X_train_full, y_train_full), (X_test, y_test) = fashion_mnist.load_data()"
   ]
  },
  {
   "cell_type": "code",
   "execution_count": 5,
   "metadata": {},
   "outputs": [
    {
     "data": {
      "text/plain": [
       "((60000, 28, 28), dtype('uint8'))"
      ]
     },
     "execution_count": 5,
     "metadata": {},
     "output_type": "execute_result"
    }
   ],
   "source": [
    "X_train_full.shape, X_train_full.dtype"
   ]
  },
  {
   "cell_type": "code",
   "execution_count": 6,
   "metadata": {},
   "outputs": [
    {
     "data": {
      "text/plain": [
       "((10000, 28, 28), dtype('uint8'))"
      ]
     },
     "execution_count": 6,
     "metadata": {},
     "output_type": "execute_result"
    }
   ],
   "source": [
    "X_test.shape, X_test.dtype"
   ]
  },
  {
   "cell_type": "code",
   "execution_count": 7,
   "metadata": {},
   "outputs": [],
   "source": [
    "X_valid, X_train = X_train_full[:5000] / 255.0, X_train_full[5000:] / 255.0\n",
    "y_valid, y_train = y_train_full[:5000], y_train_full[5000:]"
   ]
  },
  {
   "cell_type": "code",
   "execution_count": 8,
   "metadata": {},
   "outputs": [],
   "source": [
    "class_names = [\"T-shirt/top\", \"Trouser\", \"Pullover\", \"Dress\", \"Coat\",\n",
    "                   \"Sandal\", \"Shirt\", \"Sneaker\", \"Bag\", \"Ankle boot\"]"
   ]
  },
  {
   "cell_type": "markdown",
   "metadata": {},
   "source": [
    "## API Sequential"
   ]
  },
  {
   "cell_type": "code",
   "execution_count": 9,
   "metadata": {},
   "outputs": [],
   "source": [
    "model = keras.models.Sequential()\n",
    "model.add(keras.layers.Flatten(input_shape=[28, 28]))\n",
    "model.add(keras.layers.Dense(300, activation=\"relu\"))\n",
    "model.add(keras.layers.Dense(100, activation=\"relu\"))\n",
    "model.add(keras.layers.Dense(10, activation=\"softmax\"))"
   ]
  },
  {
   "cell_type": "code",
   "execution_count": 10,
   "metadata": {},
   "outputs": [],
   "source": [
    "model = keras.models.Sequential([\n",
    "        keras.layers.Flatten(input_shape=[28, 28]),\n",
    "        keras.layers.Dense(300, activation=\"relu\"),\n",
    "        keras.layers.Dense(100, activation=\"relu\"),\n",
    "        keras.layers.Dense(10, activation=\"softmax\")\n",
    "])"
   ]
  },
  {
   "cell_type": "code",
   "execution_count": 11,
   "metadata": {},
   "outputs": [
    {
     "name": "stdout",
     "output_type": "stream",
     "text": [
      "Model: \"sequential_1\"\n",
      "_________________________________________________________________\n",
      "Layer (type)                 Output Shape              Param #   \n",
      "=================================================================\n",
      "flatten_1 (Flatten)          (None, 784)               0         \n",
      "_________________________________________________________________\n",
      "dense_3 (Dense)              (None, 300)               235500    \n",
      "_________________________________________________________________\n",
      "dense_4 (Dense)              (None, 100)               30100     \n",
      "_________________________________________________________________\n",
      "dense_5 (Dense)              (None, 10)                1010      \n",
      "=================================================================\n",
      "Total params: 266,610\n",
      "Trainable params: 266,610\n",
      "Non-trainable params: 0\n",
      "_________________________________________________________________\n"
     ]
    }
   ],
   "source": [
    "model.summary()"
   ]
  },
  {
   "cell_type": "code",
   "execution_count": 12,
   "metadata": {},
   "outputs": [
    {
     "data": {
      "text/plain": [
       "[<tensorflow.python.keras.layers.core.Flatten at 0x131422ba8>,\n",
       " <tensorflow.python.keras.layers.core.Dense at 0x131422f98>,\n",
       " <tensorflow.python.keras.layers.core.Dense at 0x14b2d47b8>,\n",
       " <tensorflow.python.keras.layers.core.Dense at 0x14b2ed908>]"
      ]
     },
     "execution_count": 12,
     "metadata": {},
     "output_type": "execute_result"
    }
   ],
   "source": [
    "model.layers"
   ]
  },
  {
   "cell_type": "code",
   "execution_count": 13,
   "metadata": {},
   "outputs": [
    {
     "data": {
      "text/plain": [
       "'dense_3'"
      ]
     },
     "execution_count": 13,
     "metadata": {},
     "output_type": "execute_result"
    }
   ],
   "source": [
    "model.layers[1].name"
   ]
  },
  {
   "cell_type": "code",
   "execution_count": 14,
   "metadata": {},
   "outputs": [],
   "source": [
    "W,b = model.get_layer('dense_3').get_weights()"
   ]
  },
  {
   "cell_type": "code",
   "execution_count": 15,
   "metadata": {},
   "outputs": [
    {
     "data": {
      "text/plain": [
       "((784, 300), (300,))"
      ]
     },
     "execution_count": 15,
     "metadata": {},
     "output_type": "execute_result"
    }
   ],
   "source": [
    "W.shape, b.shape"
   ]
  },
  {
   "cell_type": "code",
   "execution_count": 16,
   "metadata": {},
   "outputs": [],
   "source": [
    "model.compile(loss = \"sparse_categorical_crossentropy\",\n",
    "             optimizer = \"sgd\",\n",
    "             metrics = [\"accuracy\"])"
   ]
  },
  {
   "cell_type": "code",
   "execution_count": 17,
   "metadata": {},
   "outputs": [
    {
     "name": "stderr",
     "output_type": "stream",
     "text": [
      "WARNING: Logging before flag parsing goes to stderr.\n",
      "W0909 10:36:24.474206 4563617216 training_utils.py:1211] When passing input data as arrays, do not specify `steps_per_epoch`/`steps` argument. Please use `batch_size` instead.\n"
     ]
    },
    {
     "name": "stdout",
     "output_type": "stream",
     "text": [
      "Epoch 1/10\n"
     ]
    },
    {
     "name": "stderr",
     "output_type": "stream",
     "text": [
      "W0909 10:36:24.753048 4563617216 deprecation.py:323] From /Users/marcocristo/.local/lib/python3.6/site-packages/tensorflow_core/python/keras/optimizer_v2/optimizer_v2.py:468: BaseResourceVariable.constraint (from tensorflow.python.ops.resource_variable_ops) is deprecated and will be removed in a future version.\n",
      "Instructions for updating:\n",
      "Apply a constraint manually following the optimizer update step.\n"
     ]
    },
    {
     "name": "stdout",
     "output_type": "stream",
     "text": [
      "55000/55000 [==============================] - 6s 103us/sample - loss: 0.7243 - accuracy: 0.7639 - val_loss: 0.5125 - val_accuracy: 0.8270\n",
      "Epoch 2/10\n",
      "55000/55000 [==============================] - 5s 96us/sample - loss: 0.4838 - accuracy: 0.8313 - val_loss: 0.4639 - val_accuracy: 0.8420\n",
      "Epoch 3/10\n",
      "55000/55000 [==============================] - 5s 95us/sample - loss: 0.4385 - accuracy: 0.8465 - val_loss: 0.4409 - val_accuracy: 0.8430\n",
      "Epoch 4/10\n",
      "55000/55000 [==============================] - 5s 95us/sample - loss: 0.4123 - accuracy: 0.8541 - val_loss: 0.4064 - val_accuracy: 0.8584\n",
      "Epoch 5/10\n",
      "55000/55000 [==============================] - 5s 95us/sample - loss: 0.3933 - accuracy: 0.8619 - val_loss: 0.4077 - val_accuracy: 0.8606\n",
      "Epoch 6/10\n",
      "55000/55000 [==============================] - 5s 96us/sample - loss: 0.3770 - accuracy: 0.8665 - val_loss: 0.3732 - val_accuracy: 0.8714\n",
      "Epoch 7/10\n",
      "55000/55000 [==============================] - 5s 95us/sample - loss: 0.3648 - accuracy: 0.8707 - val_loss: 0.3877 - val_accuracy: 0.8648\n",
      "Epoch 8/10\n",
      "55000/55000 [==============================] - 5s 97us/sample - loss: 0.3536 - accuracy: 0.8758 - val_loss: 0.3629 - val_accuracy: 0.8732\n",
      "Epoch 9/10\n",
      "55000/55000 [==============================] - 5s 98us/sample - loss: 0.3432 - accuracy: 0.8777 - val_loss: 0.3465 - val_accuracy: 0.8804\n",
      "Epoch 10/10\n",
      "55000/55000 [==============================] - 5s 97us/sample - loss: 0.3342 - accuracy: 0.8807 - val_loss: 0.3874 - val_accuracy: 0.8668\n"
     ]
    }
   ],
   "source": [
    "h = model.fit(X_train, y_train, epochs = 10, \n",
    "             validation_data = (X_valid, y_valid))"
   ]
  },
  {
   "cell_type": "code",
   "execution_count": 18,
   "metadata": {},
   "outputs": [
    {
     "data": {
      "text/plain": [
       "<matplotlib.axes._subplots.AxesSubplot at 0x14b53dd68>"
      ]
     },
     "execution_count": 18,
     "metadata": {},
     "output_type": "execute_result"
    },
    {
     "data": {
      "image/png": "[encoded data removed]",
      "text/plain": [
       "<Figure size 576x360 with 1 Axes>"
      ]
     },
     "metadata": {
      "needs_background": "light"
     },
     "output_type": "display_data"
    }
   ],
   "source": [
    "pd.DataFrame(h.history).plot(figsize = (8,5))"
   ]
  },
  {
   "cell_type": "code",
   "execution_count": 19,
   "metadata": {},
   "outputs": [
    {
     "name": "stderr",
     "output_type": "stream",
     "text": [
      "W0909 10:37:44.244345 4563617216 training_utils.py:1211] When passing input data as arrays, do not specify `steps_per_epoch`/`steps` argument. Please use `batch_size` instead.\n"
     ]
    },
    {
     "data": {
      "text/plain": [
       "[100.81444536132813, 0.7902]"
      ]
     },
     "execution_count": 19,
     "metadata": {},
     "output_type": "execute_result"
    }
   ],
   "source": [
    "model.evaluate(X_test, y_test, verbose = 0)"
   ]
  },
  {
   "cell_type": "code",
   "execution_count": 20,
   "metadata": {},
   "outputs": [],
   "source": [
    "X_new = X_test[:3]"
   ]
  },
  {
   "cell_type": "code",
   "execution_count": 21,
   "metadata": {},
   "outputs": [
    {
     "name": "stderr",
     "output_type": "stream",
     "text": [
      "W0909 10:38:26.401381 4563617216 training_utils.py:1211] When passing input data as arrays, do not specify `steps_per_epoch`/`steps` argument. Please use `batch_size` instead.\n"
     ]
    },
    {
     "data": {
      "text/plain": [
       "array([[0., 0., 0., 0., 0., 0., 0., 0., 0., 1.],\n",
       "       [0., 0., 1., 0., 0., 0., 0., 0., 0., 0.],\n",
       "       [0., 1., 0., 0., 0., 0., 0., 0., 0., 0.]], dtype=float32)"
      ]
     },
     "execution_count": 21,
     "metadata": {},
     "output_type": "execute_result"
    }
   ],
   "source": [
    "y_proba = model.predict(X_new)\n",
    "y_proba.round(2)"
   ]
  },
  {
   "cell_type": "code",
   "execution_count": 22,
   "metadata": {},
   "outputs": [
    {
     "name": "stderr",
     "output_type": "stream",
     "text": [
      "W0909 10:38:28.891695 4563617216 training_utils.py:1211] When passing input data as arrays, do not specify `steps_per_epoch`/`steps` argument. Please use `batch_size` instead.\n"
     ]
    },
    {
     "data": {
      "text/plain": [
       "array([9, 2, 1])"
      ]
     },
     "execution_count": 22,
     "metadata": {},
     "output_type": "execute_result"
    }
   ],
   "source": [
    "y_pred = model.predict_classes(X_new)\n",
    "y_pred"
   ]
  },
  {
   "cell_type": "code",
   "execution_count": 23,
   "metadata": {},
   "outputs": [
    {
     "data": {
      "text/plain": [
       "array(['Ankle boot', 'Pullover', 'Trouser'], dtype='<U11')"
      ]
     },
     "execution_count": 23,
     "metadata": {},
     "output_type": "execute_result"
    }
   ],
   "source": [
    "np.array(class_names)[y_pred]"
   ]
  },
  {
   "cell_type": "markdown",
   "metadata": {},
   "source": [
    "## API Functional"
   ]
  },
  {
   "cell_type": "code",
   "execution_count": 9,
   "metadata": {},
   "outputs": [],
   "source": [
    "input = keras.layers.Input(shape=[28, 28])\n",
    "h0 = keras.layers.Flatten()(input)\n",
    "h1 = keras.layers.Dense(300, activation=\"relu\")(h0)\n",
    "h2 = keras.layers.Dense(200, activation=\"relu\")(h1)\n",
    "h3 = keras.layers.Dense(100, activation=\"relu\")(h2)\n",
    "h4 = keras.layers.Dense( 50, activation=\"relu\")(h3)\n",
    "concat = keras.layers.Concatenate()([h1, h4])\n",
    "output = keras.layers.Dense(10, activation=\"softmax\")(concat)\n",
    "model = keras.models.Model(inputs=[input], outputs=[output])"
   ]
  },
  {
   "cell_type": "code",
   "execution_count": 10,
   "metadata": {},
   "outputs": [],
   "source": [
    "model.compile(loss = \"sparse_categorical_crossentropy\",\n",
    "             optimizer = \"sgd\",\n",
    "             metrics = [\"accuracy\"])"
   ]
  },
  {
   "cell_type": "code",
   "execution_count": 11,
   "metadata": {},
   "outputs": [
    {
     "name": "stderr",
     "output_type": "stream",
     "text": [
      "WARNING: Logging before flag parsing goes to stderr.\n",
      "W0909 15:13:51.957574 4553237952 training_utils.py:1211] When passing input data as arrays, do not specify `steps_per_epoch`/`steps` argument. Please use `batch_size` instead.\n"
     ]
    },
    {
     "name": "stdout",
     "output_type": "stream",
     "text": [
      "Epoch 1/10\n"
     ]
    },
    {
     "name": "stderr",
     "output_type": "stream",
     "text": [
      "W0909 15:13:52.257007 4553237952 deprecation.py:323] From /Users/marcocristo/.local/lib/python3.6/site-packages/tensorflow_core/python/keras/optimizer_v2/optimizer_v2.py:468: BaseResourceVariable.constraint (from tensorflow.python.ops.resource_variable_ops) is deprecated and will be removed in a future version.\n",
      "Instructions for updating:\n",
      "Apply a constraint manually following the optimizer update step.\n"
     ]
    },
    {
     "name": "stdout",
     "output_type": "stream",
     "text": [
      "55000/55000 [==============================] - 6s 118us/sample - loss: 0.7324 - accuracy: 0.7658 - val_loss: 0.5267 - val_accuracy: 0.8236\n",
      "Epoch 2/10\n",
      "55000/55000 [==============================] - 6s 111us/sample - loss: 0.5016 - accuracy: 0.8265 - val_loss: 0.4688 - val_accuracy: 0.8408\n",
      "Epoch 3/10\n",
      "55000/55000 [==============================] - 6s 112us/sample - loss: 0.4561 - accuracy: 0.8410 - val_loss: 0.4552 - val_accuracy: 0.8428\n",
      "Epoch 4/10\n",
      "55000/55000 [==============================] - 6s 116us/sample - loss: 0.4289 - accuracy: 0.8487 - val_loss: 0.4179 - val_accuracy: 0.8594\n",
      "Epoch 5/10\n",
      "55000/55000 [==============================] - 6s 112us/sample - loss: 0.4083 - accuracy: 0.8568 - val_loss: 0.4191 - val_accuracy: 0.8546\n",
      "Epoch 6/10\n",
      "55000/55000 [==============================] - 7s 121us/sample - loss: 0.3906 - accuracy: 0.8637 - val_loss: 0.3799 - val_accuracy: 0.8702\n",
      "Epoch 7/10\n",
      "55000/55000 [==============================] - 6s 114us/sample - loss: 0.3770 - accuracy: 0.8672 - val_loss: 0.3897 - val_accuracy: 0.8696\n",
      "Epoch 8/10\n",
      "55000/55000 [==============================] - 7s 120us/sample - loss: 0.3653 - accuracy: 0.8705 - val_loss: 0.3670 - val_accuracy: 0.8724\n",
      "Epoch 9/10\n",
      "55000/55000 [==============================] - 6s 110us/sample - loss: 0.3540 - accuracy: 0.8744 - val_loss: 0.3548 - val_accuracy: 0.8736\n",
      "Epoch 10/10\n",
      "55000/55000 [==============================] - 6s 115us/sample - loss: 0.3444 - accuracy: 0.8778 - val_loss: 0.4009 - val_accuracy: 0.8586\n"
     ]
    }
   ],
   "source": [
    "h = model.fit(X_train, y_train, epochs = 10, \n",
    "             validation_data = (X_valid, y_valid))"
   ]
  },
  {
   "cell_type": "code",
   "execution_count": 12,
   "metadata": {},
   "outputs": [
    {
     "data": {
      "text/plain": [
       "<matplotlib.axes._subplots.AxesSubplot at 0x1497ee4a8>"
      ]
     },
     "execution_count": 12,
     "metadata": {},
     "output_type": "execute_result"
    },
    {
     "data": {
      "image/png": "[encoded data removed]",
      "text/plain": [
       "<Figure size 576x360 with 1 Axes>"
      ]
     },
     "metadata": {
      "needs_background": "light"
     },
     "output_type": "display_data"
    }
   ],
   "source": [
    "pd.DataFrame(h.history).plot(figsize = (8,5))"
   ]
  },
  {
   "cell_type": "code",
   "execution_count": 13,
   "metadata": {},
   "outputs": [
    {
     "name": "stdout",
     "output_type": "stream",
     "text": [
      "Model: \"model\"\n",
      "__________________________________________________________________________________________________\n",
      "Layer (type)                    Output Shape         Param #     Connected to                     \n",
      "==================================================================================================\n",
      "input_1 (InputLayer)            [(None, 28, 28)]     0                                            \n",
      "__________________________________________________________________________________________________\n",
      "flatten (Flatten)               (None, 784)          0           input_1[0][0]                    \n",
      "__________________________________________________________________________________________________\n",
      "dense (Dense)                   (None, 300)          235500      flatten[0][0]                    \n",
      "__________________________________________________________________________________________________\n",
      "dense_1 (Dense)                 (None, 200)          60200       dense[0][0]                      \n",
      "__________________________________________________________________________________________________\n",
      "dense_2 (Dense)                 (None, 100)          20100       dense_1[0][0]                    \n",
      "__________________________________________________________________________________________________\n",
      "dense_3 (Dense)                 (None, 50)           5050        dense_2[0][0]                    \n",
      "__________________________________________________________________________________________________\n",
      "concatenate (Concatenate)       (None, 350)          0           dense[0][0]                      \n",
      "                                                                 dense_3[0][0]                    \n",
      "__________________________________________________________________________________________________\n",
      "dense_4 (Dense)                 (None, 10)           3510        concatenate[0][0]                \n",
      "==================================================================================================\n",
      "Total params: 324,360\n",
      "Trainable params: 324,360\n",
      "Non-trainable params: 0\n",
      "__________________________________________________________________________________________________\n"
     ]
    }
   ],
   "source": [
    "model.summary()"
   ]
  },
  {
   "cell_type": "code",
   "execution_count": 14,
   "metadata": {},
   "outputs": [],
   "source": [
    "model.save('mod_fun.h5')"
   ]
  },
  {
   "cell_type": "code",
   "execution_count": 15,
   "metadata": {},
   "outputs": [
    {
     "name": "stderr",
     "output_type": "stream",
     "text": [
      "W0909 15:14:55.513956 4553237952 deprecation.py:323] From /Users/marcocristo/.local/lib/python3.6/site-packages/tensorflow_core/python/ops/math_grad.py:1423: where (from tensorflow.python.ops.array_ops) is deprecated and will be removed in a future version.\n",
      "Instructions for updating:\n",
      "Use tf.where in 2.0, which has the same broadcast rule as np.where\n"
     ]
    }
   ],
   "source": [
    "model_clone = keras.models.load_model('mod_fun.h5')"
   ]
  },
  {
   "cell_type": "code",
   "execution_count": 16,
   "metadata": {},
   "outputs": [
    {
     "name": "stderr",
     "output_type": "stream",
     "text": [
      "W0909 15:14:55.743201 4553237952 training_utils.py:1211] When passing input data as arrays, do not specify `steps_per_epoch`/`steps` argument. Please use `batch_size` instead.\n"
     ]
    }
   ],
   "source": [
    "yhat = model_clone.predict(X_test)"
   ]
  },
  {
   "cell_type": "code",
   "execution_count": 17,
   "metadata": {},
   "outputs": [
    {
     "data": {
      "text/plain": [
       "array([[0., 0., 0., ..., 0., 0., 1.],\n",
       "       [0., 0., 1., ..., 0., 0., 0.],\n",
       "       [0., 1., 0., ..., 0., 0., 0.],\n",
       "       ...,\n",
       "       [0., 0., 0., ..., 0., 1., 0.],\n",
       "       [0., 1., 0., ..., 0., 0., 0.],\n",
       "       [0., 0., 0., ..., 0., 0., 0.]], dtype=float32)"
      ]
     },
     "execution_count": 17,
     "metadata": {},
     "output_type": "execute_result"
    }
   ],
   "source": [
    "yhat"
   ]
  },
  {
   "cell_type": "markdown",
   "metadata": {},
   "source": [
    "#### Um Autocodificador"
   ]
  },
  {
   "cell_type": "code",
   "execution_count": 18,
   "metadata": {},
   "outputs": [],
   "source": [
    "X_train_flat = X_train.reshape(-1, 784)\n",
    "X_test_flat = X_test.reshape(-1, 784)\n",
    "X_valid_flat = X_valid.reshape(-1, 784)"
   ]
  },
  {
   "cell_type": "code",
   "execution_count": 19,
   "metadata": {},
   "outputs": [],
   "source": [
    "input_dim = 784\n",
    "inter_dim = 64\n",
    "latent_dim = 32"
   ]
  },
  {
   "cell_type": "code",
   "execution_count": 20,
   "metadata": {},
   "outputs": [],
   "source": [
    "x = keras.layers.Input(shape = (input_dim, ))\n",
    "h1 = keras.layers.Dense(inter_dim, activation='relu')(x)\n",
    "h2 = keras.layers.Dense(latent_dim, activation='relu')(h1)\n",
    "h3 = keras.layers.Dense(inter_dim, activation='relu')(h2)\n",
    "yhat = keras.layers.Dense(input_dim, activation='sigmoid')(h3) \n",
    "\n",
    "ACf = keras.models.Model(inputs = x, outputs = yhat)"
   ]
  },
  {
   "cell_type": "code",
   "execution_count": 21,
   "metadata": {},
   "outputs": [],
   "source": [
    "ACf.compile(optimizer='adam', loss='binary_crossentropy')"
   ]
  },
  {
   "cell_type": "code",
   "execution_count": 22,
   "metadata": {},
   "outputs": [
    {
     "name": "stderr",
     "output_type": "stream",
     "text": [
      "W0909 15:14:56.245413 4553237952 training_utils.py:1211] When passing input data as arrays, do not specify `steps_per_epoch`/`steps` argument. Please use `batch_size` instead.\n"
     ]
    },
    {
     "name": "stdout",
     "output_type": "stream",
     "text": [
      "Epoch 1/10\n",
      "55000/55000 [==============================] - 6s 111us/sample - loss: 0.3215 - val_loss: 0.2948\n",
      "Epoch 2/10\n",
      "55000/55000 [==============================] - 5s 93us/sample - loss: 0.2934 - val_loss: 0.2877\n",
      "Epoch 3/10\n",
      "55000/55000 [==============================] - 5s 88us/sample - loss: 0.2877 - val_loss: 0.2831\n",
      "Epoch 4/10\n",
      "55000/55000 [==============================] - 5s 90us/sample - loss: 0.2845 - val_loss: 0.2803\n",
      "Epoch 5/10\n",
      "55000/55000 [==============================] - 5s 91us/sample - loss: 0.2825 - val_loss: 0.2793\n",
      "Epoch 6/10\n",
      "55000/55000 [==============================] - 5s 90us/sample - loss: 0.2812 - val_loss: 0.2779\n",
      "Epoch 7/10\n",
      "55000/55000 [==============================] - 5s 91us/sample - loss: 0.2803 - val_loss: 0.2771\n",
      "Epoch 8/10\n",
      "55000/55000 [==============================] - 5s 91us/sample - loss: 0.2796 - val_loss: 0.2767\n",
      "Epoch 9/10\n",
      "55000/55000 [==============================] - 5s 89us/sample - loss: 0.2790 - val_loss: 0.2760\n",
      "Epoch 10/10\n",
      "55000/55000 [==============================] - 5s 89us/sample - loss: 0.2786 - val_loss: 0.2759\n"
     ]
    }
   ],
   "source": [
    "h = ACf.fit(X_train_flat, X_train_flat, \n",
    "           epochs = 10, shuffle=True,\n",
    "           validation_data = (X_valid_flat, X_valid_flat))"
   ]
  },
  {
   "cell_type": "code",
   "execution_count": 23,
   "metadata": {},
   "outputs": [
    {
     "data": {
      "text/plain": [
       "<matplotlib.axes._subplots.AxesSubplot at 0x14c4dc780>"
      ]
     },
     "execution_count": 23,
     "metadata": {},
     "output_type": "execute_result"
    },
    {
     "data": {
      "image/png": "[encoded data removed]",
      "text/plain": [
       "<Figure size 576x360 with 1 Axes>"
      ]
     },
     "metadata": {
      "needs_background": "light"
     },
     "output_type": "display_data"
    }
   ],
   "source": [
    "pd.DataFrame(h.history).plot(figsize = (8,5))"
   ]
  },
  {
   "cell_type": "code",
   "execution_count": 24,
   "metadata": {},
   "outputs": [],
   "source": [
    "def show_results(model, X_test, limit = 10):\n",
    "    decoded_imgs = model.predict(X_test)\n",
    "    # Keras implementation results\n",
    "    plt.figure(figsize=(20, 4))\n",
    "    for i in range(limit):\n",
    "        # Original\n",
    "        subplot = plt.subplot(2, limit, i + 1)\n",
    "        plt.imshow(X_test[i].reshape(28, 28))\n",
    "        plt.gray()\n",
    "        subplot.get_xaxis().set_visible(False)\n",
    "        subplot.get_yaxis().set_visible(False)\n",
    "\n",
    "        # Reconstruction\n",
    "        subplot = plt.subplot(2, limit, i + 11)\n",
    "        plt.imshow(decoded_imgs[i].reshape(28, 28))\n",
    "        plt.gray()\n",
    "        subplot.get_xaxis().set_visible(False)\n",
    "        subplot.get_yaxis().set_visible(False)\n",
    "    plt.show()"
   ]
  },
  {
   "cell_type": "code",
   "execution_count": 25,
   "metadata": {},
   "outputs": [
    {
     "name": "stderr",
     "output_type": "stream",
     "text": [
      "W0909 15:15:47.337752 4553237952 training_utils.py:1211] When passing input data as arrays, do not specify `steps_per_epoch`/`steps` argument. Please use `batch_size` instead.\n"
     ]
    },
    {
     "data": {
      "image/png": "[encoded data removed]",
      "text/plain": [
       "<Figure size 1440x288 with 20 Axes>"
      ]
     },
     "metadata": {
      "needs_background": "light"
     },
     "output_type": "display_data"
    }
   ],
   "source": [
    "show_results(ACf, X_test_flat)"
   ]
  },
  {
   "cell_type": "markdown",
   "metadata": {},
   "source": [
    "## API Subclassing"
   ]
  },
  {
   "cell_type": "markdown",
   "metadata": {},
   "source": [
    "#### Uma versao OO WideAndDeepModel "
   ]
  },
  {
   "cell_type": "code",
   "execution_count": 48,
   "metadata": {},
   "outputs": [],
   "source": [
    "class WideAndDeepModel(keras.models.Model):\n",
    "    def __init__(self, activation=\"relu\", **kwargs):\n",
    "        super(WideAndDeepModel, self).__init__(**kwargs) # handles standard args (e.g., name) \n",
    "        self.h0 = keras.layers.Flatten()\n",
    "        self.h1 = keras.layers.Dense(300, activation=activation)\n",
    "        self.h2 = keras.layers.Dense(200, activation=activation)\n",
    "        self.h3 = keras.layers.Dense(100, activation=activation)\n",
    "        self.h4 = keras.layers.Dense( 50, activation=activation)\n",
    "        self.out = keras.layers.Dense(10, activation=\"softmax\")\n",
    "    \n",
    "    def call(self, inputs):\n",
    "        # architecture defined procedurally in call\n",
    "        # Keras is not able to detailedly infer meta information about the arch \n",
    "        h0 = self.h0(inputs)\n",
    "        h1 = self.h1(h0)\n",
    "        h2 = self.h2(h1)\n",
    "        h3 = self.h3(h2)\n",
    "        h4 = self.h4(h3)\n",
    "        concat = keras.layers.concatenate([h1, h4]) \n",
    "        output = self.out(concat)\n",
    "        return output\n",
    "\n",
    "model = WideAndDeepModel()"
   ]
  },
  {
   "cell_type": "code",
   "execution_count": 49,
   "metadata": {},
   "outputs": [],
   "source": [
    "model.compile(loss = \"sparse_categorical_crossentropy\",\n",
    "             optimizer = \"sgd\",\n",
    "             metrics = [\"accuracy\"])"
   ]
  },
  {
   "cell_type": "code",
   "execution_count": 50,
   "metadata": {},
   "outputs": [
    {
     "name": "stderr",
     "output_type": "stream",
     "text": [
      "W0909 10:45:05.988633 4563617216 training_utils.py:1211] When passing input data as arrays, do not specify `steps_per_epoch`/`steps` argument. Please use `batch_size` instead.\n"
     ]
    },
    {
     "name": "stdout",
     "output_type": "stream",
     "text": [
      "Epoch 1/10\n",
      "55000/55000 [==============================] - 6s 112us/sample - loss: 0.7328 - accuracy: 0.7641 - val_loss: 0.5280 - val_accuracy: 0.8248\n",
      "Epoch 2/10\n",
      "55000/55000 [==============================] - 6s 105us/sample - loss: 0.5014 - accuracy: 0.8268 - val_loss: 0.4676 - val_accuracy: 0.8388\n",
      "Epoch 3/10\n",
      "55000/55000 [==============================] - 6s 111us/sample - loss: 0.4551 - accuracy: 0.8407 - val_loss: 0.4487 - val_accuracy: 0.8424\n",
      "Epoch 4/10\n",
      "55000/55000 [==============================] - 6s 113us/sample - loss: 0.4280 - accuracy: 0.8493 - val_loss: 0.4109 - val_accuracy: 0.8614\n",
      "Epoch 5/10\n",
      "55000/55000 [==============================] - 7s 119us/sample - loss: 0.4082 - accuracy: 0.8559 - val_loss: 0.4167 - val_accuracy: 0.8566\n",
      "Epoch 6/10\n",
      "55000/55000 [==============================] - 6s 114us/sample - loss: 0.3910 - accuracy: 0.8623 - val_loss: 0.3849 - val_accuracy: 0.8682\n",
      "Epoch 7/10\n",
      "55000/55000 [==============================] - 6s 110us/sample - loss: 0.3776 - accuracy: 0.8669 - val_loss: 0.3882 - val_accuracy: 0.8674\n",
      "Epoch 8/10\n",
      "55000/55000 [==============================] - 6s 110us/sample - loss: 0.3661 - accuracy: 0.8705 - val_loss: 0.3694 - val_accuracy: 0.8726\n",
      "Epoch 9/10\n",
      "55000/55000 [==============================] - 6s 110us/sample - loss: 0.3548 - accuracy: 0.8734 - val_loss: 0.3545 - val_accuracy: 0.8742\n",
      "Epoch 10/10\n",
      "55000/55000 [==============================] - 6s 111us/sample - loss: 0.3448 - accuracy: 0.8771 - val_loss: 0.4067 - val_accuracy: 0.8594\n"
     ]
    }
   ],
   "source": [
    "h = model.fit(X_train, y_train, epochs = 10, \n",
    "             validation_data = (X_valid, y_valid))"
   ]
  },
  {
   "cell_type": "code",
   "execution_count": 51,
   "metadata": {},
   "outputs": [
    {
     "name": "stdout",
     "output_type": "stream",
     "text": [
      "Model: \"wide_and_deep_model\"\n",
      "_________________________________________________________________\n",
      "Layer (type)                 Output Shape              Param #   \n",
      "=================================================================\n",
      "flatten_3 (Flatten)          multiple                  0         \n",
      "_________________________________________________________________\n",
      "dense_15 (Dense)             multiple                  235500    \n",
      "_________________________________________________________________\n",
      "dense_16 (Dense)             multiple                  60200     \n",
      "_________________________________________________________________\n",
      "dense_17 (Dense)             multiple                  20100     \n",
      "_________________________________________________________________\n",
      "dense_18 (Dense)             multiple                  5050      \n",
      "_________________________________________________________________\n",
      "dense_19 (Dense)             multiple                  3510      \n",
      "=================================================================\n",
      "Total params: 324,360\n",
      "Trainable params: 324,360\n",
      "Non-trainable params: 0\n",
      "_________________________________________________________________\n"
     ]
    }
   ],
   "source": [
    "model.summary()"
   ]
  },
  {
   "cell_type": "code",
   "execution_count": 52,
   "metadata": {},
   "outputs": [
    {
     "ename": "NotImplementedError",
     "evalue": "Saving the model to HDF5 format requires the model to be a Functional model or a Sequential model. It does not work for subclassed models, because such models are defined via the body of a Python method, which isn't safely serializable. Consider saving to the Tensorflow SavedModel format (by setting save_format=\"tf\") or using `save_weights`.",
     "output_type": "error",
     "traceback": [
      "\u001b[0;31m---------------------------------------------------------------------------\u001b[0m",
      "\u001b[0;31mNotImplementedError\u001b[0m                       Traceback (most recent call last)",
      "\u001b[0;32m<ipython-input-52-6e362d396282>\u001b[0m in \u001b[0;36m<module>\u001b[0;34m\u001b[0m\n\u001b[0;32m----> 1\u001b[0;31m \u001b[0mmodel\u001b[0m\u001b[0;34m.\u001b[0m\u001b[0msave\u001b[0m\u001b[0;34m(\u001b[0m\u001b[0;34m'mod_sclss.h5'\u001b[0m\u001b[0;34m)\u001b[0m\u001b[0;34m\u001b[0m\u001b[0m\n\u001b[0m",
      "\u001b[0;32m~/.local/lib/python3.6/site-packages/tensorflow_core/python/keras/engine/network.py\u001b[0m in \u001b[0;36msave\u001b[0;34m(self, filepath, overwrite, include_optimizer, save_format, signatures)\u001b[0m\n\u001b[1;32m   1167\u001b[0m     \"\"\"\n\u001b[1;32m   1168\u001b[0m     saving.save_model(self, filepath, overwrite, include_optimizer, save_format,\n\u001b[0;32m-> 1169\u001b[0;31m                       signatures)\n\u001b[0m\u001b[1;32m   1170\u001b[0m \u001b[0;34m\u001b[0m\u001b[0m\n\u001b[1;32m   1171\u001b[0m   \u001b[0;32mdef\u001b[0m \u001b[0msave_weights\u001b[0m\u001b[0;34m(\u001b[0m\u001b[0mself\u001b[0m\u001b[0;34m,\u001b[0m \u001b[0mfilepath\u001b[0m\u001b[0;34m,\u001b[0m \u001b[0moverwrite\u001b[0m\u001b[0;34m=\u001b[0m\u001b[0;32mTrue\u001b[0m\u001b[0;34m,\u001b[0m \u001b[0msave_format\u001b[0m\u001b[0;34m=\u001b[0m\u001b[0;32mNone\u001b[0m\u001b[0;34m)\u001b[0m\u001b[0;34m:\u001b[0m\u001b[0;34m\u001b[0m\u001b[0m\n",
      "\u001b[0;32m~/.local/lib/python3.6/site-packages/tensorflow_core/python/keras/saving/save.py\u001b[0m in \u001b[0;36msave_model\u001b[0;34m(model, filepath, overwrite, include_optimizer, save_format, signatures)\u001b[0m\n\u001b[1;32m    100\u001b[0m         not isinstance(model, sequential.Sequential)):\n\u001b[1;32m    101\u001b[0m       raise NotImplementedError(\n\u001b[0;32m--> 102\u001b[0;31m           \u001b[0;34m'Saving the model to HDF5 format requires the model to be a '\u001b[0m\u001b[0;34m\u001b[0m\u001b[0m\n\u001b[0m\u001b[1;32m    103\u001b[0m           \u001b[0;34m'Functional model or a Sequential model. It does not work for '\u001b[0m\u001b[0;34m\u001b[0m\u001b[0m\n\u001b[1;32m    104\u001b[0m           \u001b[0;34m'subclassed models, because such models are defined via the body of '\u001b[0m\u001b[0;34m\u001b[0m\u001b[0m\n",
      "\u001b[0;31mNotImplementedError\u001b[0m: Saving the model to HDF5 format requires the model to be a Functional model or a Sequential model. It does not work for subclassed models, because such models are defined via the body of a Python method, which isn't safely serializable. Consider saving to the Tensorflow SavedModel format (by setting save_format=\"tf\") or using `save_weights`."
     ]
    }
   ],
   "source": [
    "model.save('mod_sclss.h5')"
   ]
  },
  {
   "cell_type": "markdown",
   "metadata": {},
   "source": [
    "#### Uma versao OO de um Autocodificador"
   ]
  },
  {
   "cell_type": "code",
   "execution_count": 53,
   "metadata": {},
   "outputs": [],
   "source": [
    "class Codificador(keras.layers.Layer):\n",
    "\n",
    "    def __init__(self,\n",
    "               latent_dim=32,\n",
    "               inter_dim=64,\n",
    "               name='codificador',\n",
    "               **kwargs):\n",
    "        super(Codificador, self).__init__(name=name, **kwargs)\n",
    "        self.h1 = keras.layers.Dense(inter_dim, activation='relu')\n",
    "        self.h2 = keras.layers.Dense(latent_dim, activation='relu')\n",
    "        \n",
    "    def call(self, inputs):\n",
    "        x = self.h1(inputs)\n",
    "        return self.h2(x)"
   ]
  },
  {
   "cell_type": "code",
   "execution_count": 54,
   "metadata": {},
   "outputs": [],
   "source": [
    "class Decodificador(keras.layers.Layer):\n",
    "\n",
    "    def __init__(self,\n",
    "               out_dim,\n",
    "               inter_dim=64,\n",
    "               name='decodificador',\n",
    "               **kwargs):\n",
    "        super(Decodificador, self).__init__(name=name, **kwargs)\n",
    "        self.h1 = keras.layers.Dense(inter_dim, activation='relu')\n",
    "        self.h2 = keras.layers.Dense(out_dim, activation='sigmoid')\n",
    "\n",
    "    def call(self, inputs):\n",
    "        x = self.h1(inputs)\n",
    "        return self.h2(x)"
   ]
  },
  {
   "cell_type": "code",
   "execution_count": 55,
   "metadata": {},
   "outputs": [],
   "source": [
    "class AutoCodificador(keras.Model):\n",
    "    def __init__(self,\n",
    "               input_dim,\n",
    "               inter_dim=64,\n",
    "               latent_dim=32,\n",
    "               name='autocodificador',\n",
    "               **kwargs):\n",
    "        super(AutoCodificador, self).__init__(name=name, **kwargs)\n",
    "        self.input_dim = input_dim\n",
    "        self.codificador = Codificador(latent_dim=latent_dim, inter_dim=inter_dim)\n",
    "        self.decodificador = Decodificador(input_dim, inter_dim=inter_dim)\n",
    "\n",
    "    def call(self, inputs):\n",
    "        z = self.codificador(inputs)\n",
    "        reconstructed = self.decodificador(z)\n",
    "        return reconstructed"
   ]
  },
  {
   "cell_type": "code",
   "execution_count": 56,
   "metadata": {},
   "outputs": [],
   "source": [
    "X_train_flat = X_train.reshape(-1, 784)\n",
    "X_test_flat = X_test.reshape(-1, 784)\n",
    "X_valid_flat = X_valid.reshape(-1, 784)"
   ]
  },
  {
   "cell_type": "code",
   "execution_count": 57,
   "metadata": {},
   "outputs": [],
   "source": [
    "input_dim = 784\n",
    "AC = AutoCodificador(input_dim, 64, 32)\n",
    "\n",
    "AC.compile(optimizer='adam', loss='binary_crossentropy')"
   ]
  },
  {
   "cell_type": "code",
   "execution_count": 58,
   "metadata": {},
   "outputs": [
    {
     "name": "stderr",
     "output_type": "stream",
     "text": [
      "W0909 10:47:55.646265 4563617216 training_utils.py:1211] When passing input data as arrays, do not specify `steps_per_epoch`/`steps` argument. Please use `batch_size` instead.\n"
     ]
    },
    {
     "name": "stdout",
     "output_type": "stream",
     "text": [
      "Epoch 1/20\n",
      "55000/55000 [==============================] - 5s 91us/sample - loss: 0.3235 - val_loss: 0.2947\n",
      "Epoch 2/20\n",
      "55000/55000 [==============================] - 5s 84us/sample - loss: 0.2931 - val_loss: 0.2872\n",
      "Epoch 3/20\n",
      "55000/55000 [==============================] - 5s 84us/sample - loss: 0.2876 - val_loss: 0.2833\n",
      "Epoch 4/20\n",
      "55000/55000 [==============================] - 5s 86us/sample - loss: 0.2848 - val_loss: 0.2812\n",
      "Epoch 5/20\n",
      "55000/55000 [==============================] - 5s 85us/sample - loss: 0.2831 - val_loss: 0.2800\n",
      "Epoch 6/20\n",
      "55000/55000 [==============================] - 5s 88us/sample - loss: 0.2819 - val_loss: 0.2790\n",
      "Epoch 7/20\n",
      "55000/55000 [==============================] - 5s 88us/sample - loss: 0.2809 - val_loss: 0.2774\n",
      "Epoch 8/20\n",
      "55000/55000 [==============================] - 5s 86us/sample - loss: 0.2801 - val_loss: 0.2773\n",
      "Epoch 9/20\n",
      "55000/55000 [==============================] - 5s 89us/sample - loss: 0.2795 - val_loss: 0.2765\n",
      "Epoch 10/20\n",
      "55000/55000 [==============================] - 5s 86us/sample - loss: 0.2790 - val_loss: 0.2760\n",
      "Epoch 11/20\n",
      "55000/55000 [==============================] - 5s 86us/sample - loss: 0.2787 - val_loss: 0.2759\n",
      "Epoch 12/20\n",
      "55000/55000 [==============================] - 5s 90us/sample - loss: 0.2783 - val_loss: 0.2756\n",
      "Epoch 13/20\n",
      "55000/55000 [==============================] - 5s 94us/sample - loss: 0.2781 - val_loss: 0.2758\n",
      "Epoch 14/20\n",
      "55000/55000 [==============================] - 5s 95us/sample - loss: 0.2778 - val_loss: 0.2748\n",
      "Epoch 15/20\n",
      "55000/55000 [==============================] - 5s 87us/sample - loss: 0.2775 - val_loss: 0.2748\n",
      "Epoch 16/20\n",
      "55000/55000 [==============================] - 5s 88us/sample - loss: 0.2773 - val_loss: 0.2747\n",
      "Epoch 17/20\n",
      "55000/55000 [==============================] - 5s 88us/sample - loss: 0.2772 - val_loss: 0.2744\n",
      "Epoch 18/20\n",
      "55000/55000 [==============================] - 5s 97us/sample - loss: 0.2770 - val_loss: 0.2745\n",
      "Epoch 19/20\n",
      "55000/55000 [==============================] - 5s 88us/sample - loss: 0.2769 - val_loss: 0.2740\n",
      "Epoch 20/20\n",
      "55000/55000 [==============================] - 5s 89us/sample - loss: 0.2767 - val_loss: 0.2738\n"
     ]
    }
   ],
   "source": [
    "h = AC.fit(X_train_flat, X_train_flat, \n",
    "           epochs = 20, shuffle=True,\n",
    "           validation_data = (X_valid_flat, X_valid_flat))"
   ]
  },
  {
   "cell_type": "code",
   "execution_count": 59,
   "metadata": {},
   "outputs": [
    {
     "name": "stdout",
     "output_type": "stream",
     "text": [
      "Model: \"autocodificador\"\n",
      "_________________________________________________________________\n",
      "Layer (type)                 Output Shape              Param #   \n",
      "=================================================================\n",
      "codificador (Codificador)    multiple                  52320     \n",
      "_________________________________________________________________\n",
      "decodificador (Decodificador multiple                  53072     \n",
      "=================================================================\n",
      "Total params: 105,392\n",
      "Trainable params: 105,392\n",
      "Non-trainable params: 0\n",
      "_________________________________________________________________\n"
     ]
    }
   ],
   "source": [
    "AC.summary()"
   ]
  },
  {
   "cell_type": "code",
   "execution_count": 65,
   "metadata": {},
   "outputs": [
    {
     "data": {
      "text/plain": [
       "<matplotlib.axes._subplots.AxesSubplot at 0x14fcc8cf8>"
      ]
     },
     "execution_count": 65,
     "metadata": {},
     "output_type": "execute_result"
    },
    {
     "data": {
      "image/png": "[encoded data removed]",
      "text/plain": [
       "<Figure size 576x360 with 1 Axes>"
      ]
     },
     "metadata": {
      "needs_background": "light"
     },
     "output_type": "display_data"
    }
   ],
   "source": [
    "pd.DataFrame(h.history).plot(figsize = (8,5))"
   ]
  },
  {
   "cell_type": "code",
   "execution_count": 67,
   "metadata": {},
   "outputs": [
    {
     "name": "stderr",
     "output_type": "stream",
     "text": [
      "W0909 10:54:19.803369 4563617216 training_utils.py:1211] When passing input data as arrays, do not specify `steps_per_epoch`/`steps` argument. Please use `batch_size` instead.\n"
     ]
    },
    {
     "data": {
      "image/png": "[encoded data removed]",
      "text/plain": [
       "<Figure size 1440x288 with 20 Axes>"
      ]
     },
     "metadata": {
      "needs_background": "light"
     },
     "output_type": "display_data"
    }
   ],
   "source": [
    "show_results(AC, X_test_flat)"
   ]
  },
  {
   "cell_type": "markdown",
   "metadata": {},
   "source": [
    "#### Uma _segunda_ versao OO de um Autocodificador"
   ]
  },
  {
   "cell_type": "code",
   "execution_count": 27,
   "metadata": {},
   "outputs": [],
   "source": [
    "class CodificadorModel(keras.Model):\n",
    "\n",
    "    def __init__(self,\n",
    "               latent_dim=32,\n",
    "               inter_dim=64,\n",
    "               name='codificador',\n",
    "               **kwargs):\n",
    "        super(CodificadorModel, self).__init__(name=name, **kwargs)\n",
    "        self.h1 = keras.layers.Dense(inter_dim, activation='relu')\n",
    "        self.h2 = keras.layers.Dense(latent_dim, activation='relu')\n",
    "        \n",
    "    def call(self, inputs):\n",
    "        x = self.h1(inputs)\n",
    "        return self.h2(x)"
   ]
  },
  {
   "cell_type": "code",
   "execution_count": 28,
   "metadata": {},
   "outputs": [],
   "source": [
    "class DecodificadorModel(keras.Model):\n",
    "\n",
    "    def __init__(self,\n",
    "               out_dim,\n",
    "               inter_dim=64,\n",
    "               name='decodificador',\n",
    "               **kwargs):\n",
    "        super(DecodificadorModel, self).__init__(name=name, **kwargs)\n",
    "        self.h1 = keras.layers.Dense(inter_dim, activation='relu')\n",
    "        self.h2 = keras.layers.Dense(out_dim, activation='sigmoid')\n",
    "\n",
    "    def call(self, inputs):\n",
    "        x = self.h1(inputs)\n",
    "        return self.h2(x)"
   ]
  },
  {
   "cell_type": "code",
   "execution_count": 29,
   "metadata": {},
   "outputs": [],
   "source": [
    "class AutoCodificador2(keras.Model):\n",
    "    def __init__(self,\n",
    "               input_dim,\n",
    "               inter_dim=64,\n",
    "               latent_dim=32,\n",
    "               name='autocodificador',\n",
    "               **kwargs):\n",
    "        super(AutoCodificador2, self).__init__(name=name, **kwargs)\n",
    "        self.input_dim = input_dim\n",
    "        self.codificador = CodificadorModel(latent_dim=latent_dim, inter_dim=inter_dim)\n",
    "        self.decodificador = DecodificadorModel(input_dim, inter_dim=inter_dim)\n",
    "\n",
    "    def call(self, inputs):\n",
    "        z = self.codificador(inputs)\n",
    "        reconstructed = self.decodificador(z)\n",
    "        return reconstructed"
   ]
  },
  {
   "cell_type": "code",
   "execution_count": 30,
   "metadata": {},
   "outputs": [],
   "source": [
    "X_train_flat = X_train.reshape(-1, 784)\n",
    "X_test_flat = X_test.reshape(-1, 784)\n",
    "X_valid_flat = X_valid.reshape(-1, 784)"
   ]
  },
  {
   "cell_type": "code",
   "execution_count": 31,
   "metadata": {},
   "outputs": [],
   "source": [
    "input_dim = 784\n",
    "AC2 = AutoCodificador2(input_dim, 64, 32)\n",
    "\n",
    "AC2.compile(optimizer='adam', loss='binary_crossentropy')"
   ]
  },
  {
   "cell_type": "code",
   "execution_count": 32,
   "metadata": {},
   "outputs": [
    {
     "name": "stderr",
     "output_type": "stream",
     "text": [
      "W0909 15:35:29.971060 4553237952 training_utils.py:1211] When passing input data as arrays, do not specify `steps_per_epoch`/`steps` argument. Please use `batch_size` instead.\n"
     ]
    },
    {
     "name": "stdout",
     "output_type": "stream",
     "text": [
      "Epoch 1/10\n",
      "55000/55000 [==============================] - 5s 98us/sample - loss: 0.3227 - val_loss: 0.2965\n",
      "Epoch 2/10\n",
      "55000/55000 [==============================] - 5s 85us/sample - loss: 0.2935 - val_loss: 0.2870\n",
      "Epoch 3/10\n",
      "55000/55000 [==============================] - 4s 82us/sample - loss: 0.2877 - val_loss: 0.2836\n",
      "Epoch 4/10\n",
      "55000/55000 [==============================] - 4s 79us/sample - loss: 0.2848 - val_loss: 0.2808\n",
      "Epoch 5/10\n",
      "55000/55000 [==============================] - 5s 87us/sample - loss: 0.2830 - val_loss: 0.2798\n",
      "Epoch 6/10\n",
      "55000/55000 [==============================] - 5s 96us/sample - loss: 0.2818 - val_loss: 0.2786\n",
      "Epoch 7/10\n",
      "55000/55000 [==============================] - 5s 90us/sample - loss: 0.2809 - val_loss: 0.2776\n",
      "Epoch 8/10\n",
      "55000/55000 [==============================] - 5s 89us/sample - loss: 0.2801 - val_loss: 0.2771\n",
      "Epoch 9/10\n",
      "55000/55000 [==============================] - 5s 85us/sample - loss: 0.2795 - val_loss: 0.2764\n",
      "Epoch 10/10\n",
      "55000/55000 [==============================] - 5s 89us/sample - loss: 0.2789 - val_loss: 0.2757\n"
     ]
    }
   ],
   "source": [
    "h = AC2.fit(X_train_flat, X_train_flat, \n",
    "           epochs = 10, shuffle=True,\n",
    "           validation_data = (X_valid_flat, X_valid_flat))"
   ]
  },
  {
   "cell_type": "code",
   "execution_count": 33,
   "metadata": {},
   "outputs": [
    {
     "name": "stderr",
     "output_type": "stream",
     "text": [
      "W0909 15:36:18.588220 4553237952 training_utils.py:1211] When passing input data as arrays, do not specify `steps_per_epoch`/`steps` argument. Please use `batch_size` instead.\n"
     ]
    },
    {
     "data": {
      "image/png": "[encoded data removed]",
      "text/plain": [
       "<Figure size 1440x288 with 20 Axes>"
      ]
     },
     "metadata": {
      "needs_background": "light"
     },
     "output_type": "display_data"
    }
   ],
   "source": [
    "show_results(AC2, X_test_flat)"
   ]
  },
  {
   "cell_type": "code",
   "execution_count": 34,
   "metadata": {},
   "outputs": [
    {
     "name": "stdout",
     "output_type": "stream",
     "text": [
      "Model: \"autocodificador\"\n",
      "_________________________________________________________________\n",
      "Layer (type)                 Output Shape              Param #   \n",
      "=================================================================\n",
      "codificador (CodificadorMode multiple                  52320     \n",
      "_________________________________________________________________\n",
      "decodificador (Decodificador multiple                  53072     \n",
      "=================================================================\n",
      "Total params: 105,392\n",
      "Trainable params: 105,392\n",
      "Non-trainable params: 0\n",
      "_________________________________________________________________\n"
     ]
    }
   ],
   "source": [
    "AC2.summary()"
   ]
  },
  {
   "cell_type": "code",
   "execution_count": 35,
   "metadata": {},
   "outputs": [
    {
     "name": "stdout",
     "output_type": "stream",
     "text": [
      "Model: \"codificador\"\n",
      "_________________________________________________________________\n",
      "Layer (type)                 Output Shape              Param #   \n",
      "=================================================================\n",
      "dense_9 (Dense)              multiple                  50240     \n",
      "_________________________________________________________________\n",
      "dense_10 (Dense)             multiple                  2080      \n",
      "=================================================================\n",
      "Total params: 52,320\n",
      "Trainable params: 52,320\n",
      "Non-trainable params: 0\n",
      "_________________________________________________________________\n"
     ]
    }
   ],
   "source": [
    "AC2.codificador.summary()"
   ]
  },
  {
   "cell_type": "code",
   "execution_count": 36,
   "metadata": {},
   "outputs": [
    {
     "name": "stdout",
     "output_type": "stream",
     "text": [
      "Model: \"decodificador\"\n",
      "_________________________________________________________________\n",
      "Layer (type)                 Output Shape              Param #   \n",
      "=================================================================\n",
      "dense_11 (Dense)             multiple                  2112      \n",
      "_________________________________________________________________\n",
      "dense_12 (Dense)             multiple                  50960     \n",
      "=================================================================\n",
      "Total params: 53,072\n",
      "Trainable params: 53,072\n",
      "Non-trainable params: 0\n",
      "_________________________________________________________________\n"
     ]
    }
   ],
   "source": [
    "AC2.decodificador.summary()"
   ]
  },
  {
   "cell_type": "code",
   "execution_count": 37,
   "metadata": {},
   "outputs": [
    {
     "data": {
      "text/plain": [
       "array([[ 408.37045, 1685.7874 , 1047.9489 , ...,  503.4626 ,  954.8291 ,\n",
       "        1056.1184 ],\n",
       "       [1531.821  , 1517.3966 ,  994.04504, ...,  830.195  , 1608.667  ,\n",
       "         538.6834 ],\n",
       "       [ 706.51855, 2005.4934 ,  264.63602, ..., 1498.9434 , 1679.512  ,\n",
       "         865.2439 ],\n",
       "       ...,\n",
       "       [ 552.08875,  476.03812,  511.4279 , ...,  818.1265 ,   64.44817,\n",
       "         616.2263 ],\n",
       "       [ 331.77658, 1610.73   ,  505.1539 , ...,  536.7629 , 1299.4698 ,\n",
       "         328.71622],\n",
       "       [ 357.6492 ,  472.1714 ,  522.478  , ...,  165.64249,  393.19507,\n",
       "         623.5111 ]], dtype=float32)"
      ]
     },
     "execution_count": 37,
     "metadata": {},
     "output_type": "execute_result"
    }
   ],
   "source": [
    "AC2.codificador.predict(X_test_flat)"
   ]
  },
  {
   "cell_type": "markdown",
   "metadata": {},
   "source": [
    "#### Keras em _eager mode_"
   ]
  },
  {
   "cell_type": "code",
   "execution_count": 52,
   "metadata": {},
   "outputs": [],
   "source": [
    "AC3 = AutoCodificador2(input_dim, 64, 32) #, dynamic = True)\n",
    "\n",
    "AC3.compile(optimizer='adam', loss='binary_crossentropy', run_eagerly = True)"
   ]
  },
  {
   "cell_type": "code",
   "execution_count": 53,
   "metadata": {},
   "outputs": [
    {
     "name": "stderr",
     "output_type": "stream",
     "text": [
      "W0909 15:48:27.914067 4553237952 training_utils.py:1211] When passing input data as arrays, do not specify `steps_per_epoch`/`steps` argument. Please use `batch_size` instead.\n"
     ]
    },
    {
     "name": "stdout",
     "output_type": "stream",
     "text": [
      "Epoch 1/2\n",
      "55000/55000 [==============================] - 26s 480us/sample - loss: 0.3233 - val_loss: 0.2949\n",
      "Epoch 2/2\n",
      "55000/55000 [==============================] - 26s 477us/sample - loss: 0.2929 - val_loss: 0.2870\n"
     ]
    }
   ],
   "source": [
    "h = AC3.fit(X_train_flat, X_train_flat, \n",
    "           epochs = 2, shuffle=True,\n",
    "           validation_data = (X_valid_flat, X_valid_flat))"
   ]
  },
  {
   "cell_type": "markdown",
   "metadata": {},
   "source": [
    "#### Meu próprio mecanimo de treino"
   ]
  },
  {
   "cell_type": "code",
   "execution_count": 177,
   "metadata": {},
   "outputs": [],
   "source": [
    "class AutoCodificador3(keras.Model):\n",
    "    def __init__(self,\n",
    "               input_dim,\n",
    "               inter_dim=64,\n",
    "               latent_dim=32,\n",
    "               name='autocodificador',\n",
    "               **kwargs):\n",
    "        super(AutoCodificador3, self).__init__(name=name, **kwargs)\n",
    "        self.input_dim = input_dim\n",
    "        self.codificador = CodificadorModel(latent_dim=latent_dim, inter_dim=inter_dim)\n",
    "        self.decodificador = DecodificadorModel(input_dim, inter_dim=inter_dim)\n",
    "        self.opt = tf.optimizers.SGD(learning_rate=0.1, momentum=0.9)\n",
    "        \n",
    "    def call(self, inputs):\n",
    "        z = self.codificador(inputs)\n",
    "        reconstructed = self.decodificador(z)\n",
    "        return reconstructed\n",
    "    \n",
    "    def loss(self, X):\n",
    "        code = self.call(X)\n",
    "        rec_error = tf.reduce_mean(tf.square(tf.subtract(code, X)))\n",
    "        return rec_error        \n",
    "    \n",
    "    def compile(self, optimizer = None):\n",
    "        if optimizer is not None:\n",
    "            self.opt = optimizer\n",
    "        return\n",
    "    \n",
    "    #@tf.function\n",
    "    def fit(self, X_train, epochs = 10, batch_size = 32):\n",
    "        training_db = tf.data.Dataset.from_tensor_slices(X_train).batch(batch_size)\n",
    "        for epoch in range(epochs):\n",
    "            # tf.print('epoch: %d' % (epoch))\n",
    "            print('epoch: %d' % (epoch))\n",
    "            for step, X_batch in enumerate(training_db):\n",
    "                with tf.GradientTape() as tape:\n",
    "                    gradients = tape.gradient(self.loss(X_batch), self.trainable_variables)\n",
    "                    gradient_vars = zip(gradients, self.trainable_variables)\n",
    "                    self.opt.apply_gradients(gradient_vars) \n",
    "                if step == 0:\n",
    "                    show_results(self, X_batch.numpy()[:10]) # so modo eager -- plt nao eh compilada por TF\n",
    "        # tf.print('last batch of epoch: %d' % (epoch))\n",
    "        print('last batch of epoch: %d' % (epoch))\n",
    "        #show_results(self, X_batch.numpy()[:10]) # erro com @tf.function --> X_batch tem que ser iniciado antes do loop\n",
    "        return"
   ]
  },
  {
   "cell_type": "code",
   "execution_count": 178,
   "metadata": {},
   "outputs": [],
   "source": [
    "AC3 = AutoCodificador3(input_dim, 64, 32) "
   ]
  },
  {
   "cell_type": "code",
   "execution_count": 179,
   "metadata": {},
   "outputs": [],
   "source": [
    "opt = tf.optimizers.SGD(learning_rate=0.1, momentum=0.9)\n",
    "\n",
    "AC3.compile(optimizer = opt)"
   ]
  },
  {
   "cell_type": "code",
   "execution_count": 180,
   "metadata": {},
   "outputs": [],
   "source": [
    "X_train_flat_tf = tf.constant(X_train_flat, dtype=tf.float32) # necessario pois X_train_flat eh np.float64 != tf.float32 (64x32)"
   ]
  },
  {
   "cell_type": "code",
   "execution_count": 182,
   "metadata": {},
   "outputs": [
    {
     "name": "stdout",
     "output_type": "stream",
     "text": [
      "epoch: 0\n"
     ]
    },
    {
     "data": {
      "image/png": "[encoded data removed]",
      "text/plain": [
       "<Figure size 1440x288 with 20 Axes>"
      ]
     },
     "metadata": {
      "needs_background": "light"
     },
     "output_type": "display_data"
    },
    {
     "name": "stdout",
     "output_type": "stream",
     "text": [
      "epoch: 1\n"
     ]
    },
    {
     "data": {
      "image/png": "[encoded data removed]",
      "text/plain": [
       "<Figure size 1440x288 with 20 Axes>"
      ]
     },
     "metadata": {
      "needs_background": "light"
     },
     "output_type": "display_data"
    },
    {
     "name": "stdout",
     "output_type": "stream",
     "text": [
      "last batch of epoch: 1\n"
     ]
    }
   ],
   "source": [
    "AC3.fit(X_train_flat_tf, epochs = 2)"
   ]
  },
  {
   "cell_type": "code",
   "execution_count": 318,
   "metadata": {},
   "outputs": [],
   "source": [
    "class AutoCodificador4(keras.Model):\n",
    "    def __init__(self,\n",
    "               input_dim,\n",
    "               inter_dim=64,\n",
    "               latent_dim=32,\n",
    "               name='autocodificador',\n",
    "               **kwargs):\n",
    "        super(AutoCodificador4, self).__init__(name=name, **kwargs)\n",
    "        self.input_dim = input_dim\n",
    "        self.codificador = CodificadorModel(latent_dim=latent_dim, inter_dim=inter_dim)\n",
    "        self.decodificador = DecodificadorModel(input_dim, inter_dim=inter_dim)\n",
    "        self.opt = tf.optimizers.SGD(learning_rate=0.1, momentum=0.9)\n",
    "        \n",
    "    def call(self, inputs):\n",
    "        z = self.codificador(inputs)\n",
    "        reconstructed = self.decodificador(z)\n",
    "        return reconstructed\n",
    "    \n",
    "    def loss(self, X):\n",
    "        code = self.call(X)\n",
    "        rec_error = tf.reduce_mean(tf.square(tf.subtract(code, X)))\n",
    "        return rec_error        \n",
    "    \n",
    "    def compile(self, optimizer = None):\n",
    "        if optimizer is not None:\n",
    "            self.opt = optimizer\n",
    "        return\n",
    "    \n",
    "    @tf.function\n",
    "    def fit(self, X_train, epochs = 10, batch_size = 32):\n",
    "        training_db = tf.data.Dataset.from_tensor_slices(X_train).batch(batch_size)\n",
    "        num_batches = len(X_train) // batch_size\n",
    "        \n",
    "        writer = tf.summary.create_file_writer('tmp')\n",
    "        with writer.as_default():\n",
    "            with tf.summary.record_if(True):\n",
    "                for epoch in range(epochs):\n",
    "                    for step, X_batch in enumerate(training_db):\n",
    "                        with tf.GradientTape() as tape:\n",
    "                            gradients = tape.gradient(self.loss(X_batch), self.trainable_variables)\n",
    "                            gradient_vars = zip(gradients, self.trainable_variables)\n",
    "                            self.opt.apply_gradients(gradient_vars) \n",
    "                        loss_values = self.loss(X_batch)\n",
    "                        g_step = step + num_batches * epoch\n",
    "                        tf.summary.scalar('loss', loss_values, step=g_step)\n",
    "                    X_batch_img = tf.reshape(X_batch, (X_batch.shape[0], 28, 28, 1))\n",
    "                    X_batch_rec = tf.reshape(self.call(tf.Variable(X_batch)), (X_batch.shape[0], 28, 28, 1))\n",
    "                    tf.summary.image('original', X_batch_img, max_outputs=10, step=g_step)\n",
    "                    tf.summary.image('reconstructed', X_batch_rec, max_outputs=10, step=g_step)\n",
    "        return"
   ]
  },
  {
   "cell_type": "code",
   "execution_count": 319,
   "metadata": {},
   "outputs": [],
   "source": [
    "!\\rm -r tmp"
   ]
  },
  {
   "cell_type": "code",
   "execution_count": 320,
   "metadata": {},
   "outputs": [],
   "source": [
    "AC4 = AutoCodificador4(input_dim, 64, 32) "
   ]
  },
  {
   "cell_type": "code",
   "execution_count": 321,
   "metadata": {},
   "outputs": [],
   "source": [
    "opt = tf.optimizers.SGD(learning_rate=0.1, momentum=0.9)\n",
    "\n",
    "AC4.compile(optimizer = opt)"
   ]
  },
  {
   "cell_type": "code",
   "execution_count": 322,
   "metadata": {},
   "outputs": [
    {
     "ename": "StagingError",
     "evalue": "in converted code:\n\n    <ipython-input-318-19cfe0f9a534>:39 fit  *\n        for step, X_batch in enumerate(training_db):\n\n    UnboundLocalError: local variable 'X_batch' referenced before assignment\n",
     "output_type": "error",
     "traceback": [
      "\u001b[0;31m---------------------------------------------------------------------------\u001b[0m",
      "\u001b[0;31mStagingError\u001b[0m                              Traceback (most recent call last)",
      "\u001b[0;32m<ipython-input-322-40d3952e27e5>\u001b[0m in \u001b[0;36m<module>\u001b[0;34m\u001b[0m\n\u001b[0;32m----> 1\u001b[0;31m \u001b[0mAC4\u001b[0m\u001b[0;34m.\u001b[0m\u001b[0mfit\u001b[0m\u001b[0;34m(\u001b[0m\u001b[0mX_train_flat_tf\u001b[0m\u001b[0;34m,\u001b[0m \u001b[0mepochs\u001b[0m \u001b[0;34m=\u001b[0m \u001b[0;36m2\u001b[0m\u001b[0;34m)\u001b[0m\u001b[0;34m\u001b[0m\u001b[0m\n\u001b[0m",
      "\u001b[0;32m~/.local/lib/python3.6/site-packages/tensorflow_core/python/eager/def_function.py\u001b[0m in \u001b[0;36m__call__\u001b[0;34m(self, *args, **kwds)\u001b[0m\n\u001b[1;32m    447\u001b[0m     \u001b[0;31m# This is the first call of __call__, so we have to initialize.\u001b[0m\u001b[0;34m\u001b[0m\u001b[0;34m\u001b[0m\u001b[0m\n\u001b[1;32m    448\u001b[0m     \u001b[0minitializer_map\u001b[0m \u001b[0;34m=\u001b[0m \u001b[0mobject_identity\u001b[0m\u001b[0;34m.\u001b[0m\u001b[0mObjectIdentityDictionary\u001b[0m\u001b[0;34m(\u001b[0m\u001b[0;34m)\u001b[0m\u001b[0;34m\u001b[0m\u001b[0m\n\u001b[0;32m--> 449\u001b[0;31m     \u001b[0mself\u001b[0m\u001b[0;34m.\u001b[0m\u001b[0m_initialize\u001b[0m\u001b[0;34m(\u001b[0m\u001b[0margs\u001b[0m\u001b[0;34m,\u001b[0m \u001b[0mkwds\u001b[0m\u001b[0;34m,\u001b[0m \u001b[0madd_initializers_to\u001b[0m\u001b[0;34m=\u001b[0m\u001b[0minitializer_map\u001b[0m\u001b[0;34m)\u001b[0m\u001b[0;34m\u001b[0m\u001b[0m\n\u001b[0m\u001b[1;32m    450\u001b[0m     \u001b[0;32mif\u001b[0m \u001b[0mself\u001b[0m\u001b[0;34m.\u001b[0m\u001b[0m_created_variables\u001b[0m\u001b[0;34m:\u001b[0m\u001b[0;34m\u001b[0m\u001b[0m\n\u001b[1;32m    451\u001b[0m       \u001b[0;32mtry\u001b[0m\u001b[0;34m:\u001b[0m\u001b[0;34m\u001b[0m\u001b[0m\n",
      "\u001b[0;32m~/.local/lib/python3.6/site-packages/tensorflow_core/python/eager/def_function.py\u001b[0m in \u001b[0;36m_initialize\u001b[0;34m(self, args, kwds, add_initializers_to)\u001b[0m\n\u001b[1;32m    390\u001b[0m     self._concrete_stateful_fn = (\n\u001b[1;32m    391\u001b[0m         self._stateful_fn._get_concrete_function_internal_garbage_collected(  # pylint: disable=protected-access\n\u001b[0;32m--> 392\u001b[0;31m             *args, **kwds))\n\u001b[0m\u001b[1;32m    393\u001b[0m \u001b[0;34m\u001b[0m\u001b[0m\n\u001b[1;32m    394\u001b[0m     \u001b[0;32mdef\u001b[0m \u001b[0minvalid_creator_scope\u001b[0m\u001b[0;34m(\u001b[0m\u001b[0;34m*\u001b[0m\u001b[0munused_args\u001b[0m\u001b[0;34m,\u001b[0m \u001b[0;34m**\u001b[0m\u001b[0munused_kwds\u001b[0m\u001b[0;34m)\u001b[0m\u001b[0;34m:\u001b[0m\u001b[0;34m\u001b[0m\u001b[0m\n",
      "\u001b[0;32m~/.local/lib/python3.6/site-packages/tensorflow_core/python/eager/function.py\u001b[0m in \u001b[0;36m_get_concrete_function_internal_garbage_collected\u001b[0;34m(self, *args, **kwargs)\u001b[0m\n\u001b[1;32m   1804\u001b[0m     \u001b[0;32mif\u001b[0m \u001b[0mself\u001b[0m\u001b[0;34m.\u001b[0m\u001b[0minput_signature\u001b[0m\u001b[0;34m:\u001b[0m\u001b[0;34m\u001b[0m\u001b[0m\n\u001b[1;32m   1805\u001b[0m       \u001b[0margs\u001b[0m\u001b[0;34m,\u001b[0m \u001b[0mkwargs\u001b[0m \u001b[0;34m=\u001b[0m \u001b[0;32mNone\u001b[0m\u001b[0;34m,\u001b[0m \u001b[0;32mNone\u001b[0m\u001b[0;34m\u001b[0m\u001b[0m\n\u001b[0;32m-> 1806\u001b[0;31m     \u001b[0mgraph_function\u001b[0m\u001b[0;34m,\u001b[0m \u001b[0m_\u001b[0m\u001b[0;34m,\u001b[0m \u001b[0m_\u001b[0m \u001b[0;34m=\u001b[0m \u001b[0mself\u001b[0m\u001b[0;34m.\u001b[0m\u001b[0m_maybe_define_function\u001b[0m\u001b[0;34m(\u001b[0m\u001b[0margs\u001b[0m\u001b[0;34m,\u001b[0m \u001b[0mkwargs\u001b[0m\u001b[0;34m)\u001b[0m\u001b[0;34m\u001b[0m\u001b[0m\n\u001b[0m\u001b[1;32m   1807\u001b[0m     \u001b[0;32mreturn\u001b[0m \u001b[0mgraph_function\u001b[0m\u001b[0;34m\u001b[0m\u001b[0m\n\u001b[1;32m   1808\u001b[0m \u001b[0;34m\u001b[0m\u001b[0m\n",
      "\u001b[0;32m~/.local/lib/python3.6/site-packages/tensorflow_core/python/eager/function.py\u001b[0m in \u001b[0;36m_maybe_define_function\u001b[0;34m(self, args, kwargs)\u001b[0m\n\u001b[1;32m   2104\u001b[0m         \u001b[0mgraph_function\u001b[0m \u001b[0;34m=\u001b[0m \u001b[0mself\u001b[0m\u001b[0;34m.\u001b[0m\u001b[0m_function_cache\u001b[0m\u001b[0;34m.\u001b[0m\u001b[0mprimary\u001b[0m\u001b[0;34m.\u001b[0m\u001b[0mget\u001b[0m\u001b[0;34m(\u001b[0m\u001b[0mcache_key\u001b[0m\u001b[0;34m,\u001b[0m \u001b[0;32mNone\u001b[0m\u001b[0;34m)\u001b[0m\u001b[0;34m\u001b[0m\u001b[0m\n\u001b[1;32m   2105\u001b[0m         \u001b[0;32mif\u001b[0m \u001b[0mgraph_function\u001b[0m \u001b[0;32mis\u001b[0m \u001b[0;32mNone\u001b[0m\u001b[0;34m:\u001b[0m\u001b[0;34m\u001b[0m\u001b[0m\n\u001b[0;32m-> 2106\u001b[0;31m           \u001b[0mgraph_function\u001b[0m \u001b[0;34m=\u001b[0m \u001b[0mself\u001b[0m\u001b[0;34m.\u001b[0m\u001b[0m_create_graph_function\u001b[0m\u001b[0;34m(\u001b[0m\u001b[0margs\u001b[0m\u001b[0;34m,\u001b[0m \u001b[0mkwargs\u001b[0m\u001b[0;34m)\u001b[0m\u001b[0;34m\u001b[0m\u001b[0m\n\u001b[0m\u001b[1;32m   2107\u001b[0m           \u001b[0mself\u001b[0m\u001b[0;34m.\u001b[0m\u001b[0m_function_cache\u001b[0m\u001b[0;34m.\u001b[0m\u001b[0mprimary\u001b[0m\u001b[0;34m[\u001b[0m\u001b[0mcache_key\u001b[0m\u001b[0;34m]\u001b[0m \u001b[0;34m=\u001b[0m \u001b[0mgraph_function\u001b[0m\u001b[0;34m\u001b[0m\u001b[0m\n\u001b[1;32m   2108\u001b[0m         \u001b[0;32mreturn\u001b[0m \u001b[0mgraph_function\u001b[0m\u001b[0;34m,\u001b[0m \u001b[0margs\u001b[0m\u001b[0;34m,\u001b[0m \u001b[0mkwargs\u001b[0m\u001b[0;34m\u001b[0m\u001b[0m\n",
      "\u001b[0;32m~/.local/lib/python3.6/site-packages/tensorflow_core/python/eager/function.py\u001b[0m in \u001b[0;36m_create_graph_function\u001b[0;34m(self, args, kwargs, override_flat_arg_shapes)\u001b[0m\n\u001b[1;32m   1995\u001b[0m             \u001b[0marg_names\u001b[0m\u001b[0;34m=\u001b[0m\u001b[0marg_names\u001b[0m\u001b[0;34m,\u001b[0m\u001b[0;34m\u001b[0m\u001b[0m\n\u001b[1;32m   1996\u001b[0m             \u001b[0moverride_flat_arg_shapes\u001b[0m\u001b[0;34m=\u001b[0m\u001b[0moverride_flat_arg_shapes\u001b[0m\u001b[0;34m,\u001b[0m\u001b[0;34m\u001b[0m\u001b[0m\n\u001b[0;32m-> 1997\u001b[0;31m             capture_by_value=self._capture_by_value),\n\u001b[0m\u001b[1;32m   1998\u001b[0m         \u001b[0mself\u001b[0m\u001b[0;34m.\u001b[0m\u001b[0m_function_attributes\u001b[0m\u001b[0;34m,\u001b[0m\u001b[0;34m\u001b[0m\u001b[0m\n\u001b[1;32m   1999\u001b[0m         \u001b[0;31m# Tell the ConcreteFunction to clean up its graph once it goes out of\u001b[0m\u001b[0;34m\u001b[0m\u001b[0;34m\u001b[0m\u001b[0m\n",
      "\u001b[0;32m~/.local/lib/python3.6/site-packages/tensorflow_core/python/framework/func_graph.py\u001b[0m in \u001b[0;36mfunc_graph_from_py_func\u001b[0;34m(name, python_func, args, kwargs, signature, func_graph, autograph, autograph_options, add_control_dependencies, arg_names, op_return_value, collections, capture_by_value, override_flat_arg_shapes)\u001b[0m\n\u001b[1;32m    882\u001b[0m                                           converted_func)\n\u001b[1;32m    883\u001b[0m \u001b[0;34m\u001b[0m\u001b[0m\n\u001b[0;32m--> 884\u001b[0;31m       \u001b[0mfunc_outputs\u001b[0m \u001b[0;34m=\u001b[0m \u001b[0mpython_func\u001b[0m\u001b[0;34m(\u001b[0m\u001b[0;34m*\u001b[0m\u001b[0mfunc_args\u001b[0m\u001b[0;34m,\u001b[0m \u001b[0;34m**\u001b[0m\u001b[0mfunc_kwargs\u001b[0m\u001b[0;34m)\u001b[0m\u001b[0;34m\u001b[0m\u001b[0m\n\u001b[0m\u001b[1;32m    885\u001b[0m \u001b[0;34m\u001b[0m\u001b[0m\n\u001b[1;32m    886\u001b[0m       \u001b[0;31m# invariant: `func_outputs` contains only Tensors, CompositeTensors,\u001b[0m\u001b[0;34m\u001b[0m\u001b[0;34m\u001b[0m\u001b[0m\n",
      "\u001b[0;32m~/.local/lib/python3.6/site-packages/tensorflow_core/python/eager/def_function.py\u001b[0m in \u001b[0;36mwrapped_fn\u001b[0;34m(*args, **kwds)\u001b[0m\n\u001b[1;32m    333\u001b[0m         \u001b[0;31m# __wrapped__ allows AutoGraph to swap in a converted function. We give\u001b[0m\u001b[0;34m\u001b[0m\u001b[0;34m\u001b[0m\u001b[0m\n\u001b[1;32m    334\u001b[0m         \u001b[0;31m# the function a weak reference to itself to avoid a reference cycle.\u001b[0m\u001b[0;34m\u001b[0m\u001b[0;34m\u001b[0m\u001b[0m\n\u001b[0;32m--> 335\u001b[0;31m         \u001b[0;32mreturn\u001b[0m \u001b[0mweak_wrapped_fn\u001b[0m\u001b[0;34m(\u001b[0m\u001b[0;34m)\u001b[0m\u001b[0;34m.\u001b[0m\u001b[0m__wrapped__\u001b[0m\u001b[0;34m(\u001b[0m\u001b[0;34m*\u001b[0m\u001b[0margs\u001b[0m\u001b[0;34m,\u001b[0m \u001b[0;34m**\u001b[0m\u001b[0mkwds\u001b[0m\u001b[0;34m)\u001b[0m\u001b[0;34m\u001b[0m\u001b[0m\n\u001b[0m\u001b[1;32m    336\u001b[0m     \u001b[0mweak_wrapped_fn\u001b[0m \u001b[0;34m=\u001b[0m \u001b[0mweakref\u001b[0m\u001b[0;34m.\u001b[0m\u001b[0mref\u001b[0m\u001b[0;34m(\u001b[0m\u001b[0mwrapped_fn\u001b[0m\u001b[0;34m)\u001b[0m\u001b[0;34m\u001b[0m\u001b[0m\n\u001b[1;32m    337\u001b[0m \u001b[0;34m\u001b[0m\u001b[0m\n",
      "\u001b[0;32m~/.local/lib/python3.6/site-packages/tensorflow_core/python/eager/function.py\u001b[0m in \u001b[0;36mbound_method_wrapper\u001b[0;34m(*args, **kwargs)\u001b[0m\n\u001b[1;32m   2612\u001b[0m     \u001b[0;31m# However, the replacer is still responsible for attaching self properly.\u001b[0m\u001b[0;34m\u001b[0m\u001b[0;34m\u001b[0m\u001b[0m\n\u001b[1;32m   2613\u001b[0m     \u001b[0;31m# TODO(mdan): Is it possible to do it here instead?\u001b[0m\u001b[0;34m\u001b[0m\u001b[0;34m\u001b[0m\u001b[0m\n\u001b[0;32m-> 2614\u001b[0;31m     \u001b[0;32mreturn\u001b[0m \u001b[0mwrapped_fn\u001b[0m\u001b[0;34m(\u001b[0m\u001b[0;34m*\u001b[0m\u001b[0margs\u001b[0m\u001b[0;34m,\u001b[0m \u001b[0;34m**\u001b[0m\u001b[0mkwargs\u001b[0m\u001b[0;34m)\u001b[0m\u001b[0;34m\u001b[0m\u001b[0m\n\u001b[0m\u001b[1;32m   2615\u001b[0m   \u001b[0mweak_bound_method_wrapper\u001b[0m \u001b[0;34m=\u001b[0m \u001b[0mweakref\u001b[0m\u001b[0;34m.\u001b[0m\u001b[0mref\u001b[0m\u001b[0;34m(\u001b[0m\u001b[0mbound_method_wrapper\u001b[0m\u001b[0;34m)\u001b[0m\u001b[0;34m\u001b[0m\u001b[0m\n\u001b[1;32m   2616\u001b[0m \u001b[0;34m\u001b[0m\u001b[0m\n",
      "\u001b[0;32m~/.local/lib/python3.6/site-packages/tensorflow_core/python/framework/func_graph.py\u001b[0m in \u001b[0;36mwrapper\u001b[0;34m(*args, **kwargs)\u001b[0m\n\u001b[1;32m    872\u001b[0m           \u001b[0;32mexcept\u001b[0m \u001b[0mException\u001b[0m \u001b[0;32mas\u001b[0m \u001b[0me\u001b[0m\u001b[0;34m:\u001b[0m  \u001b[0;31m# pylint:disable=broad-except\u001b[0m\u001b[0;34m\u001b[0m\u001b[0m\n\u001b[1;32m    873\u001b[0m             \u001b[0;32mif\u001b[0m \u001b[0mhasattr\u001b[0m\u001b[0;34m(\u001b[0m\u001b[0me\u001b[0m\u001b[0;34m,\u001b[0m \u001b[0;34m\"ag_error_metadata\"\u001b[0m\u001b[0;34m)\u001b[0m\u001b[0;34m:\u001b[0m\u001b[0;34m\u001b[0m\u001b[0m\n\u001b[0;32m--> 874\u001b[0;31m               \u001b[0;32mraise\u001b[0m \u001b[0me\u001b[0m\u001b[0;34m.\u001b[0m\u001b[0mag_error_metadata\u001b[0m\u001b[0;34m.\u001b[0m\u001b[0mto_exception\u001b[0m\u001b[0;34m(\u001b[0m\u001b[0me\u001b[0m\u001b[0;34m)\u001b[0m\u001b[0;34m\u001b[0m\u001b[0m\n\u001b[0m\u001b[1;32m    875\u001b[0m             \u001b[0;32melse\u001b[0m\u001b[0;34m:\u001b[0m\u001b[0;34m\u001b[0m\u001b[0m\n\u001b[1;32m    876\u001b[0m               \u001b[0;32mraise\u001b[0m\u001b[0;34m\u001b[0m\u001b[0m\n",
      "\u001b[0;31mStagingError\u001b[0m: in converted code:\n\n    <ipython-input-318-19cfe0f9a534>:39 fit  *\n        for step, X_batch in enumerate(training_db):\n\n    UnboundLocalError: local variable 'X_batch' referenced before assignment\n"
     ]
    }
   ],
   "source": [
    "AC4.fit(X_train_flat_tf, epochs = 2)"
   ]
  },
  {
   "cell_type": "code",
   "execution_count": 294,
   "metadata": {},
   "outputs": [
    {
     "name": "stdout",
     "output_type": "stream",
     "text": [
      "The tensorboard extension is already loaded. To reload it, use:\n",
      "  %reload_ext tensorboard\n"
     ]
    }
   ],
   "source": [
    "%load_ext tensorboard"
   ]
  },
  {
   "cell_type": "code",
   "execution_count": 295,
   "metadata": {},
   "outputs": [
    {
     "data": {
      "text/plain": [
       "Reusing TensorBoard on port 6006 (pid 32978), started 0:02:15 ago. (Use '!kill 32978' to kill it.)"
      ]
     },
     "metadata": {},
     "output_type": "display_data"
    },
    {
     "data": {
      "text/html": [
       "\n",
       "      <iframe id=\"tensorboard-frame-c7da58d232224d4a\" width=\"100%\" height=\"800\" frameborder=\"0\">\n",
       "      </iframe>\n",
       "      <script>\n",
       "        (function() {\n",
       "          const frame = document.getElementById(\"tensorboard-frame-c7da58d232224d4a\");\n",
       "          const url = new URL(\"/\", window.location);\n",
       "          url.port = 6006;\n",
       "          frame.src = url;\n",
       "        })();\n",
       "      </script>\n",
       "  "
      ],
      "text/plain": [
       "<IPython.core.display.HTML object>"
      ]
     },
     "metadata": {},
     "output_type": "display_data"
    }
   ],
   "source": [
    "%tensorboard --logdir=tmp"
   ]
  },
  {
   "cell_type": "code",
   "execution_count": null,
   "metadata": {},
   "outputs": [],
   "source": []
  }
 ],
 "metadata": {
  "kernelspec": {
   "display_name": "Python 3",
   "language": "python",
   "name": "python3"
  },
  "language_info": {
   "codemirror_mode": {
    "name": "ipython",
    "version": 3
   },
   "file_extension": ".py",
   "mimetype": "text/x-python",
   "name": "python",
   "nbconvert_exporter": "python",
   "pygments_lexer": "ipython3",
   "version": "3.7.5"
  }
 },
 "nbformat": 4,
 "nbformat_minor": 4
}
