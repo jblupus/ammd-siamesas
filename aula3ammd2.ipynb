{
 "cells": [
  {
   "cell_type": "markdown",
   "metadata": {},
   "source": [
    "# Treinando Redes Neurais usando Keras"
   ]
  },
  {
   "cell_type": "code",
   "execution_count": 1,
   "metadata": {},
   "outputs": [],
   "source": [
    "import tensorflow as tf\n",
    "from tensorflow import keras\n",
    "\n",
    "import numpy as np\n",
    "import pandas as pd\n",
    "import matplotlib.pyplot as plt\n",
    "%matplotlib inline\n",
    "\n",
    "# loading fashion mnist\n",
    "fashion_mnist = keras.datasets.fashion_mnist\n",
    "(X_train_full, y_train_full), (X_test, y_test) = fashion_mnist.load_data()\n",
    "\n",
    "# data normalization\n",
    "X_valid, X_train = X_train_full[:5000] / 255.0, X_train_full[5000:] / 255.0\n",
    "y_valid, y_train = y_train_full[:5000], y_train_full[5000:]"
   ]
  },
  {
   "cell_type": "code",
   "execution_count": 2,
   "metadata": {},
   "outputs": [],
   "source": [
    "X_input = keras.layers.Input(shape=[28, 28])\n",
    "\n",
    "h0    = keras.layers.Flatten()(X_input)\n",
    "h1    = keras.layers.Dense(300, activation=\"relu\")(h0)\n",
    "h2    = keras.layers.Dense(200, activation=\"relu\")(h1)\n",
    "h3    = keras.layers.Dense(100, activation=\"relu\")(h2)\n",
    "h4    = keras.layers.Dense( 50, activation=\"relu\")(h3)\n",
    "yhat  = keras.layers.Dense(10, activation=\"softmax\")(h4)\n",
    "model = keras.models.Model(inputs=[X_input], outputs=[yhat])\n",
    "\n",
    "model.compile(loss = \"sparse_categorical_crossentropy\",\n",
    "             optimizer = \"sgd\",\n",
    "             metrics = [\"accuracy\"])"
   ]
  },
  {
   "cell_type": "code",
   "execution_count": 3,
   "metadata": {},
   "outputs": [
    {
     "name": "stderr",
     "output_type": "stream",
     "text": [
      "WARNING: Logging before flag parsing goes to stderr.\n",
      "W0915 15:41:48.165146 4568876480 training_utils.py:1211] When passing input data as arrays, do not specify `steps_per_epoch`/`steps` argument. Please use `batch_size` instead.\n"
     ]
    },
    {
     "name": "stdout",
     "output_type": "stream",
     "text": [
      "Epoch 1/10\n"
     ]
    },
    {
     "name": "stderr",
     "output_type": "stream",
     "text": [
      "W0915 15:41:48.475170 4568876480 deprecation.py:323] From /Users/marcocristo/.local/lib/python3.6/site-packages/tensorflow_core/python/keras/optimizer_v2/optimizer_v2.py:468: BaseResourceVariable.constraint (from tensorflow.python.ops.resource_variable_ops) is deprecated and will be removed in a future version.\n",
      "Instructions for updating:\n",
      "Apply a constraint manually following the optimizer update step.\n"
     ]
    },
    {
     "name": "stdout",
     "output_type": "stream",
     "text": [
      "55000/55000 [==============================] - 6s 118us/sample - loss: 0.7432 - accuracy: 0.7514 - val_loss: 0.5027 - val_accuracy: 0.8242\n",
      "Epoch 2/10\n",
      "55000/55000 [==============================] - 6s 109us/sample - loss: 0.4807 - accuracy: 0.8298 - val_loss: 0.4423 - val_accuracy: 0.8452\n",
      "Epoch 3/10\n",
      "55000/55000 [==============================] - 6s 111us/sample - loss: 0.4254 - accuracy: 0.8497 - val_loss: 0.4265 - val_accuracy: 0.8434\n",
      "Epoch 4/10\n",
      "55000/55000 [==============================] - 6s 100us/sample - loss: 0.3911 - accuracy: 0.8580 - val_loss: 0.3991 - val_accuracy: 0.8558\n",
      "Epoch 5/10\n",
      "55000/55000 [==============================] - 5s 99us/sample - loss: 0.3660 - accuracy: 0.8681 - val_loss: 0.3651 - val_accuracy: 0.8698\n",
      "Epoch 6/10\n",
      "55000/55000 [==============================] - 5s 98us/sample - loss: 0.3474 - accuracy: 0.8749 - val_loss: 0.3502 - val_accuracy: 0.8718\n",
      "Epoch 7/10\n",
      "55000/55000 [==============================] - 6s 100us/sample - loss: 0.3330 - accuracy: 0.8790 - val_loss: 0.3528 - val_accuracy: 0.8768\n",
      "Epoch 8/10\n",
      "55000/55000 [==============================] - 5s 99us/sample - loss: 0.3194 - accuracy: 0.8834 - val_loss: 0.3255 - val_accuracy: 0.8850\n",
      "Epoch 9/10\n",
      "55000/55000 [==============================] - 5s 94us/sample - loss: 0.3081 - accuracy: 0.8875 - val_loss: 0.3159 - val_accuracy: 0.8822\n",
      "Epoch 10/10\n",
      "55000/55000 [==============================] - 6s 101us/sample - loss: 0.2983 - accuracy: 0.8907 - val_loss: 0.3710 - val_accuracy: 0.8674\n"
     ]
    }
   ],
   "source": [
    "h = model.fit(X_train, y_train, epochs = 10, \n",
    "             validation_data = (X_valid, y_valid))"
   ]
  },
  {
   "cell_type": "code",
   "execution_count": 4,
   "metadata": {},
   "outputs": [
    {
     "data": {
      "text/plain": [
       "<matplotlib.axes._subplots.AxesSubplot at 0x135927128>"
      ]
     },
     "execution_count": 4,
     "metadata": {},
     "output_type": "execute_result"
    },
    {
     "data": {
      "image/png": "[encoded data removed]",
      "text/plain": [
       "<Figure size 576x360 with 1 Axes>"
      ]
     },
     "metadata": {
      "needs_background": "light"
     },
     "output_type": "display_data"
    }
   ],
   "source": [
    "pd.DataFrame(h.history).plot(figsize = (8,5))"
   ]
  },
  {
   "cell_type": "markdown",
   "metadata": {},
   "source": [
    "## Inicialização"
   ]
  },
  {
   "cell_type": "markdown",
   "metadata": {},
   "source": [
    "Seja $f_{in}$ o número de neurônios na entrada da camada e $f_{out}$, o número na saída. As seguintes técnicas de inicialização são sugeridas:\n",
    "\n",
    "* __Glorot__: nada, tanh, logística, softmax; $\\sigma^2 = \\frac{1}{f_{avg}}; f_{avg} = \\frac{f_{in} + f_{out}}{2}$\n",
    "* __He__: relu, elu e variantes; $\\sigma^2 = \\frac{2}{f_{in}}$\n",
    "* __LeCun__: selu; $\\sigma^2 = \\frac{1}{f_{in}}$\n",
    "\n",
    "O default do Keras é Glorot com distribuição uniforme."
   ]
  },
  {
   "cell_type": "code",
   "execution_count": 3,
   "metadata": {},
   "outputs": [],
   "source": [
    "X_input = keras.layers.Input(shape=[28, 28])\n",
    "\n",
    "h0    = keras.layers.Flatten()(X_input)\n",
    "h1    = keras.layers.Dense(300, activation=\"relu\", kernel_initializer=\"he_normal\")(h0) # Usar He Normal com relu\n",
    "h2    = keras.layers.Dense(200, activation=\"relu\", kernel_initializer=\"he_normal\")(h1)\n",
    "h3    = keras.layers.Dense(100, activation=\"relu\", kernel_initializer=\"he_normal\")(h2)\n",
    "h4    = keras.layers.Dense( 50, activation=\"relu\", kernel_initializer=\"he_normal\")(h3)\n",
    "yhat  = keras.layers.Dense(10, activation=\"softmax\")(h4)\n",
    "model = keras.models.Model(inputs=[X_input], outputs=[yhat])\n",
    "\n",
    "model.compile(loss = \"sparse_categorical_crossentropy\",\n",
    "             optimizer = \"sgd\",\n",
    "             metrics = [\"accuracy\"])"
   ]
  },
  {
   "cell_type": "code",
   "execution_count": 6,
   "metadata": {},
   "outputs": [
    {
     "name": "stderr",
     "output_type": "stream",
     "text": [
      "W0915 15:42:45.092111 4568876480 training_utils.py:1211] When passing input data as arrays, do not specify `steps_per_epoch`/`steps` argument. Please use `batch_size` instead.\n"
     ]
    },
    {
     "name": "stdout",
     "output_type": "stream",
     "text": [
      "Epoch 1/10\n",
      "55000/55000 [==============================] - 7s 122us/sample - loss: 0.6733 - accuracy: 0.7715 - val_loss: 0.4638 - val_accuracy: 0.8402\n",
      "Epoch 2/10\n",
      "55000/55000 [==============================] - 6s 116us/sample - loss: 0.4490 - accuracy: 0.8419 - val_loss: 0.4389 - val_accuracy: 0.8426\n",
      "Epoch 3/10\n",
      "55000/55000 [==============================] - 6s 116us/sample - loss: 0.4012 - accuracy: 0.8574 - val_loss: 0.4150 - val_accuracy: 0.8490\n",
      "Epoch 4/10\n",
      "55000/55000 [==============================] - 6s 118us/sample - loss: 0.3724 - accuracy: 0.8674 - val_loss: 0.3717 - val_accuracy: 0.8618\n",
      "Epoch 5/10\n",
      "55000/55000 [==============================] - 6s 116us/sample - loss: 0.3508 - accuracy: 0.8743 - val_loss: 0.3635 - val_accuracy: 0.8704\n",
      "Epoch 6/10\n",
      "55000/55000 [==============================] - 6s 114us/sample - loss: 0.3324 - accuracy: 0.8807 - val_loss: 0.3518 - val_accuracy: 0.8768\n",
      "Epoch 7/10\n",
      "55000/55000 [==============================] - 6s 107us/sample - loss: 0.3185 - accuracy: 0.8847 - val_loss: 0.3457 - val_accuracy: 0.8784\n",
      "Epoch 8/10\n",
      "55000/55000 [==============================] - 6s 111us/sample - loss: 0.3073 - accuracy: 0.8876 - val_loss: 0.3221 - val_accuracy: 0.8834\n",
      "Epoch 9/10\n",
      "55000/55000 [==============================] - 6s 109us/sample - loss: 0.2954 - accuracy: 0.8927 - val_loss: 0.3186 - val_accuracy: 0.8842\n",
      "Epoch 10/10\n",
      "55000/55000 [==============================] - 6s 108us/sample - loss: 0.2862 - accuracy: 0.8959 - val_loss: 0.3765 - val_accuracy: 0.8650\n"
     ]
    }
   ],
   "source": [
    "h = model.fit(X_train, y_train, epochs = 10, \n",
    "             validation_data = (X_valid, y_valid))"
   ]
  },
  {
   "cell_type": "markdown",
   "metadata": {},
   "source": [
    "Agora vamos usar uma inicialização diferente para a camada sigmoid. Assim, em lugar de He uniforme baseada em $f_{in}$, optamos por He uniforme baseada em $f_{avg}$:"
   ]
  },
  {
   "cell_type": "code",
   "execution_count": 4,
   "metadata": {},
   "outputs": [],
   "source": [
    "he_avg_init = keras.initializers.VarianceScaling(scale=2., mode='fan_avg', \n",
    "                                                 distribution='uniform')"
   ]
  },
  {
   "cell_type": "code",
   "execution_count": 5,
   "metadata": {},
   "outputs": [],
   "source": [
    "yhat  = keras.layers.Dense(10, activation=\"sigmoid\", \n",
    "                           kernel_initializer=he_avg_init, name = \"nova_out\")(h4)\n",
    "model = keras.models.Model(inputs=[X_input], outputs=[yhat])\n",
    "\n",
    "model.compile(loss = \"sparse_categorical_crossentropy\",\n",
    "             optimizer = \"sgd\",\n",
    "             metrics = [\"accuracy\"])"
   ]
  },
  {
   "cell_type": "code",
   "execution_count": 6,
   "metadata": {},
   "outputs": [
    {
     "name": "stdout",
     "output_type": "stream",
     "text": [
      "Model: \"model_2\"\n",
      "_________________________________________________________________\n",
      "Layer (type)                 Output Shape              Param #   \n",
      "=================================================================\n",
      "input_2 (InputLayer)         [(None, 28, 28)]          0         \n",
      "_________________________________________________________________\n",
      "flatten_1 (Flatten)          (None, 784)               0         \n",
      "_________________________________________________________________\n",
      "dense_5 (Dense)              (None, 300)               235500    \n",
      "_________________________________________________________________\n",
      "dense_6 (Dense)              (None, 200)               60200     \n",
      "_________________________________________________________________\n",
      "dense_7 (Dense)              (None, 100)               20100     \n",
      "_________________________________________________________________\n",
      "dense_8 (Dense)              (None, 50)                5050      \n",
      "_________________________________________________________________\n",
      "nova_out (Dense)             (None, 10)                510       \n",
      "=================================================================\n",
      "Total params: 321,360\n",
      "Trainable params: 321,360\n",
      "Non-trainable params: 0\n",
      "_________________________________________________________________\n"
     ]
    }
   ],
   "source": [
    "model.summary()"
   ]
  },
  {
   "cell_type": "code",
   "execution_count": 10,
   "metadata": {},
   "outputs": [
    {
     "name": "stderr",
     "output_type": "stream",
     "text": [
      "W0915 15:43:47.710911 4568876480 training_utils.py:1211] When passing input data as arrays, do not specify `steps_per_epoch`/`steps` argument. Please use `batch_size` instead.\n"
     ]
    },
    {
     "name": "stdout",
     "output_type": "stream",
     "text": [
      "Epoch 1/10\n"
     ]
    },
    {
     "name": "stderr",
     "output_type": "stream",
     "text": [
      "W0915 15:43:47.991872 4568876480 deprecation.py:323] From /Users/marcocristo/.local/lib/python3.6/site-packages/tensorflow_core/python/ops/math_grad.py:1393: where (from tensorflow.python.ops.array_ops) is deprecated and will be removed in a future version.\n",
      "Instructions for updating:\n",
      "Use tf.where in 2.0, which has the same broadcast rule as np.where\n"
     ]
    },
    {
     "name": "stdout",
     "output_type": "stream",
     "text": [
      "55000/55000 [==============================] - 6s 114us/sample - loss: 0.6074 - accuracy: 0.7311 - val_loss: 0.3573 - val_accuracy: 0.8720\n",
      "Epoch 2/10\n",
      "55000/55000 [==============================] - 6s 109us/sample - loss: 0.3251 - accuracy: 0.8822 - val_loss: 0.3622 - val_accuracy: 0.8724\n",
      "Epoch 3/10\n",
      "55000/55000 [==============================] - 6s 109us/sample - loss: 0.3007 - accuracy: 0.8913 - val_loss: 0.3326 - val_accuracy: 0.8816\n",
      "Epoch 4/10\n",
      "55000/55000 [==============================] - 6s 109us/sample - loss: 0.2850 - accuracy: 0.8958 - val_loss: 0.3234 - val_accuracy: 0.8794\n",
      "Epoch 5/10\n",
      "55000/55000 [==============================] - 6s 108us/sample - loss: 0.2738 - accuracy: 0.9001 - val_loss: 0.3186 - val_accuracy: 0.8856\n",
      "Epoch 6/10\n",
      "55000/55000 [==============================] - 6s 108us/sample - loss: 0.2625 - accuracy: 0.9041 - val_loss: 0.3336 - val_accuracy: 0.8812\n",
      "Epoch 7/10\n",
      "55000/55000 [==============================] - 6s 110us/sample - loss: 0.2544 - accuracy: 0.9060 - val_loss: 0.3261 - val_accuracy: 0.8850\n",
      "Epoch 8/10\n",
      "55000/55000 [==============================] - 6s 110us/sample - loss: 0.2459 - accuracy: 0.9086 - val_loss: 0.3003 - val_accuracy: 0.8948\n",
      "Epoch 9/10\n",
      "55000/55000 [==============================] - 6s 109us/sample - loss: 0.2382 - accuracy: 0.9113 - val_loss: 0.3100 - val_accuracy: 0.8900\n",
      "Epoch 10/10\n",
      "55000/55000 [==============================] - 6s 109us/sample - loss: 0.2318 - accuracy: 0.9134 - val_loss: 0.3318 - val_accuracy: 0.8810\n"
     ]
    }
   ],
   "source": [
    "h = model.fit(X_train, y_train, epochs = 10, \n",
    "             validation_data = (X_valid, y_valid))"
   ]
  },
  {
   "cell_type": "markdown",
   "metadata": {},
   "source": [
    "## Funções de ativação -- buscando a mínima saturação"
   ]
  },
  {
   "cell_type": "markdown",
   "metadata": {},
   "source": [
    "A função sigmoid é famosa por sua alta saturação. Várias alternativas de menor saturação tem sido adotadas, entre elas, destacamos:\n",
    "    \n",
    "* ReLU: baixa saturação à direita\n",
    "* LeakyReLU: baixa saturação à direita e à esquerda \n",
    "* ELU: baixa saturação à direita e à esquerda, com forma exponencial à esquerda; \n",
    "* SELU: baixa saturação com capacidade de auto-normalização para MLPs e vários tipos de CNNs; dispensa BatchNormalization;"
   ]
  },
  {
   "cell_type": "code",
   "execution_count": 7,
   "metadata": {},
   "outputs": [],
   "source": [
    "x = np.linspace(-5,5,50)"
   ]
  },
  {
   "cell_type": "code",
   "execution_count": 8,
   "metadata": {},
   "outputs": [],
   "source": [
    "y = [tf.nn.sigmoid(x), tf.nn.tanh(x), \n",
    "     tf.nn.relu(x), tf.nn.leaky_relu(x), \n",
    "     tf.nn.elu(x), tf.nn.selu(x)]\n",
    "gy = [np.gradient(y[0], x), np.gradient(y[1], x), \n",
    "      np.gradient(y[2], x), np.gradient(y[3], x), \n",
    "      np.gradient(y[4], x), np.gradient(y[5], x)]"
   ]
  },
  {
   "cell_type": "code",
   "execution_count": 9,
   "metadata": {},
   "outputs": [
    {
     "data": {
      "image/png": "[encoded data removed]",
      "text/plain": [
       "<Figure size 864x648 with 6 Axes>"
      ]
     },
     "metadata": {
      "needs_background": "light"
     },
     "output_type": "display_data"
    }
   ],
   "source": [
    "plt.figure(figsize=(12, 9))\n",
    "\n",
    "for idx, plot_title in enumerate([(321, 'sigmoid'), (322, 'tanh'), (323, 'relu'), \n",
    "                                  (324, 'leaky relu'), (325, 'elu'), (326, 'selu')]):\n",
    "    plt.subplot(plot_title[0])\n",
    "    plt.plot(x, y[idx])\n",
    "    plt.plot(x, gy[idx])\n",
    "    plt.title(plot_title[1])\n",
    "    \n",
    "plt.subplots_adjust(top=0.92, bottom=0.08, left=0.10, right=0.95, \n",
    "                    hspace=0.35, wspace=0.45)"
   ]
  },
  {
   "cell_type": "code",
   "execution_count": 10,
   "metadata": {},
   "outputs": [],
   "source": [
    "leakyrelu = keras.layers.LeakyReLU(alpha=0.2)\n",
    "\n",
    "X_input = keras.layers.Input(shape=[28, 28])\n",
    "\n",
    "h0    = keras.layers.Flatten()(X_input)\n",
    "h1    = keras.layers.Dense(300, activation=leakyrelu, kernel_initializer=\"he_normal\")(h0) # Usar He Normal com relu\n",
    "h2    = keras.layers.Dense(200, activation=leakyrelu, kernel_initializer=\"he_normal\")(h1)\n",
    "h3    = keras.layers.Dense(100, activation=leakyrelu, kernel_initializer=\"he_normal\")(h2)\n",
    "h4    = keras.layers.Dense( 50, activation=leakyrelu, kernel_initializer=\"he_normal\")(h3)\n",
    "yhat  = keras.layers.Dense(10, activation=\"softmax\")(h4)\n",
    "model = keras.models.Model(inputs=[X_input], outputs=[yhat])\n",
    "\n",
    "model.compile(loss = \"sparse_categorical_crossentropy\",\n",
    "             optimizer = \"sgd\",\n",
    "             metrics = [\"accuracy\"])"
   ]
  },
  {
   "cell_type": "code",
   "execution_count": 11,
   "metadata": {},
   "outputs": [
    {
     "name": "stderr",
     "output_type": "stream",
     "text": [
      "WARNING: Logging before flag parsing goes to stderr.\n",
      "W0923 13:31:56.694061 4731512256 training_utils.py:1211] When passing input data as arrays, do not specify `steps_per_epoch`/`steps` argument. Please use `batch_size` instead.\n"
     ]
    },
    {
     "name": "stdout",
     "output_type": "stream",
     "text": [
      "Epoch 1/10\n"
     ]
    },
    {
     "name": "stderr",
     "output_type": "stream",
     "text": [
      "W0923 13:31:57.039575 4731512256 deprecation.py:323] From /Users/marcocristo/.local/lib/python3.6/site-packages/tensorflow_core/python/keras/optimizer_v2/optimizer_v2.py:468: BaseResourceVariable.constraint (from tensorflow.python.ops.resource_variable_ops) is deprecated and will be removed in a future version.\n",
      "Instructions for updating:\n",
      "Apply a constraint manually following the optimizer update step.\n"
     ]
    },
    {
     "name": "stdout",
     "output_type": "stream",
     "text": [
      "55000/55000 [==============================] - 7s 130us/sample - loss: 0.6410 - accuracy: 0.7782 - val_loss: 0.4523 - val_accuracy: 0.8462\n",
      "Epoch 2/10\n",
      "55000/55000 [==============================] - 6s 117us/sample - loss: 0.4456 - accuracy: 0.8413 - val_loss: 0.4208 - val_accuracy: 0.8534\n",
      "Epoch 3/10\n",
      "55000/55000 [==============================] - 7s 119us/sample - loss: 0.4022 - accuracy: 0.8563 - val_loss: 0.4048 - val_accuracy: 0.8562\n",
      "Epoch 4/10\n",
      "55000/55000 [==============================] - 7s 119us/sample - loss: 0.3754 - accuracy: 0.8655 - val_loss: 0.3736 - val_accuracy: 0.8640\n",
      "Epoch 5/10\n",
      "55000/55000 [==============================] - 6s 115us/sample - loss: 0.3557 - accuracy: 0.8721 - val_loss: 0.3768 - val_accuracy: 0.8652\n",
      "Epoch 6/10\n",
      "55000/55000 [==============================] - 6s 114us/sample - loss: 0.3393 - accuracy: 0.8785 - val_loss: 0.3548 - val_accuracy: 0.8738\n",
      "Epoch 7/10\n",
      "55000/55000 [==============================] - 6s 114us/sample - loss: 0.3256 - accuracy: 0.8812 - val_loss: 0.3582 - val_accuracy: 0.8734\n",
      "Epoch 8/10\n",
      "55000/55000 [==============================] - 6s 115us/sample - loss: 0.3151 - accuracy: 0.8856 - val_loss: 0.3388 - val_accuracy: 0.8780\n",
      "Epoch 9/10\n",
      "55000/55000 [==============================] - 6s 115us/sample - loss: 0.3043 - accuracy: 0.8881 - val_loss: 0.3467 - val_accuracy: 0.8750\n",
      "Epoch 10/10\n",
      "55000/55000 [==============================] - 6s 113us/sample - loss: 0.2957 - accuracy: 0.8919 - val_loss: 0.3803 - val_accuracy: 0.8626\n"
     ]
    }
   ],
   "source": [
    "h = model.fit(X_train, y_train, epochs = 10, \n",
    "             validation_data = (X_valid, y_valid))"
   ]
  },
  {
   "cell_type": "code",
   "execution_count": 12,
   "metadata": {},
   "outputs": [],
   "source": [
    "X_input = keras.layers.Input(shape=[28, 28])\n",
    "\n",
    "h0    = keras.layers.Flatten()(X_input)\n",
    "h1    = keras.layers.Dense(300, activation='elu', kernel_initializer=\"he_normal\")(h0) # Usar He Normal com relu\n",
    "h2    = keras.layers.Dense(200, activation='elu', kernel_initializer=\"he_normal\")(h1)\n",
    "h3    = keras.layers.Dense(100, activation='elu', kernel_initializer=\"he_normal\")(h2)\n",
    "h4    = keras.layers.Dense( 50, activation='elu', kernel_initializer=\"he_normal\")(h3)\n",
    "yhat  = keras.layers.Dense(10, activation=\"softmax\")(h4)\n",
    "model = keras.models.Model(inputs=[X_input], outputs=[yhat])\n",
    "\n",
    "model.compile(loss = \"sparse_categorical_crossentropy\",\n",
    "             optimizer = \"sgd\",\n",
    "             metrics = [\"accuracy\"])"
   ]
  },
  {
   "cell_type": "code",
   "execution_count": 17,
   "metadata": {},
   "outputs": [
    {
     "name": "stderr",
     "output_type": "stream",
     "text": [
      "W0915 15:45:48.520771 4568876480 training_utils.py:1211] When passing input data as arrays, do not specify `steps_per_epoch`/`steps` argument. Please use `batch_size` instead.\n"
     ]
    },
    {
     "name": "stdout",
     "output_type": "stream",
     "text": [
      "Epoch 1/10\n",
      "55000/55000 [==============================] - 6s 116us/sample - loss: 0.5621 - accuracy: 0.7995 - val_loss: 0.4277 - val_accuracy: 0.8524\n",
      "Epoch 2/10\n",
      "55000/55000 [==============================] - 6s 111us/sample - loss: 0.4261 - accuracy: 0.8465 - val_loss: 0.4265 - val_accuracy: 0.8508\n",
      "Epoch 3/10\n",
      "55000/55000 [==============================] - 6s 110us/sample - loss: 0.3916 - accuracy: 0.8594 - val_loss: 0.4067 - val_accuracy: 0.8546\n",
      "Epoch 4/10\n",
      "55000/55000 [==============================] - 6s 111us/sample - loss: 0.3690 - accuracy: 0.8660 - val_loss: 0.3657 - val_accuracy: 0.8688\n",
      "Epoch 5/10\n",
      "55000/55000 [==============================] - 6s 109us/sample - loss: 0.3514 - accuracy: 0.8726 - val_loss: 0.3670 - val_accuracy: 0.8722\n",
      "Epoch 6/10\n",
      "55000/55000 [==============================] - 6s 109us/sample - loss: 0.3372 - accuracy: 0.8790 - val_loss: 0.3464 - val_accuracy: 0.8756\n",
      "Epoch 7/10\n",
      "55000/55000 [==============================] - 6s 110us/sample - loss: 0.3254 - accuracy: 0.8823 - val_loss: 0.3495 - val_accuracy: 0.8720\n",
      "Epoch 8/10\n",
      "55000/55000 [==============================] - 6s 111us/sample - loss: 0.3149 - accuracy: 0.8866 - val_loss: 0.3311 - val_accuracy: 0.8782\n",
      "Epoch 9/10\n",
      "55000/55000 [==============================] - 6s 111us/sample - loss: 0.3059 - accuracy: 0.8883 - val_loss: 0.3228 - val_accuracy: 0.8842\n",
      "Epoch 10/10\n",
      "55000/55000 [==============================] - 6s 110us/sample - loss: 0.2974 - accuracy: 0.8912 - val_loss: 0.3625 - val_accuracy: 0.8698\n"
     ]
    }
   ],
   "source": [
    "h = model.fit(X_train, y_train, epochs = 10, \n",
    "             validation_data = (X_valid, y_valid))"
   ]
  },
  {
   "cell_type": "code",
   "execution_count": 13,
   "metadata": {},
   "outputs": [
    {
     "name": "stderr",
     "output_type": "stream",
     "text": [
      "W0923 13:33:01.188125 4731512256 deprecation.py:323] From /Users/marcocristo/.local/lib/python3.6/site-packages/tensorflow_core/python/keras/backend.py:4242: where (from tensorflow.python.ops.array_ops) is deprecated and will be removed in a future version.\n",
      "Instructions for updating:\n",
      "Use tf.where in 2.0, which has the same broadcast rule as np.where\n"
     ]
    }
   ],
   "source": [
    "X_input = keras.layers.Input(shape=[28, 28])\n",
    "\n",
    "h0    = keras.layers.Flatten()(X_input)\n",
    "h1    = keras.layers.Dense(300, activation='selu', kernel_initializer=\"lecun_normal\")(h0) # Usar Lecun Normal com selu\n",
    "h2    = keras.layers.Dense(200, activation='selu', kernel_initializer=\"lecun_normal\")(h1)\n",
    "h3    = keras.layers.Dense(100, activation='selu', kernel_initializer=\"lecun_normal\")(h2)\n",
    "h4    = keras.layers.Dense( 50, activation='selu', kernel_initializer=\"lecun_normal\")(h3)\n",
    "yhat  = keras.layers.Dense(10, activation=\"softmax\")(h4)\n",
    "model = keras.models.Model(inputs=[X_input], outputs=[yhat])\n",
    "\n",
    "model.compile(loss = \"sparse_categorical_crossentropy\",\n",
    "             optimizer = \"sgd\",\n",
    "             metrics = [\"accuracy\"])"
   ]
  },
  {
   "cell_type": "code",
   "execution_count": 19,
   "metadata": {},
   "outputs": [
    {
     "name": "stderr",
     "output_type": "stream",
     "text": [
      "W0915 15:46:49.604120 4568876480 training_utils.py:1211] When passing input data as arrays, do not specify `steps_per_epoch`/`steps` argument. Please use `batch_size` instead.\n"
     ]
    },
    {
     "name": "stdout",
     "output_type": "stream",
     "text": [
      "Epoch 1/10\n",
      "55000/55000 [==============================] - 6s 116us/sample - loss: 0.5416 - accuracy: 0.8071 - val_loss: 0.4277 - val_accuracy: 0.8518\n",
      "Epoch 2/10\n",
      "55000/55000 [==============================] - 6s 111us/sample - loss: 0.4219 - accuracy: 0.8467 - val_loss: 0.4265 - val_accuracy: 0.8454\n",
      "Epoch 3/10\n",
      "55000/55000 [==============================] - 6s 111us/sample - loss: 0.3905 - accuracy: 0.8602 - val_loss: 0.3992 - val_accuracy: 0.8520\n",
      "Epoch 4/10\n",
      "55000/55000 [==============================] - 6s 110us/sample - loss: 0.3692 - accuracy: 0.8661 - val_loss: 0.3634 - val_accuracy: 0.8684\n",
      "Epoch 5/10\n",
      "55000/55000 [==============================] - 6s 115us/sample - loss: 0.3522 - accuracy: 0.8727 - val_loss: 0.3684 - val_accuracy: 0.8662\n",
      "Epoch 6/10\n",
      "55000/55000 [==============================] - 6s 115us/sample - loss: 0.3385 - accuracy: 0.8780 - val_loss: 0.3495 - val_accuracy: 0.8696\n",
      "Epoch 7/10\n",
      "55000/55000 [==============================] - 7s 127us/sample - loss: 0.3272 - accuracy: 0.8815 - val_loss: 0.3547 - val_accuracy: 0.8736\n",
      "Epoch 8/10\n",
      "55000/55000 [==============================] - 7s 127us/sample - loss: 0.3169 - accuracy: 0.8846 - val_loss: 0.3274 - val_accuracy: 0.8804\n",
      "Epoch 9/10\n",
      "55000/55000 [==============================] - 7s 124us/sample - loss: 0.3079 - accuracy: 0.8876 - val_loss: 0.3305 - val_accuracy: 0.8792\n",
      "Epoch 10/10\n",
      "55000/55000 [==============================] - 7s 122us/sample - loss: 0.3004 - accuracy: 0.8895 - val_loss: 0.3761 - val_accuracy: 0.8664\n"
     ]
    }
   ],
   "source": [
    "h = model.fit(X_train, y_train, epochs = 10, \n",
    "             validation_data = (X_valid, y_valid))"
   ]
  },
  {
   "cell_type": "markdown",
   "metadata": {},
   "source": [
    "## Normalização em Batches"
   ]
  },
  {
   "cell_type": "markdown",
   "metadata": {},
   "source": [
    "Evitar a deriva da variância. Não faz sentido com SELU, uma vez que a SELU já alcança auto-normalização das camadas. \n",
    "\n",
    "O uso de BN é tão padrão que é comum ela não ser mencionada em arquiteturas MLP e CNN, mesmo sendo usada. Mais recentemente, um artigo propôs um novo tipo de inicialização (Zhang et al. \"Fixup Initialization: Residual Learning Without Normalization\", 2019) que parece dispensar BN (ver https://arxiv.org/abs/1901.09321).\n",
    "\n",
    "Há duas formas de usar BN: entre saída e ativação (o mais indicado) e após ativação. "
   ]
  },
  {
   "cell_type": "code",
   "execution_count": 14,
   "metadata": {},
   "outputs": [],
   "source": [
    "X_input = keras.layers.Input(shape=[28, 28])\n",
    "\n",
    "h0    = keras.layers.Flatten()(X_input)\n",
    "h1    = keras.layers.Dense(300, kernel_initializer=\"he_normal\")(h0) \n",
    "h1    = keras.layers.BatchNormalization()(h1)\n",
    "h1    = keras.layers.Activation('elu')(h1)\n",
    "h2    = keras.layers.Dense(200, kernel_initializer=\"he_normal\")(h1)\n",
    "h2    = keras.layers.BatchNormalization()(h2)\n",
    "h2    = keras.layers.Activation('elu')(h1)\n",
    "h3    = keras.layers.Dense(100, kernel_initializer=\"he_normal\")(h2)\n",
    "h3    = keras.layers.BatchNormalization()(h3)\n",
    "h3    = keras.layers.Activation('elu')(h3)\n",
    "h4    = keras.layers.Dense( 50, kernel_initializer=\"he_normal\")(h3)\n",
    "h4    = keras.layers.BatchNormalization()(h4)\n",
    "h4    = keras.layers.Activation('elu')(h4)\n",
    "yhat  = keras.layers.Dense(10, activation=\"softmax\")(h4)\n",
    "model = keras.models.Model(inputs=[X_input], outputs=[yhat])\n",
    "\n",
    "model.compile(loss = \"sparse_categorical_crossentropy\",\n",
    "             optimizer = \"sgd\",\n",
    "             metrics = [\"accuracy\"])"
   ]
  },
  {
   "cell_type": "code",
   "execution_count": 21,
   "metadata": {},
   "outputs": [
    {
     "name": "stderr",
     "output_type": "stream",
     "text": [
      "W0915 15:47:54.737896 4568876480 training_utils.py:1211] When passing input data as arrays, do not specify `steps_per_epoch`/`steps` argument. Please use `batch_size` instead.\n"
     ]
    },
    {
     "name": "stdout",
     "output_type": "stream",
     "text": [
      "Epoch 1/10\n",
      "55000/55000 [==============================] - 7s 129us/sample - loss: 0.5897 - accuracy: 0.8027 - val_loss: 0.4104 - val_accuracy: 0.8582\n",
      "Epoch 2/10\n",
      "55000/55000 [==============================] - 7s 119us/sample - loss: 0.4326 - accuracy: 0.8473 - val_loss: 0.3841 - val_accuracy: 0.8640\n",
      "Epoch 3/10\n",
      "55000/55000 [==============================] - 6s 118us/sample - loss: 0.3904 - accuracy: 0.8631 - val_loss: 0.3570 - val_accuracy: 0.8716\n",
      "Epoch 4/10\n",
      "55000/55000 [==============================] - 6s 118us/sample - loss: 0.3639 - accuracy: 0.8700 - val_loss: 0.3665 - val_accuracy: 0.8660\n",
      "Epoch 5/10\n",
      "55000/55000 [==============================] - 7s 123us/sample - loss: 0.3435 - accuracy: 0.8786 - val_loss: 0.3395 - val_accuracy: 0.8752\n",
      "Epoch 6/10\n",
      "55000/55000 [==============================] - 6s 116us/sample - loss: 0.3244 - accuracy: 0.8842 - val_loss: 0.3319 - val_accuracy: 0.8780\n",
      "Epoch 7/10\n",
      "55000/55000 [==============================] - 7s 119us/sample - loss: 0.3115 - accuracy: 0.8887 - val_loss: 0.3249 - val_accuracy: 0.8872\n",
      "Epoch 8/10\n",
      "55000/55000 [==============================] - 7s 123us/sample - loss: 0.2975 - accuracy: 0.8914 - val_loss: 0.3314 - val_accuracy: 0.8812\n",
      "Epoch 9/10\n",
      "55000/55000 [==============================] - 7s 127us/sample - loss: 0.2873 - accuracy: 0.8961 - val_loss: 0.3094 - val_accuracy: 0.8878\n",
      "Epoch 10/10\n",
      "55000/55000 [==============================] - 7s 131us/sample - loss: 0.2761 - accuracy: 0.9003 - val_loss: 0.3429 - val_accuracy: 0.8778\n"
     ]
    }
   ],
   "source": [
    "h = model.fit(X_train, y_train, epochs = 10, \n",
    "             validation_data = (X_valid, y_valid))"
   ]
  },
  {
   "cell_type": "code",
   "execution_count": 22,
   "metadata": {},
   "outputs": [],
   "source": [
    "X_input = keras.layers.Input(shape=[28, 28])\n",
    "\n",
    "h0    = keras.layers.Flatten()(X_input)\n",
    "h1    = keras.layers.Dense(300, activation='elu', kernel_initializer=\"he_normal\")(h0) \n",
    "h1    = keras.layers.BatchNormalization()(h1)\n",
    "h2    = keras.layers.Dense(200, activation='elu', kernel_initializer=\"he_normal\")(h1)\n",
    "h2    = keras.layers.BatchNormalization()(h2)\n",
    "h3    = keras.layers.Dense(100, activation='elu', kernel_initializer=\"he_normal\")(h2)\n",
    "h3    = keras.layers.BatchNormalization()(h3)\n",
    "h4    = keras.layers.Dense( 50, activation='elu', kernel_initializer=\"he_normal\")(h3)\n",
    "h4    = keras.layers.BatchNormalization()(h4)\n",
    "yhat  = keras.layers.Dense(10, activation=\"softmax\")(h4)\n",
    "model = keras.models.Model(inputs=[X_input], outputs=[yhat])\n",
    "\n",
    "model.compile(loss = \"sparse_categorical_crossentropy\",\n",
    "             optimizer = \"sgd\",\n",
    "             metrics = [\"accuracy\"])"
   ]
  },
  {
   "cell_type": "code",
   "execution_count": 23,
   "metadata": {},
   "outputs": [
    {
     "name": "stderr",
     "output_type": "stream",
     "text": [
      "W0915 15:49:02.262249 4568876480 training_utils.py:1211] When passing input data as arrays, do not specify `steps_per_epoch`/`steps` argument. Please use `batch_size` instead.\n"
     ]
    },
    {
     "name": "stdout",
     "output_type": "stream",
     "text": [
      "Epoch 1/10\n",
      "55000/55000 [==============================] - 9s 169us/sample - loss: 0.5522 - accuracy: 0.8088 - val_loss: 0.3934 - val_accuracy: 0.8624\n",
      "Epoch 2/10\n",
      "55000/55000 [==============================] - 8s 147us/sample - loss: 0.4157 - accuracy: 0.8504 - val_loss: 0.3682 - val_accuracy: 0.8698\n",
      "Epoch 3/10\n",
      "55000/55000 [==============================] - 8s 139us/sample - loss: 0.3748 - accuracy: 0.8672 - val_loss: 0.3454 - val_accuracy: 0.8758\n",
      "Epoch 4/10\n",
      "55000/55000 [==============================] - 8s 139us/sample - loss: 0.3491 - accuracy: 0.8739 - val_loss: 0.3346 - val_accuracy: 0.8748\n",
      "Epoch 5/10\n",
      "55000/55000 [==============================] - 7s 130us/sample - loss: 0.3305 - accuracy: 0.8799 - val_loss: 0.3214 - val_accuracy: 0.8842\n",
      "Epoch 6/10\n",
      "55000/55000 [==============================] - 7s 134us/sample - loss: 0.3105 - accuracy: 0.8880 - val_loss: 0.3096 - val_accuracy: 0.8902\n",
      "Epoch 7/10\n",
      "55000/55000 [==============================] - 7s 124us/sample - loss: 0.2983 - accuracy: 0.8922 - val_loss: 0.3101 - val_accuracy: 0.8872\n",
      "Epoch 8/10\n",
      "55000/55000 [==============================] - 7s 123us/sample - loss: 0.2858 - accuracy: 0.8949 - val_loss: 0.3107 - val_accuracy: 0.8866\n",
      "Epoch 9/10\n",
      "55000/55000 [==============================] - 7s 130us/sample - loss: 0.2728 - accuracy: 0.8998 - val_loss: 0.2959 - val_accuracy: 0.8934\n",
      "Epoch 10/10\n",
      "55000/55000 [==============================] - 7s 131us/sample - loss: 0.2652 - accuracy: 0.9027 - val_loss: 0.3096 - val_accuracy: 0.8922\n"
     ]
    }
   ],
   "source": [
    "h = model.fit(X_train, y_train, epochs = 10, \n",
    "             validation_data = (X_valid, y_valid))"
   ]
  },
  {
   "cell_type": "code",
   "execution_count": 24,
   "metadata": {},
   "outputs": [
    {
     "data": {
      "text/plain": [
       "[<tensorflow.python.keras.engine.input_layer.InputLayer at 0x153b53da0>,\n",
       " <tensorflow.python.keras.layers.core.Flatten at 0x153b53d68>,\n",
       " <tensorflow.python.keras.layers.core.Dense at 0x153b53ef0>,\n",
       " <tensorflow.python.keras.layers.normalization_v2.BatchNormalization at 0x153b59550>,\n",
       " <tensorflow.python.keras.layers.core.Dense at 0x153b59c50>,\n",
       " <tensorflow.python.keras.layers.normalization_v2.BatchNormalization at 0x15376dc18>,\n",
       " <tensorflow.python.keras.layers.core.Dense at 0x153807278>,\n",
       " <tensorflow.python.keras.layers.normalization_v2.BatchNormalization at 0x153807240>,\n",
       " <tensorflow.python.keras.layers.core.Dense at 0x1542af8d0>,\n",
       " <tensorflow.python.keras.layers.normalization_v2.BatchNormalization at 0x1542af898>,\n",
       " <tensorflow.python.keras.layers.core.Dense at 0x1542faeb8>]"
      ]
     },
     "execution_count": 24,
     "metadata": {},
     "output_type": "execute_result"
    }
   ],
   "source": [
    "model.layers"
   ]
  },
  {
   "cell_type": "code",
   "execution_count": 25,
   "metadata": {},
   "outputs": [
    {
     "data": {
      "text/plain": [
       "[('batch_normalization_4/gamma:0', True),\n",
       " ('batch_normalization_4/beta:0', True),\n",
       " ('batch_normalization_4/moving_mean:0', False),\n",
       " ('batch_normalization_4/moving_variance:0', False)]"
      ]
     },
     "execution_count": 25,
     "metadata": {},
     "output_type": "execute_result"
    }
   ],
   "source": [
    "[(var.name, var.trainable) for var in model.layers[3].variables]"
   ]
  },
  {
   "cell_type": "markdown",
   "metadata": {},
   "source": [
    "## Clipping de gradientes"
   ]
  },
  {
   "cell_type": "markdown",
   "metadata": {},
   "source": [
    "Em RNNs não é possível usar nem BN, nem Selu. Logo, a única forma de evitar gradientes explodirem ou desaparecerem, é fazendo clipping. Em Keras, isso é facílimo:"
   ]
  },
  {
   "cell_type": "code",
   "execution_count": 26,
   "metadata": {},
   "outputs": [],
   "source": [
    "optimizer = keras.optimizers.SGD(clipvalue=1.0)"
   ]
  },
  {
   "cell_type": "markdown",
   "metadata": {},
   "source": [
    "O SGD acima, por exemplo, sempre vai entregar gradientes com valor entre -1 a 1. Qualquer valor fora do intervalo será cortado para o valor mais próximo (-1 ou 1)."
   ]
  },
  {
   "cell_type": "markdown",
   "metadata": {},
   "source": [
    "## Regularizadores"
   ]
  },
  {
   "cell_type": "markdown",
   "metadata": {},
   "source": [
    "Penalidade aplicada a conjunto de parâmetros (normalmente os pesos usados no modelo) de forma a selecionar conjuntos de parâmetros que esperamos produzir modelos mais gerais. De fato, a normalização em batches, vista antes, opera também como regularizador ao forçar que os parâmetros entre as instâncias de cada batch sejam tais que a média e desvio do batch seja próxima à média e desvio esperada para a coleção toda após o treino.\n",
    "\n",
    "Agora vamos ver outros mecanismos comuns de regularização iniciando pelo mais comum de todos, a parada anteciapda."
   ]
  },
  {
   "cell_type": "markdown",
   "metadata": {},
   "source": [
    "### Parada antecipada\n",
    "Ideia: otimização deveria parar quando não é observada melhoria de desempenho após um certo número de épocas de treino em uma coleção de validação. Conjuntos de parâmetros que não produzem ganhos em amostra de validação provavelmente não irão produzir também na população real."
   ]
  },
  {
   "cell_type": "code",
   "execution_count": 264,
   "metadata": {},
   "outputs": [],
   "source": [
    "X_input = keras.layers.Input(shape=[28, 28])\n",
    "\n",
    "h0    = keras.layers.Flatten()(X_input)\n",
    "h1    = keras.layers.Dense(300, activation='elu', kernel_initializer=\"he_normal\")(h0) \n",
    "h1    = keras.layers.BatchNormalization()(h1)\n",
    "h2    = keras.layers.Dense(200, activation='elu', kernel_initializer=\"he_normal\")(h1)\n",
    "h2    = keras.layers.BatchNormalization()(h2)\n",
    "h3    = keras.layers.Dense(100, activation='elu', kernel_initializer=\"he_normal\")(h2)\n",
    "h3    = keras.layers.BatchNormalization()(h3)\n",
    "h4    = keras.layers.Dense( 50, activation='elu', kernel_initializer=\"he_normal\")(h3)\n",
    "h4    = keras.layers.BatchNormalization()(h4)\n",
    "yhat  = keras.layers.Dense(10, activation=\"softmax\")(h4)\n",
    "model = keras.models.Model(inputs=[X_input], outputs=[yhat])\n",
    "\n",
    "model.compile(loss = \"sparse_categorical_crossentropy\",\n",
    "             optimizer = \"sgd\",\n",
    "             metrics = [\"accuracy\"])\n",
    "\n",
    "# keras.callbacks.EarlyStopping(monitor='val_loss', min_delta=0, patience=0, \n",
    "#    verbose=0, mode='auto', baseline=None, restore_best_weights=False)"
   ]
  },
  {
   "cell_type": "code",
   "execution_count": 170,
   "metadata": {},
   "outputs": [
    {
     "name": "stderr",
     "output_type": "stream",
     "text": [
      "W0918 12:55:19.245786 4568876480 training_utils.py:1211] When passing input data as arrays, do not specify `steps_per_epoch`/`steps` argument. Please use `batch_size` instead.\n"
     ]
    },
    {
     "name": "stdout",
     "output_type": "stream",
     "text": [
      "Epoch 1/100\n",
      "55000/55000 [==============================] - 11s 200us/sample - loss: 0.5558 - accuracy: 0.8078 - val_loss: 0.3900 - val_accuracy: 0.8632\n",
      "Epoch 2/100\n",
      "55000/55000 [==============================] - 8s 148us/sample - loss: 0.4191 - accuracy: 0.8499 - val_loss: 0.3677 - val_accuracy: 0.8692\n",
      "Epoch 3/100\n",
      "55000/55000 [==============================] - 8s 145us/sample - loss: 0.3785 - accuracy: 0.8651 - val_loss: 0.3492 - val_accuracy: 0.8734\n",
      "Epoch 4/100\n",
      "55000/55000 [==============================] - 8s 147us/sample - loss: 0.3546 - accuracy: 0.8714 - val_loss: 0.3607 - val_accuracy: 0.8618\n",
      "Epoch 5/100\n",
      "55000/55000 [==============================] - 8s 146us/sample - loss: 0.3338 - accuracy: 0.8799 - val_loss: 0.3219 - val_accuracy: 0.8812\n",
      "Epoch 6/100\n",
      "55000/55000 [==============================] - 8s 142us/sample - loss: 0.3153 - accuracy: 0.8858 - val_loss: 0.3167 - val_accuracy: 0.8808\n",
      "Epoch 7/100\n",
      "55000/55000 [==============================] - 8s 152us/sample - loss: 0.3022 - accuracy: 0.8912 - val_loss: 0.3102 - val_accuracy: 0.8860\n",
      "Epoch 8/100\n",
      "55000/55000 [==============================] - 8s 152us/sample - loss: 0.2866 - accuracy: 0.8949 - val_loss: 0.3106 - val_accuracy: 0.8854\n",
      "Epoch 9/100\n",
      "55000/55000 [==============================] - 8s 150us/sample - loss: 0.2782 - accuracy: 0.8997 - val_loss: 0.3015 - val_accuracy: 0.8856\n",
      "Epoch 10/100\n",
      "55000/55000 [==============================] - 8s 148us/sample - loss: 0.2672 - accuracy: 0.9015 - val_loss: 0.3025 - val_accuracy: 0.8888\n",
      "Epoch 11/100\n",
      "55000/55000 [==============================] - 8s 150us/sample - loss: 0.2586 - accuracy: 0.9058 - val_loss: 0.3203 - val_accuracy: 0.8846\n",
      "Epoch 12/100\n",
      "55000/55000 [==============================] - 9s 158us/sample - loss: 0.2532 - accuracy: 0.9069 - val_loss: 0.3007 - val_accuracy: 0.8888\n",
      "Epoch 13/100\n",
      "55000/55000 [==============================] - 8s 147us/sample - loss: 0.2423 - accuracy: 0.9109 - val_loss: 0.3146 - val_accuracy: 0.8848\n",
      "Epoch 14/100\n",
      "55000/55000 [==============================] - 8s 149us/sample - loss: 0.2348 - accuracy: 0.9133 - val_loss: 0.2999 - val_accuracy: 0.8920\n",
      "Epoch 15/100\n",
      "55000/55000 [==============================] - 8s 148us/sample - loss: 0.2277 - accuracy: 0.9159 - val_loss: 0.2982 - val_accuracy: 0.8910\n",
      "Epoch 16/100\n",
      "55000/55000 [==============================] - 8s 152us/sample - loss: 0.2240 - accuracy: 0.9175 - val_loss: 0.3143 - val_accuracy: 0.8882\n",
      "Epoch 17/100\n",
      "55000/55000 [==============================] - 8s 149us/sample - loss: 0.2157 - accuracy: 0.9196 - val_loss: 0.2967 - val_accuracy: 0.8934\n",
      "Epoch 18/100\n",
      "55000/55000 [==============================] - 8s 151us/sample - loss: 0.2102 - accuracy: 0.9232 - val_loss: 0.3151 - val_accuracy: 0.8846\n",
      "Epoch 19/100\n",
      "55000/55000 [==============================] - 8s 150us/sample - loss: 0.2044 - accuracy: 0.9248 - val_loss: 0.3388 - val_accuracy: 0.8818\n",
      "Epoch 20/100\n",
      "55000/55000 [==============================] - 8s 151us/sample - loss: 0.1980 - accuracy: 0.9255 - val_loss: 0.3067 - val_accuracy: 0.8912\n",
      "Epoch 21/100\n",
      "55000/55000 [==============================] - 8s 153us/sample - loss: 0.1925 - accuracy: 0.9293 - val_loss: 0.3203 - val_accuracy: 0.8892\n",
      "Epoch 22/100\n",
      "55000/55000 [==============================] - 8s 152us/sample - loss: 0.1885 - accuracy: 0.9301 - val_loss: 0.3218 - val_accuracy: 0.8876\n"
     ]
    }
   ],
   "source": [
    "h = model.fit(X_train, y_train, epochs = 100, \n",
    "              callbacks=[keras.callbacks.EarlyStopping(patience=5)],\n",
    "              validation_data = (X_valid, y_valid))"
   ]
  },
  {
   "cell_type": "code",
   "execution_count": 171,
   "metadata": {},
   "outputs": [
    {
     "data": {
      "text/plain": [
       "<matplotlib.axes._subplots.AxesSubplot at 0x1656cea58>"
      ]
     },
     "execution_count": 171,
     "metadata": {},
     "output_type": "execute_result"
    },
    {
     "data": {
      "image/png": "[encoded data removed]",
      "text/plain": [
       "<Figure size 576x360 with 1 Axes>"
      ]
     },
     "metadata": {
      "needs_background": "light"
     },
     "output_type": "display_data"
    }
   ],
   "source": [
    "pd.DataFrame(h.history).plot(figsize = (8,5))"
   ]
  },
  {
   "cell_type": "markdown",
   "metadata": {},
   "source": [
    "### $L_1$ (Lasso) e $L_2$ (Ridge)"
   ]
  },
  {
   "cell_type": "markdown",
   "metadata": {},
   "source": [
    "Estes regularizadores consistem em restrições ao conjunto de pesos adotados, aplicados diretamente sobre a função a ser minizada:\n",
    "\n",
    "$${\\bf w*} = \\arg \\min_{\\bf w} \\ell(\\hat{{\\bf y}}_{\\bf w}, {\\bf y}) + \\lambda \\mathcal{R}({\\bf w})$$\n",
    "\n",
    "No caso acima, $\\mathcal{R}$ indica o regularizador e $\\lambda$, a sua importância para o processo de minimização (o coeficiente de regularização). Em particular, eles atuam assim:\n",
    "\n",
    "* L1 ou regularizador de Lasso: $\\mathcal{R}({\\bf w}) = \\lVert{\\bf w}\\rVert_1 = \\sum_j |w_j|$. O L1 tende a fazer o otimizador preferir conjuntos de pesos esparsos, ou seja, ele reduz pesos menos importantes até eles serem zero. \n",
    "* L2 ou regularizador de Ridge: $\\mathcal{R}({\\bf w}) = \\lVert{\\bf w}\\rVert_2^2 = \\sum_j w_j^2$. O L2 tende a punir muito pesos maiores, fazendo com que o otimizador prefira conjuntos de pesos similares.\n",
    "\n",
    "Como isso acontece?\n",
    "\n",
    "Imagine que você tem um vetor ${\\bf w} = (1, \\xi)$ com $\\xi > 0$ muito pequeno. Ao aplicar L1 e L2, você obtem $L1({\\bf w}) = 1 + \\xi$ e $L2({\\bf w}) = 1 + \\xi^2$. Imagine agora que você tem a opção de usar conjuntos de pesos menores (${\\bf w}'$ e ${\\bf w}''$) em que um dos componentes do peso será reduzido de $\\delta$, ou seja, ${\\bf w}' = (1 - \\delta, \\xi)$ e ${\\bf w}'' = (1, \\xi - \\delta)$. Qual o efeito da aplicação de L1 e L2 nesses casos?\n",
    "\n",
    "\\begin{align}\n",
    "L1({\\bf w}') &= 1 - \\delta + \\xi \\\\\n",
    "L1({\\bf w}'') &= 1 + \\xi - \\delta = L1({\\bf w}') \\\\\n",
    "L2({\\bf w}') &= (1 - \\delta)^2 + \\xi^2 = 1 + \\delta^2 + \\xi^2 - 2\\delta\\\\\n",
    "L2({\\bf w}'') &= 1 + (\\xi - \\delta)^2 = 1 + \\delta^2 + \\xi^2 - 2 \\xi \\delta > L2({\\bf w}')~\\text{se $\\xi$ é muito pequeno!}\\\\\n",
    "\\end{align}\n",
    "\n",
    "Observe que claramente que o L2 prefere não penalizar valores pequenos, o que resulta em vários pesos com algum valor relevante à medida que os valores maiores vão sendo penalizados. Já o L1 tende penalizar todos os pesos, menores e maiores, da mesma forma. No limite, ele faz os menores desaparecerem.\n",
    "\n",
    "Abaixo, vemos como incorporar regularizadores L1 e L2 em Keras:"
   ]
  },
  {
   "cell_type": "code",
   "execution_count": 175,
   "metadata": {},
   "outputs": [],
   "source": [
    "def get_model(reg):\n",
    "    X_input = keras.layers.Input(shape=[28, 28])\n",
    "\n",
    "    h0    = keras.layers.Flatten()(X_input)\n",
    "    h1    = keras.layers.Dense(300, activation='elu', kernel_initializer=\"he_normal\", kernel_regularizer = reg)(h0) \n",
    "    h1    = keras.layers.BatchNormalization()(h1)\n",
    "    h2    = keras.layers.Dense(200, activation='elu', kernel_initializer=\"he_normal\", kernel_regularizer = reg)(h1)\n",
    "    h2    = keras.layers.BatchNormalization()(h2)\n",
    "    h3    = keras.layers.Dense(100, activation='elu', kernel_initializer=\"he_normal\", kernel_regularizer = reg)(h2)\n",
    "    h3    = keras.layers.BatchNormalization()(h3)\n",
    "    h4    = keras.layers.Dense( 50, activation='elu', kernel_initializer=\"he_normal\", kernel_regularizer = reg)(h3)\n",
    "    h4    = keras.layers.BatchNormalization()(h4)\n",
    "    yhat  = keras.layers.Dense(10, activation=\"softmax\")(h4)\n",
    "    model = keras.models.Model(inputs=[X_input], outputs=[yhat])\n",
    "\n",
    "    model.compile(loss = \"sparse_categorical_crossentropy\",\n",
    "                 optimizer = \"sgd\",\n",
    "                 metrics = [\"accuracy\"])\n",
    "    return model"
   ]
  },
  {
   "cell_type": "code",
   "execution_count": null,
   "metadata": {},
   "outputs": [],
   "source": [
    "l1 = keras.regularizers.l1(0.01) # 0.01\n",
    "l2 = keras.regularizers.l2(0.01)\n",
    "l1_l2 = keras.regularizers.l1_l2(l1=0.01, l2=0.01)"
   ]
  },
  {
   "cell_type": "code",
   "execution_count": 186,
   "metadata": {},
   "outputs": [
    {
     "name": "stderr",
     "output_type": "stream",
     "text": [
      "W0918 13:52:24.658679 4568876480 training_utils.py:1211] When passing input data as arrays, do not specify `steps_per_epoch`/`steps` argument. Please use `batch_size` instead.\n"
     ]
    },
    {
     "name": "stdout",
     "output_type": "stream",
     "text": [
      "Epoch 1/10\n",
      "55000/55000 [==============================] - 11s 200us/sample - loss: 39.2228 - accuracy: 0.7298 - val_loss: 3.3193 - val_accuracy: 0.6386\n",
      "Epoch 2/10\n",
      "55000/55000 [==============================] - 10s 175us/sample - loss: 1.9708 - accuracy: 0.7055 - val_loss: 1.8080 - val_accuracy: 0.7148\n",
      "Epoch 3/10\n",
      "55000/55000 [==============================] - 10s 174us/sample - loss: 1.4273 - accuracy: 0.7420 - val_loss: 1.7238 - val_accuracy: 0.6420\n",
      "Epoch 4/10\n",
      "55000/55000 [==============================] - 10s 174us/sample - loss: 1.3371 - accuracy: 0.7513 - val_loss: 1.3952 - val_accuracy: 0.7108\n",
      "Epoch 5/10\n",
      "55000/55000 [==============================] - 10s 174us/sample - loss: 1.1993 - accuracy: 0.7613 - val_loss: 1.2474 - val_accuracy: 0.7354\n",
      "Epoch 6/10\n",
      "55000/55000 [==============================] - 9s 172us/sample - loss: 1.1698 - accuracy: 0.7674 - val_loss: 1.4050 - val_accuracy: 0.6900\n",
      "Epoch 7/10\n",
      "55000/55000 [==============================] - 10s 173us/sample - loss: 1.1598 - accuracy: 0.7674 - val_loss: 1.1391 - val_accuracy: 0.7824\n",
      "Epoch 8/10\n",
      "55000/55000 [==============================] - 9s 167us/sample - loss: 1.1586 - accuracy: 0.7662 - val_loss: 1.9253 - val_accuracy: 0.6426\n",
      "Epoch 9/10\n",
      "55000/55000 [==============================] - 9s 166us/sample - loss: 1.1492 - accuracy: 0.7696 - val_loss: 1.3050 - val_accuracy: 0.7180\n",
      "Epoch 10/10\n",
      "55000/55000 [==============================] - 9s 165us/sample - loss: 1.1449 - accuracy: 0.7702 - val_loss: 1.3573 - val_accuracy: 0.7110\n"
     ]
    }
   ],
   "source": [
    "model = get_model(l1)\n",
    "hl1 = model.fit(X_train, y_train, epochs = 10, validation_data = (X_valid, y_valid))"
   ]
  },
  {
   "cell_type": "code",
   "execution_count": 187,
   "metadata": {},
   "outputs": [
    {
     "name": "stderr",
     "output_type": "stream",
     "text": [
      "W0918 13:54:00.705541 4568876480 training_utils.py:1211] When passing input data as arrays, do not specify `steps_per_epoch`/`steps` argument. Please use `batch_size` instead.\n"
     ]
    },
    {
     "name": "stdout",
     "output_type": "stream",
     "text": [
      "Epoch 1/10\n",
      "55000/55000 [==============================] - 11s 199us/sample - loss: 9.9849 - accuracy: 0.8113 - val_loss: 6.9703 - val_accuracy: 0.8648\n",
      "Epoch 2/10\n",
      "55000/55000 [==============================] - 9s 163us/sample - loss: 5.1912 - accuracy: 0.8491 - val_loss: 3.7321 - val_accuracy: 0.8574\n",
      "Epoch 3/10\n",
      "55000/55000 [==============================] - 9s 166us/sample - loss: 2.8351 - accuracy: 0.8565 - val_loss: 2.1199 - val_accuracy: 0.8520\n",
      "Epoch 4/10\n",
      "55000/55000 [==============================] - 9s 166us/sample - loss: 1.6667 - accuracy: 0.8539 - val_loss: 1.3967 - val_accuracy: 0.8038\n",
      "Epoch 5/10\n",
      "55000/55000 [==============================] - 9s 166us/sample - loss: 1.0881 - accuracy: 0.8556 - val_loss: 0.8957 - val_accuracy: 0.8608\n",
      "Epoch 6/10\n",
      "55000/55000 [==============================] - 9s 167us/sample - loss: 0.7955 - accuracy: 0.8558 - val_loss: 0.7495 - val_accuracy: 0.8404\n",
      "Epoch 7/10\n",
      "55000/55000 [==============================] - 9s 173us/sample - loss: 0.6552 - accuracy: 0.8552 - val_loss: 0.6319 - val_accuracy: 0.8492\n",
      "Epoch 8/10\n",
      "55000/55000 [==============================] - 9s 169us/sample - loss: 0.5815 - accuracy: 0.8521 - val_loss: 0.6431 - val_accuracy: 0.8328\n",
      "Epoch 9/10\n",
      "55000/55000 [==============================] - 9s 171us/sample - loss: 0.5454 - accuracy: 0.8539 - val_loss: 0.5388 - val_accuracy: 0.8548\n",
      "Epoch 10/10\n",
      "55000/55000 [==============================] - 10s 177us/sample - loss: 0.5243 - accuracy: 0.8531 - val_loss: 0.6285 - val_accuracy: 0.8166\n"
     ]
    }
   ],
   "source": [
    "model = get_model(l2)\n",
    "hl2 = model.fit(X_train, y_train, epochs = 10, validation_data = (X_valid, y_valid))"
   ]
  },
  {
   "cell_type": "code",
   "execution_count": 189,
   "metadata": {},
   "outputs": [
    {
     "name": "stderr",
     "output_type": "stream",
     "text": [
      "W0918 13:57:06.340405 4568876480 training_utils.py:1211] When passing input data as arrays, do not specify `steps_per_epoch`/`steps` argument. Please use `batch_size` instead.\n"
     ]
    },
    {
     "name": "stdout",
     "output_type": "stream",
     "text": [
      "Epoch 1/10\n",
      "55000/55000 [==============================] - 12s 216us/sample - loss: 62.7249 - accuracy: 0.1661 - val_loss: 21.2543 - val_accuracy: 0.1782\n",
      "Epoch 2/10\n",
      "55000/55000 [==============================] - 10s 187us/sample - loss: 22.5879 - accuracy: 0.1733 - val_loss: 18.7317 - val_accuracy: 0.0992\n",
      "Epoch 3/10\n",
      "55000/55000 [==============================] - 11s 193us/sample - loss: 23.0471 - accuracy: 0.2064 - val_loss: 29.2631 - val_accuracy: 0.1776\n",
      "Epoch 4/10\n",
      "55000/55000 [==============================] - 11s 192us/sample - loss: 22.4375 - accuracy: 0.2161 - val_loss: 23.8948 - val_accuracy: 0.1028\n",
      "Epoch 5/10\n",
      "55000/55000 [==============================] - 10s 190us/sample - loss: 21.7375 - accuracy: 0.2284 - val_loss: 28.1722 - val_accuracy: 0.3002\n",
      "Epoch 6/10\n",
      "55000/55000 [==============================] - 11s 192us/sample - loss: 21.4144 - accuracy: 0.2437 - val_loss: 20.0502 - val_accuracy: 0.1890\n",
      "Epoch 7/10\n",
      "55000/55000 [==============================] - 10s 190us/sample - loss: 22.0750 - accuracy: 0.2528 - val_loss: 18.6745 - val_accuracy: 0.1092\n",
      "Epoch 8/10\n",
      "55000/55000 [==============================] - 11s 192us/sample - loss: 21.2742 - accuracy: 0.2620 - val_loss: 18.6348 - val_accuracy: 0.0998\n",
      "Epoch 9/10\n",
      "55000/55000 [==============================] - 11s 191us/sample - loss: 22.3472 - accuracy: 0.2559 - val_loss: 18.5236 - val_accuracy: 0.1418\n",
      "Epoch 10/10\n",
      "55000/55000 [==============================] - 10s 191us/sample - loss: 21.9542 - accuracy: 0.2533 - val_loss: 19.7803 - val_accuracy: 0.0902\n"
     ]
    }
   ],
   "source": [
    "model = get_model(l1_l2)\n",
    "hl1l2 = model.fit(X_train, y_train, epochs = 10, validation_data = (X_valid, y_valid))"
   ]
  },
  {
   "cell_type": "code",
   "execution_count": 191,
   "metadata": {},
   "outputs": [
    {
     "data": {
      "text/plain": [
       "<matplotlib.axes._subplots.AxesSubplot at 0x1664752e8>"
      ]
     },
     "execution_count": 191,
     "metadata": {},
     "output_type": "execute_result"
    },
    {
     "data": {
      "image/png": "[encoded data removed]",
      "text/plain": [
       "<Figure size 576x360 with 1 Axes>"
      ]
     },
     "metadata": {
      "needs_background": "light"
     },
     "output_type": "display_data"
    }
   ],
   "source": [
    "pd.DataFrame(hl1.history)[['loss', 'val_loss']].plot(figsize = (8,5))"
   ]
  },
  {
   "cell_type": "code",
   "execution_count": 192,
   "metadata": {},
   "outputs": [
    {
     "data": {
      "text/plain": [
       "<matplotlib.axes._subplots.AxesSubplot at 0x16a76d240>"
      ]
     },
     "execution_count": 192,
     "metadata": {},
     "output_type": "execute_result"
    },
    {
     "data": {
      "image/png": "[encoded data removed]",
      "text/plain": [
       "<Figure size 576x360 with 1 Axes>"
      ]
     },
     "metadata": {
      "needs_background": "light"
     },
     "output_type": "display_data"
    }
   ],
   "source": [
    "pd.DataFrame(hl2.history)[['loss', 'val_loss']].plot(figsize = (8,5))"
   ]
  },
  {
   "cell_type": "code",
   "execution_count": 193,
   "metadata": {},
   "outputs": [
    {
     "data": {
      "text/plain": [
       "<matplotlib.axes._subplots.AxesSubplot at 0x168f19be0>"
      ]
     },
     "execution_count": 193,
     "metadata": {},
     "output_type": "execute_result"
    },
    {
     "data": {
      "image/png": "[encoded data removed]",
      "text/plain": [
       "<Figure size 576x360 with 1 Axes>"
      ]
     },
     "metadata": {
      "needs_background": "light"
     },
     "output_type": "display_data"
    }
   ],
   "source": [
    "pd.DataFrame(hl1l2.history)[['loss', 'val_loss']].plot(figsize = (8,5))"
   ]
  },
  {
   "cell_type": "markdown",
   "metadata": {},
   "source": [
    "### Dropout\n",
    "Ideia: dada uma rede com $N$ neurônios, elimine $p$% deles no início do batch. Ao fim do batch, retorne os neurônios. Repita todo o processo no próximo batch. Resultado: você está treinando um ensemble de modelos, um novo modelo para cada batch de dados. Ao fim, você quer usar o peso compartilhado aprendido por todos os modelos. Em termos práticos, nenhum neurônio pode se co-adaptar a nenhum outros, o que faz com que eles prefiram ter conexões com vários. "
   ]
  },
  {
   "cell_type": "code",
   "execution_count": 199,
   "metadata": {},
   "outputs": [],
   "source": [
    "X_input = keras.layers.Input(shape=[28, 28])\n",
    "\n",
    "h0    = keras.layers.Flatten()(X_input)\n",
    "h1    = keras.layers.Dense(300, activation='elu', kernel_initializer=\"he_normal\")(h0) \n",
    "h1    = keras.layers.BatchNormalization()(h1)\n",
    "h1    = keras.layers.Dropout(0.3)(h1)\n",
    "h2    = keras.layers.Dense(200, activation='elu', kernel_initializer=\"he_normal\")(h1)\n",
    "h2    = keras.layers.BatchNormalization()(h2)\n",
    "h2    = keras.layers.Dropout(0.3)(h2)\n",
    "h3    = keras.layers.Dense(100, activation='elu', kernel_initializer=\"he_normal\")(h2)\n",
    "h3    = keras.layers.BatchNormalization()(h3)\n",
    "h3    = keras.layers.Dropout(0.3)(h3)\n",
    "h4    = keras.layers.Dense( 50, activation='elu', kernel_initializer=\"he_normal\")(h3)\n",
    "h4    = keras.layers.BatchNormalization()(h4)\n",
    "h4    = keras.layers.Dropout(0.3)(h4)\n",
    "yhat  = keras.layers.Dense(10, activation=\"softmax\")(h4)\n",
    "model = keras.models.Model(inputs=[X_input], outputs=[yhat])\n",
    "\n",
    "model.compile(loss = \"sparse_categorical_crossentropy\",\n",
    "             optimizer = \"sgd\",\n",
    "             metrics = [\"accuracy\"])"
   ]
  },
  {
   "cell_type": "code",
   "execution_count": 200,
   "metadata": {},
   "outputs": [
    {
     "name": "stderr",
     "output_type": "stream",
     "text": [
      "W0918 14:06:48.891704 4568876480 training_utils.py:1211] When passing input data as arrays, do not specify `steps_per_epoch`/`steps` argument. Please use `batch_size` instead.\n"
     ]
    },
    {
     "name": "stdout",
     "output_type": "stream",
     "text": [
      "Epoch 1/10\n",
      "55000/55000 [==============================] - 11s 197us/sample - loss: 0.8811 - accuracy: 0.6927 - val_loss: 0.4618 - val_accuracy: 0.8318\n",
      "Epoch 2/10\n",
      "55000/55000 [==============================] - 9s 170us/sample - loss: 0.6446 - accuracy: 0.7729 - val_loss: 0.4273 - val_accuracy: 0.8456\n",
      "Epoch 3/10\n",
      "55000/55000 [==============================] - 9s 161us/sample - loss: 0.5878 - accuracy: 0.7951 - val_loss: 0.4112 - val_accuracy: 0.8536\n",
      "Epoch 4/10\n",
      "55000/55000 [==============================] - 9s 164us/sample - loss: 0.5543 - accuracy: 0.8049 - val_loss: 0.3896 - val_accuracy: 0.8592\n",
      "Epoch 5/10\n",
      "55000/55000 [==============================] - 9s 161us/sample - loss: 0.5389 - accuracy: 0.8113 - val_loss: 0.3829 - val_accuracy: 0.8630\n",
      "Epoch 6/10\n",
      "55000/55000 [==============================] - 9s 164us/sample - loss: 0.5164 - accuracy: 0.8183 - val_loss: 0.3751 - val_accuracy: 0.8632\n",
      "Epoch 7/10\n",
      "55000/55000 [==============================] - 9s 164us/sample - loss: 0.5048 - accuracy: 0.8220 - val_loss: 0.3683 - val_accuracy: 0.8650\n",
      "Epoch 8/10\n",
      "55000/55000 [==============================] - 9s 168us/sample - loss: 0.4939 - accuracy: 0.8266 - val_loss: 0.3663 - val_accuracy: 0.8650\n",
      "Epoch 9/10\n",
      "55000/55000 [==============================] - 9s 163us/sample - loss: 0.4869 - accuracy: 0.8297 - val_loss: 0.3583 - val_accuracy: 0.8690\n",
      "Epoch 10/10\n",
      "55000/55000 [==============================] - 9s 163us/sample - loss: 0.4775 - accuracy: 0.8321 - val_loss: 0.3550 - val_accuracy: 0.8696\n"
     ]
    }
   ],
   "source": [
    "h = model.fit(X_train, y_train, epochs = 10, \n",
    "              validation_data = (X_valid, y_valid))"
   ]
  },
  {
   "cell_type": "code",
   "execution_count": 201,
   "metadata": {},
   "outputs": [
    {
     "data": {
      "text/plain": [
       "<matplotlib.axes._subplots.AxesSubplot at 0x16b750a90>"
      ]
     },
     "execution_count": 201,
     "metadata": {},
     "output_type": "execute_result"
    },
    {
     "data": {
      "image/png": "[encoded data removed]",
      "text/plain": [
       "<Figure size 576x360 with 1 Axes>"
      ]
     },
     "metadata": {
      "needs_background": "light"
     },
     "output_type": "display_data"
    }
   ],
   "source": [
    "pd.DataFrame(h.history)[['loss', 'val_loss']].plot(figsize = (8,5))"
   ]
  },
  {
   "cell_type": "markdown",
   "metadata": {},
   "source": [
    "### Dropout de Monte Carlo\n",
    "Ideia: Dropout aplicado durante a fase de teste. "
   ]
  },
  {
   "cell_type": "code",
   "execution_count": 244,
   "metadata": {},
   "outputs": [],
   "source": [
    "class MCDropout(keras.layers.Dropout): \n",
    "    def call(self, inputs):\n",
    "        return super().call(inputs, training=True)"
   ]
  },
  {
   "cell_type": "code",
   "execution_count": 246,
   "metadata": {},
   "outputs": [],
   "source": [
    "X_input = keras.layers.Input(shape=[28, 28])\n",
    "\n",
    "h0    = keras.layers.Flatten()(X_input)\n",
    "h1    = keras.layers.Dense(300, activation='elu', kernel_initializer=\"he_normal\")(h0) \n",
    "h1    = keras.layers.BatchNormalization()(h1)\n",
    "h1    = MCDropout(0.3)(h1)\n",
    "h2    = keras.layers.Dense(200, activation='elu', kernel_initializer=\"he_normal\")(h1)\n",
    "h2    = keras.layers.BatchNormalization()(h2)\n",
    "h2    = MCDropout(0.3)(h2)\n",
    "h3    = keras.layers.Dense(100, activation='elu', kernel_initializer=\"he_normal\")(h2)\n",
    "h3    = keras.layers.BatchNormalization()(h3)\n",
    "h3    = MCDropout(0.3)(h3)\n",
    "h4    = keras.layers.Dense( 50, activation='elu', kernel_initializer=\"he_normal\")(h3)\n",
    "h4    = keras.layers.BatchNormalization()(h4)\n",
    "h4    = MCDropout(0.3)(h4)\n",
    "yhat  = keras.layers.Dense(10, activation=\"softmax\")(h4)\n",
    "model = keras.models.Model(inputs=[X_input], outputs=[yhat])\n",
    "\n",
    "model.compile(loss = \"sparse_categorical_crossentropy\",\n",
    "             optimizer = \"sgd\",\n",
    "             metrics = [\"accuracy\"])"
   ]
  },
  {
   "cell_type": "code",
   "execution_count": 247,
   "metadata": {},
   "outputs": [
    {
     "name": "stderr",
     "output_type": "stream",
     "text": [
      "W0918 14:41:34.497312 4568876480 training_utils.py:1211] When passing input data as arrays, do not specify `steps_per_epoch`/`steps` argument. Please use `batch_size` instead.\n"
     ]
    },
    {
     "name": "stdout",
     "output_type": "stream",
     "text": [
      "Epoch 1/10\n",
      "55000/55000 [==============================] - 10s 181us/sample - loss: 0.8902 - accuracy: 0.6936 - val_loss: 0.6183 - val_accuracy: 0.7878\n",
      "Epoch 2/10\n",
      "55000/55000 [==============================] - 9s 167us/sample - loss: 0.6437 - accuracy: 0.7766 - val_loss: 0.5377 - val_accuracy: 0.8136\n",
      "Epoch 3/10\n",
      "55000/55000 [==============================] - 9s 161us/sample - loss: 0.5884 - accuracy: 0.7949 - val_loss: 0.5271 - val_accuracy: 0.8160\n",
      "Epoch 4/10\n",
      "55000/55000 [==============================] - 9s 163us/sample - loss: 0.5613 - accuracy: 0.8044 - val_loss: 0.4899 - val_accuracy: 0.8330\n",
      "Epoch 5/10\n",
      "55000/55000 [==============================] - 9s 163us/sample - loss: 0.5398 - accuracy: 0.8105 - val_loss: 0.4747 - val_accuracy: 0.8390\n",
      "Epoch 6/10\n",
      "55000/55000 [==============================] - 9s 169us/sample - loss: 0.5200 - accuracy: 0.8189 - val_loss: 0.4560 - val_accuracy: 0.8404\n",
      "Epoch 7/10\n",
      "55000/55000 [==============================] - 9s 165us/sample - loss: 0.5067 - accuracy: 0.8232 - val_loss: 0.4653 - val_accuracy: 0.8420\n",
      "Epoch 8/10\n",
      "55000/55000 [==============================] - 9s 164us/sample - loss: 0.4982 - accuracy: 0.8260 - val_loss: 0.4445 - val_accuracy: 0.8470\n",
      "Epoch 9/10\n",
      "55000/55000 [==============================] - 9s 168us/sample - loss: 0.4882 - accuracy: 0.8306 - val_loss: 0.4430 - val_accuracy: 0.8490\n",
      "Epoch 10/10\n",
      "55000/55000 [==============================] - 9s 170us/sample - loss: 0.4822 - accuracy: 0.8325 - val_loss: 0.4376 - val_accuracy: 0.8526\n"
     ]
    }
   ],
   "source": [
    "h = model.fit(X_train, y_train, epochs = 10, \n",
    "              validation_data = (X_valid, y_valid))"
   ]
  },
  {
   "cell_type": "code",
   "execution_count": 248,
   "metadata": {},
   "outputs": [],
   "source": [
    "X_test_scaled = X_test / 255.0"
   ]
  },
  {
   "cell_type": "code",
   "execution_count": 249,
   "metadata": {},
   "outputs": [
    {
     "data": {
      "text/plain": [
       "(1, 28, 28)"
      ]
     },
     "execution_count": 249,
     "metadata": {},
     "output_type": "execute_result"
    }
   ],
   "source": [
    "X_test_scaled[:1].shape"
   ]
  },
  {
   "cell_type": "code",
   "execution_count": 250,
   "metadata": {},
   "outputs": [
    {
     "name": "stderr",
     "output_type": "stream",
     "text": [
      "W0918 14:43:13.707838 4568876480 training_utils.py:1211] When passing input data as arrays, do not specify `steps_per_epoch`/`steps` argument. Please use `batch_size` instead.\n"
     ]
    }
   ],
   "source": [
    "y_pred = model.predict(X_test_scaled[:1])"
   ]
  },
  {
   "cell_type": "code",
   "execution_count": 251,
   "metadata": {},
   "outputs": [
    {
     "data": {
      "text/plain": [
       "array([[0.  , 0.  , 0.  , 0.  , 0.  , 0.1 , 0.  , 0.07, 0.  , 0.83]],\n",
       "      dtype=float32)"
      ]
     },
     "execution_count": 251,
     "metadata": {},
     "output_type": "execute_result"
    }
   ],
   "source": [
    "np.round(y_pred, 2)"
   ]
  },
  {
   "cell_type": "code",
   "execution_count": 252,
   "metadata": {},
   "outputs": [
    {
     "data": {
      "text/plain": [
       "array([9], dtype=uint8)"
      ]
     },
     "execution_count": 252,
     "metadata": {},
     "output_type": "execute_result"
    }
   ],
   "source": [
    "y_test[:1]"
   ]
  },
  {
   "cell_type": "code",
   "execution_count": 253,
   "metadata": {},
   "outputs": [
    {
     "name": "stderr",
     "output_type": "stream",
     "text": [
      "W0918 14:43:36.543435 4568876480 training_utils.py:1211] When passing input data as arrays, do not specify `steps_per_epoch`/`steps` argument. Please use `batch_size` instead.\n",
      "W0918 14:43:36.552136 4568876480 training_utils.py:1211] When passing input data as arrays, do not specify `steps_per_epoch`/`steps` argument. Please use `batch_size` instead.\n",
      "W0918 14:43:36.559839 4568876480 training_utils.py:1211] When passing input data as arrays, do not specify `steps_per_epoch`/`steps` argument. Please use `batch_size` instead.\n",
      "W0918 14:43:36.568785 4568876480 training_utils.py:1211] When passing input data as arrays, do not specify `steps_per_epoch`/`steps` argument. Please use `batch_size` instead.\n",
      "W0918 14:43:36.576416 4568876480 training_utils.py:1211] When passing input data as arrays, do not specify `steps_per_epoch`/`steps` argument. Please use `batch_size` instead.\n",
      "W0918 14:43:36.583760 4568876480 training_utils.py:1211] When passing input data as arrays, do not specify `steps_per_epoch`/`steps` argument. Please use `batch_size` instead.\n",
      "W0918 14:43:36.590959 4568876480 training_utils.py:1211] When passing input data as arrays, do not specify `steps_per_epoch`/`steps` argument. Please use `batch_size` instead.\n",
      "W0918 14:43:36.597767 4568876480 training_utils.py:1211] When passing input data as arrays, do not specify `steps_per_epoch`/`steps` argument. Please use `batch_size` instead.\n",
      "W0918 14:43:36.604781 4568876480 training_utils.py:1211] When passing input data as arrays, do not specify `steps_per_epoch`/`steps` argument. Please use `batch_size` instead.\n",
      "W0918 14:43:36.611795 4568876480 training_utils.py:1211] When passing input data as arrays, do not specify `steps_per_epoch`/`steps` argument. Please use `batch_size` instead.\n",
      "W0918 14:43:36.619042 4568876480 training_utils.py:1211] When passing input data as arrays, do not specify `steps_per_epoch`/`steps` argument. Please use `batch_size` instead.\n",
      "W0918 14:43:36.626215 4568876480 training_utils.py:1211] When passing input data as arrays, do not specify `steps_per_epoch`/`steps` argument. Please use `batch_size` instead.\n",
      "W0918 14:43:36.633430 4568876480 training_utils.py:1211] When passing input data as arrays, do not specify `steps_per_epoch`/`steps` argument. Please use `batch_size` instead.\n",
      "W0918 14:43:36.640432 4568876480 training_utils.py:1211] When passing input data as arrays, do not specify `steps_per_epoch`/`steps` argument. Please use `batch_size` instead.\n",
      "W0918 14:43:36.647088 4568876480 training_utils.py:1211] When passing input data as arrays, do not specify `steps_per_epoch`/`steps` argument. Please use `batch_size` instead.\n",
      "W0918 14:43:36.654099 4568876480 training_utils.py:1211] When passing input data as arrays, do not specify `steps_per_epoch`/`steps` argument. Please use `batch_size` instead.\n",
      "W0918 14:43:36.661510 4568876480 training_utils.py:1211] When passing input data as arrays, do not specify `steps_per_epoch`/`steps` argument. Please use `batch_size` instead.\n",
      "W0918 14:43:36.669075 4568876480 training_utils.py:1211] When passing input data as arrays, do not specify `steps_per_epoch`/`steps` argument. Please use `batch_size` instead.\n",
      "W0918 14:43:36.676734 4568876480 training_utils.py:1211] When passing input data as arrays, do not specify `steps_per_epoch`/`steps` argument. Please use `batch_size` instead.\n",
      "W0918 14:43:36.684634 4568876480 training_utils.py:1211] When passing input data as arrays, do not specify `steps_per_epoch`/`steps` argument. Please use `batch_size` instead.\n",
      "W0918 14:43:36.692908 4568876480 training_utils.py:1211] When passing input data as arrays, do not specify `steps_per_epoch`/`steps` argument. Please use `batch_size` instead.\n",
      "W0918 14:43:36.701232 4568876480 training_utils.py:1211] When passing input data as arrays, do not specify `steps_per_epoch`/`steps` argument. Please use `batch_size` instead.\n",
      "W0918 14:43:36.708974 4568876480 training_utils.py:1211] When passing input data as arrays, do not specify `steps_per_epoch`/`steps` argument. Please use `batch_size` instead.\n",
      "W0918 14:43:36.717849 4568876480 training_utils.py:1211] When passing input data as arrays, do not specify `steps_per_epoch`/`steps` argument. Please use `batch_size` instead.\n",
      "W0918 14:43:36.727582 4568876480 training_utils.py:1211] When passing input data as arrays, do not specify `steps_per_epoch`/`steps` argument. Please use `batch_size` instead.\n",
      "W0918 14:43:36.735382 4568876480 training_utils.py:1211] When passing input data as arrays, do not specify `steps_per_epoch`/`steps` argument. Please use `batch_size` instead.\n",
      "W0918 14:43:36.742535 4568876480 training_utils.py:1211] When passing input data as arrays, do not specify `steps_per_epoch`/`steps` argument. Please use `batch_size` instead.\n",
      "W0918 14:43:36.749893 4568876480 training_utils.py:1211] When passing input data as arrays, do not specify `steps_per_epoch`/`steps` argument. Please use `batch_size` instead.\n",
      "W0918 14:43:36.757205 4568876480 training_utils.py:1211] When passing input data as arrays, do not specify `steps_per_epoch`/`steps` argument. Please use `batch_size` instead.\n",
      "W0918 14:43:36.764138 4568876480 training_utils.py:1211] When passing input data as arrays, do not specify `steps_per_epoch`/`steps` argument. Please use `batch_size` instead.\n"
     ]
    }
   ],
   "source": [
    "y_probas = np.stack([model.predict(X_test_scaled[:1]) for sample in range(30)]) "
   ]
  },
  {
   "cell_type": "code",
   "execution_count": 254,
   "metadata": {},
   "outputs": [
    {
     "data": {
      "text/plain": [
       "(30, 1, 10)"
      ]
     },
     "execution_count": 254,
     "metadata": {},
     "output_type": "execute_result"
    }
   ],
   "source": [
    "y_probas.shape"
   ]
  },
  {
   "cell_type": "code",
   "execution_count": 262,
   "metadata": {},
   "outputs": [
    {
     "data": {
      "text/plain": [
       "array([[[0.  , 0.  , 0.  , 0.  , 0.  , 0.1 , 0.  , 0.34, 0.01, 0.54]],\n",
       "\n",
       "       [[0.  , 0.  , 0.  , 0.  , 0.  , 0.03, 0.  , 0.04, 0.01, 0.91]],\n",
       "\n",
       "       [[0.  , 0.  , 0.  , 0.  , 0.  , 0.25, 0.  , 0.02, 0.  , 0.73]],\n",
       "\n",
       "       [[0.  , 0.01, 0.  , 0.01, 0.  , 0.02, 0.  , 0.22, 0.01, 0.73]],\n",
       "\n",
       "       [[0.  , 0.  , 0.  , 0.  , 0.  , 0.01, 0.  , 0.01, 0.  , 0.98]],\n",
       "\n",
       "       [[0.  , 0.  , 0.  , 0.  , 0.  , 0.06, 0.  , 0.1 , 0.  , 0.84]],\n",
       "\n",
       "       [[0.  , 0.  , 0.  , 0.  , 0.  , 0.01, 0.  , 0.2 , 0.  , 0.79]],\n",
       "\n",
       "       [[0.  , 0.  , 0.  , 0.  , 0.  , 0.09, 0.  , 0.57, 0.  , 0.34]],\n",
       "\n",
       "       [[0.  , 0.  , 0.  , 0.  , 0.  , 0.02, 0.  , 0.08, 0.  , 0.9 ]],\n",
       "\n",
       "       [[0.  , 0.01, 0.  , 0.  , 0.  , 0.01, 0.  , 0.03, 0.  , 0.95]],\n",
       "\n",
       "       [[0.  , 0.  , 0.  , 0.  , 0.  , 0.25, 0.  , 0.16, 0.  , 0.59]],\n",
       "\n",
       "       [[0.  , 0.  , 0.  , 0.  , 0.  , 0.02, 0.  , 0.05, 0.  , 0.93]],\n",
       "\n",
       "       [[0.  , 0.  , 0.  , 0.  , 0.  , 0.33, 0.  , 0.07, 0.  , 0.59]],\n",
       "\n",
       "       [[0.  , 0.  , 0.  , 0.  , 0.  , 0.02, 0.  , 0.1 , 0.01, 0.86]],\n",
       "\n",
       "       [[0.  , 0.  , 0.  , 0.  , 0.  , 0.03, 0.  , 0.12, 0.01, 0.85]],\n",
       "\n",
       "       [[0.  , 0.  , 0.  , 0.  , 0.  , 0.09, 0.  , 0.1 , 0.  , 0.81]],\n",
       "\n",
       "       [[0.  , 0.  , 0.  , 0.  , 0.  , 0.03, 0.  , 0.05, 0.  , 0.92]],\n",
       "\n",
       "       [[0.  , 0.  , 0.  , 0.  , 0.  , 0.01, 0.  , 0.07, 0.  , 0.92]],\n",
       "\n",
       "       [[0.  , 0.  , 0.  , 0.  , 0.  , 0.02, 0.  , 0.41, 0.  , 0.57]],\n",
       "\n",
       "       [[0.  , 0.  , 0.  , 0.  , 0.  , 0.1 , 0.  , 0.14, 0.13, 0.63]],\n",
       "\n",
       "       [[0.  , 0.  , 0.  , 0.  , 0.  , 0.08, 0.  , 0.09, 0.  , 0.83]],\n",
       "\n",
       "       [[0.  , 0.  , 0.  , 0.  , 0.  , 0.04, 0.  , 0.18, 0.  , 0.78]],\n",
       "\n",
       "       [[0.  , 0.  , 0.  , 0.  , 0.  , 0.02, 0.  , 0.06, 0.  , 0.92]],\n",
       "\n",
       "       [[0.  , 0.  , 0.  , 0.  , 0.  , 0.08, 0.  , 0.05, 0.02, 0.85]],\n",
       "\n",
       "       [[0.  , 0.  , 0.  , 0.  , 0.  , 0.02, 0.  , 0.14, 0.  , 0.84]],\n",
       "\n",
       "       [[0.  , 0.  , 0.  , 0.  , 0.  , 0.04, 0.  , 0.06, 0.  , 0.9 ]],\n",
       "\n",
       "       [[0.  , 0.  , 0.  , 0.  , 0.  , 0.25, 0.  , 0.3 , 0.  , 0.43]],\n",
       "\n",
       "       [[0.  , 0.  , 0.  , 0.  , 0.  , 0.04, 0.  , 0.26, 0.  , 0.69]],\n",
       "\n",
       "       [[0.  , 0.  , 0.01, 0.  , 0.01, 0.04, 0.01, 0.06, 0.02, 0.85]],\n",
       "\n",
       "       [[0.  , 0.  , 0.  , 0.  , 0.  , 0.09, 0.  , 0.05, 0.  , 0.85]]],\n",
       "      dtype=float32)"
      ]
     },
     "execution_count": 262,
     "metadata": {},
     "output_type": "execute_result"
    }
   ],
   "source": [
    "np.round(y_probas[:, :1], 2)"
   ]
  },
  {
   "cell_type": "code",
   "execution_count": 256,
   "metadata": {},
   "outputs": [],
   "source": [
    "y_proba = y_probas.mean(axis=0)"
   ]
  },
  {
   "cell_type": "code",
   "execution_count": 257,
   "metadata": {},
   "outputs": [
    {
     "data": {
      "text/plain": [
       "array([[0.  , 0.  , 0.  , 0.  , 0.  , 0.07, 0.  , 0.14, 0.01, 0.78]],\n",
       "      dtype=float32)"
      ]
     },
     "execution_count": 257,
     "metadata": {},
     "output_type": "execute_result"
    }
   ],
   "source": [
    "np.round(y_proba, 2)"
   ]
  },
  {
   "cell_type": "code",
   "execution_count": 258,
   "metadata": {},
   "outputs": [],
   "source": [
    "from scipy.stats import sem, t\n",
    "from scipy import mean\n",
    "\n",
    "def cinterval(data, confidence = 0.95):\n",
    "    n = len(data)\n",
    "    m = mean(data)\n",
    "    std_err = sem(data)\n",
    "    h = std_err * t.ppf((1 + confidence) / 2, n - 1)\n",
    "    return m-h, m+h"
   ]
  },
  {
   "cell_type": "code",
   "execution_count": 263,
   "metadata": {},
   "outputs": [
    {
     "data": {
      "text/plain": [
       "(0.7169644806138022, 0.8377022769698159)"
      ]
     },
     "execution_count": 263,
     "metadata": {},
     "output_type": "execute_result"
    }
   ],
   "source": [
    "cinterval(np.round(y_probas[:, :1], 2)[:, 0, -1])"
   ]
  },
  {
   "cell_type": "markdown",
   "metadata": {},
   "source": [
    "### Otimizadores"
   ]
  },
  {
   "cell_type": "markdown",
   "metadata": {},
   "source": [
    "#### Momento\n",
    "Ideia: atualização deveria depender de anterior;"
   ]
  },
  {
   "cell_type": "code",
   "execution_count": 15,
   "metadata": {},
   "outputs": [],
   "source": [
    "optimizer = keras.optimizers.SGD(lr=0.001, momentum=0.9)"
   ]
  },
  {
   "cell_type": "markdown",
   "metadata": {},
   "source": [
    "#### Nesterov\n",
    "Ideia: atualização deveria depender de anterior e próxima, para evitar oscilações;"
   ]
  },
  {
   "cell_type": "code",
   "execution_count": 16,
   "metadata": {},
   "outputs": [],
   "source": [
    "optimizer = keras.optimizers.SGD(lr=0.001, momentum=0.9, nesterov = True)"
   ]
  },
  {
   "cell_type": "markdown",
   "metadata": {},
   "source": [
    "#### AdaGrad\n",
    "Ideia: primeiro algoritmo a modificar learning rate de acordo com quão íngrime é a superfície. Esse método, na prática, não funciona bem pois ele tende a diminuir muito rápido o learning rate, fazendo a otimização parar antes do tempo. Ele é importante, contudo, por ser a base para vários algoritmos adaptativos."
   ]
  },
  {
   "cell_type": "code",
   "execution_count": 17,
   "metadata": {},
   "outputs": [],
   "source": [
    "optimizer = keras.optimizers.Adagrad(lr=0.01, epsilon=None, decay=0.0)"
   ]
  },
  {
   "cell_type": "markdown",
   "metadata": {},
   "source": [
    "#### RMSProp\n",
    "Ideia: ao contrário do Adagrad, uma janela de valores é considerada em lugar de todos os valores passados. Isso desacelera o decaimento do learning rate. Até o surgimento do Adam, este foi o algoritmo mais usado."
   ]
  },
  {
   "cell_type": "code",
   "execution_count": 18,
   "metadata": {},
   "outputs": [],
   "source": [
    "optimizer = keras.optimizers.RMSprop(lr=0.001, rho=0.9)"
   ]
  },
  {
   "cell_type": "markdown",
   "metadata": {},
   "source": [
    "#### Adam & Nadam\n",
    "Ideia: combina o RMSProp com momento (Adam) e com Nesterov (Nadam)."
   ]
  },
  {
   "cell_type": "code",
   "execution_count": 19,
   "metadata": {},
   "outputs": [],
   "source": [
    "optimizer = keras.optimizers.Adam(lr=0.001, beta_1=0.9, beta_2=0.999)"
   ]
  },
  {
   "cell_type": "markdown",
   "metadata": {},
   "source": [
    "#### Treine o último modelo com BN para todos os otimizadores citados"
   ]
  },
  {
   "cell_type": "code",
   "execution_count": 20,
   "metadata": {},
   "outputs": [],
   "source": [
    "X_input = keras.layers.Input(shape=[28, 28])\n",
    "\n",
    "h0    = keras.layers.Flatten()(X_input)\n",
    "h1    = keras.layers.Dense(300, kernel_initializer=\"he_normal\")(h0) \n",
    "h1    = keras.layers.BatchNormalization()(h1)\n",
    "h1    = keras.layers.Activation('elu')(h1)\n",
    "h2    = keras.layers.Dense(200, kernel_initializer=\"he_normal\")(h1)\n",
    "h2    = keras.layers.BatchNormalization()(h2)\n",
    "h2    = keras.layers.Activation('elu')(h1)\n",
    "h3    = keras.layers.Dense(100, kernel_initializer=\"he_normal\")(h2)\n",
    "h3    = keras.layers.BatchNormalization()(h3)\n",
    "h3    = keras.layers.Activation('elu')(h3)\n",
    "h4    = keras.layers.Dense( 50, kernel_initializer=\"he_normal\")(h3)\n",
    "h4    = keras.layers.BatchNormalization()(h4)\n",
    "h4    = keras.layers.Activation('elu')(h4)\n",
    "yhat  = keras.layers.Dense(10, activation=\"softmax\")(h4)"
   ]
  },
  {
   "cell_type": "code",
   "execution_count": 148,
   "metadata": {},
   "outputs": [
    {
     "name": "stderr",
     "output_type": "stream",
     "text": [
      "W0917 22:04:05.417441 4568876480 training_utils.py:1211] When passing input data as arrays, do not specify `steps_per_epoch`/`steps` argument. Please use `batch_size` instead.\n"
     ]
    },
    {
     "name": "stdout",
     "output_type": "stream",
     "text": [
      "Epoch 1/10\n",
      "55000/55000 [==============================] - 8s 142us/sample - loss: 0.9390 - accuracy: 0.6954 - val_loss: 0.6442 - val_accuracy: 0.7960\n",
      "Epoch 2/10\n",
      "55000/55000 [==============================] - 7s 128us/sample - loss: 0.6450 - accuracy: 0.7898 - val_loss: 0.5438 - val_accuracy: 0.8228\n",
      "Epoch 3/10\n",
      "55000/55000 [==============================] - 7s 135us/sample - loss: 0.5747 - accuracy: 0.8085 - val_loss: 0.4991 - val_accuracy: 0.8388\n",
      "Epoch 4/10\n",
      "55000/55000 [==============================] - 7s 134us/sample - loss: 0.5365 - accuracy: 0.8184 - val_loss: 0.4710 - val_accuracy: 0.8446\n",
      "Epoch 5/10\n",
      "55000/55000 [==============================] - 7s 133us/sample - loss: 0.5110 - accuracy: 0.8253 - val_loss: 0.4531 - val_accuracy: 0.8512\n",
      "Epoch 6/10\n",
      "55000/55000 [==============================] - 7s 131us/sample - loss: 0.4889 - accuracy: 0.8315 - val_loss: 0.4382 - val_accuracy: 0.8566\n",
      "Epoch 7/10\n",
      "55000/55000 [==============================] - 7s 133us/sample - loss: 0.4739 - accuracy: 0.8381 - val_loss: 0.4266 - val_accuracy: 0.8586\n",
      "Epoch 8/10\n",
      "55000/55000 [==============================] - 7s 131us/sample - loss: 0.4598 - accuracy: 0.8407 - val_loss: 0.4176 - val_accuracy: 0.8608\n",
      "Epoch 9/10\n",
      "55000/55000 [==============================] - 7s 130us/sample - loss: 0.4492 - accuracy: 0.8452 - val_loss: 0.4095 - val_accuracy: 0.8600\n",
      "Epoch 10/10\n",
      "55000/55000 [==============================] - 7s 131us/sample - loss: 0.4398 - accuracy: 0.8465 - val_loss: 0.4028 - val_accuracy: 0.8616\n"
     ]
    }
   ],
   "source": [
    "model = keras.models.Model(inputs=[X_input], outputs=[yhat])\n",
    "opt = keras.optimizers.SGD(lr=0.001, momentum=0)\n",
    "model.compile(loss = \"sparse_categorical_crossentropy\", metrics = [\"accuracy\"], optimizer = opt)\n",
    "h_sgd = model.fit(X_train, y_train, epochs = 10, validation_data = (X_valid, y_valid))"
   ]
  },
  {
   "cell_type": "code",
   "execution_count": 146,
   "metadata": {},
   "outputs": [
    {
     "name": "stderr",
     "output_type": "stream",
     "text": [
      "W0917 22:02:48.774184 4568876480 training_utils.py:1211] When passing input data as arrays, do not specify `steps_per_epoch`/`steps` argument. Please use `batch_size` instead.\n"
     ]
    },
    {
     "name": "stdout",
     "output_type": "stream",
     "text": [
      "Epoch 1/10\n",
      "55000/55000 [==============================] - 10s 173us/sample - loss: 0.4293 - accuracy: 0.8498 - val_loss: 0.3703 - val_accuracy: 0.8664\n",
      "Epoch 2/10\n",
      "55000/55000 [==============================] - 7s 136us/sample - loss: 0.3871 - accuracy: 0.8618 - val_loss: 0.3479 - val_accuracy: 0.8778\n",
      "Epoch 3/10\n",
      "55000/55000 [==============================] - 8s 137us/sample - loss: 0.3593 - accuracy: 0.8716 - val_loss: 0.3431 - val_accuracy: 0.8732\n",
      "Epoch 4/10\n",
      "55000/55000 [==============================] - 8s 137us/sample - loss: 0.3394 - accuracy: 0.8775 - val_loss: 0.3425 - val_accuracy: 0.8746\n",
      "Epoch 5/10\n",
      "55000/55000 [==============================] - 7s 135us/sample - loss: 0.3230 - accuracy: 0.8843 - val_loss: 0.3228 - val_accuracy: 0.8820\n",
      "Epoch 6/10\n",
      "55000/55000 [==============================] - 7s 136us/sample - loss: 0.3061 - accuracy: 0.8893 - val_loss: 0.3189 - val_accuracy: 0.8838\n",
      "Epoch 7/10\n",
      "55000/55000 [==============================] - 7s 135us/sample - loss: 0.2957 - accuracy: 0.8929 - val_loss: 0.3103 - val_accuracy: 0.8850\n",
      "Epoch 8/10\n",
      "55000/55000 [==============================] - 7s 133us/sample - loss: 0.2823 - accuracy: 0.8967 - val_loss: 0.3074 - val_accuracy: 0.8868\n",
      "Epoch 9/10\n",
      "55000/55000 [==============================] - 7s 131us/sample - loss: 0.2716 - accuracy: 0.9018 - val_loss: 0.3117 - val_accuracy: 0.8896\n",
      "Epoch 10/10\n",
      "55000/55000 [==============================] - 7s 133us/sample - loss: 0.2637 - accuracy: 0.9049 - val_loss: 0.3144 - val_accuracy: 0.8854\n"
     ]
    }
   ],
   "source": [
    "model = keras.models.Model(inputs=[X_input], outputs=[yhat])\n",
    "opt = keras.optimizers.SGD(lr=0.001, momentum=0.9)\n",
    "model.compile(loss = \"sparse_categorical_crossentropy\", metrics = [\"accuracy\"], optimizer = opt)\n",
    "h_momentum = model.fit(X_train, y_train, epochs = 10, validation_data = (X_valid, y_valid))"
   ]
  },
  {
   "cell_type": "code",
   "execution_count": 149,
   "metadata": {},
   "outputs": [
    {
     "name": "stderr",
     "output_type": "stream",
     "text": [
      "W0917 22:05:19.918262 4568876480 training_utils.py:1211] When passing input data as arrays, do not specify `steps_per_epoch`/`steps` argument. Please use `batch_size` instead.\n"
     ]
    },
    {
     "name": "stdout",
     "output_type": "stream",
     "text": [
      "Epoch 1/10\n",
      "55000/55000 [==============================] - 8s 152us/sample - loss: 0.4231 - accuracy: 0.8525 - val_loss: 0.3767 - val_accuracy: 0.8642\n",
      "Epoch 2/10\n",
      "55000/55000 [==============================] - 8s 137us/sample - loss: 0.3831 - accuracy: 0.8629 - val_loss: 0.3557 - val_accuracy: 0.8744\n",
      "Epoch 3/10\n",
      "55000/55000 [==============================] - 8s 141us/sample - loss: 0.3576 - accuracy: 0.8723 - val_loss: 0.3463 - val_accuracy: 0.8742\n",
      "Epoch 4/10\n",
      "55000/55000 [==============================] - 8s 143us/sample - loss: 0.3374 - accuracy: 0.8790 - val_loss: 0.3314 - val_accuracy: 0.8794\n",
      "Epoch 5/10\n",
      "55000/55000 [==============================] - 8s 140us/sample - loss: 0.3214 - accuracy: 0.8844 - val_loss: 0.3301 - val_accuracy: 0.8780\n",
      "Epoch 6/10\n",
      "55000/55000 [==============================] - 8s 138us/sample - loss: 0.3036 - accuracy: 0.8905 - val_loss: 0.3376 - val_accuracy: 0.8764\n",
      "Epoch 7/10\n",
      "55000/55000 [==============================] - 8s 140us/sample - loss: 0.2940 - accuracy: 0.8939 - val_loss: 0.3182 - val_accuracy: 0.8874\n",
      "Epoch 8/10\n",
      "55000/55000 [==============================] - 8s 140us/sample - loss: 0.2816 - accuracy: 0.8979 - val_loss: 0.3166 - val_accuracy: 0.8876\n",
      "Epoch 9/10\n",
      "55000/55000 [==============================] - 8s 142us/sample - loss: 0.2703 - accuracy: 0.9016 - val_loss: 0.3094 - val_accuracy: 0.8880\n",
      "Epoch 10/10\n",
      "55000/55000 [==============================] - 8s 140us/sample - loss: 0.2610 - accuracy: 0.9052 - val_loss: 0.3015 - val_accuracy: 0.8888\n"
     ]
    }
   ],
   "source": [
    "model = keras.models.Model(inputs=[X_input], outputs=[yhat])\n",
    "opt = keras.optimizers.SGD(lr=0.001, momentum=0.9, nesterov = True)\n",
    "model.compile(loss = \"sparse_categorical_crossentropy\", metrics = [\"accuracy\"], optimizer = opt)\n",
    "h_nesterov = model.fit(X_train, y_train, epochs = 10, validation_data = (X_valid, y_valid))"
   ]
  },
  {
   "cell_type": "code",
   "execution_count": 150,
   "metadata": {},
   "outputs": [
    {
     "name": "stderr",
     "output_type": "stream",
     "text": [
      "W0917 22:07:26.163295 4568876480 training_utils.py:1211] When passing input data as arrays, do not specify `steps_per_epoch`/`steps` argument. Please use `batch_size` instead.\n"
     ]
    },
    {
     "name": "stdout",
     "output_type": "stream",
     "text": [
      "Epoch 1/10\n",
      "55000/55000 [==============================] - 12s 210us/sample - loss: 0.4255 - accuracy: 0.8455 - val_loss: 0.3674 - val_accuracy: 0.8630\n",
      "Epoch 2/10\n",
      "55000/55000 [==============================] - 10s 184us/sample - loss: 0.3524 - accuracy: 0.8687 - val_loss: 0.3879 - val_accuracy: 0.8538\n",
      "Epoch 3/10\n",
      "55000/55000 [==============================] - 10s 175us/sample - loss: 0.3213 - accuracy: 0.8815 - val_loss: 0.3390 - val_accuracy: 0.8734\n",
      "Epoch 4/10\n",
      "55000/55000 [==============================] - 10s 175us/sample - loss: 0.3009 - accuracy: 0.8881 - val_loss: 0.3790 - val_accuracy: 0.8552\n",
      "Epoch 5/10\n",
      "55000/55000 [==============================] - 10s 174us/sample - loss: 0.2830 - accuracy: 0.8953 - val_loss: 0.3273 - val_accuracy: 0.8802\n",
      "Epoch 6/10\n",
      "55000/55000 [==============================] - 10s 175us/sample - loss: 0.2665 - accuracy: 0.9023 - val_loss: 0.3187 - val_accuracy: 0.8876\n",
      "Epoch 7/10\n",
      "55000/55000 [==============================] - 10s 178us/sample - loss: 0.2572 - accuracy: 0.9042 - val_loss: 0.3243 - val_accuracy: 0.8864\n",
      "Epoch 8/10\n",
      "55000/55000 [==============================] - 10s 177us/sample - loss: 0.2433 - accuracy: 0.9094 - val_loss: 0.3135 - val_accuracy: 0.8882\n",
      "Epoch 9/10\n",
      "55000/55000 [==============================] - 10s 175us/sample - loss: 0.2333 - accuracy: 0.9139 - val_loss: 0.3131 - val_accuracy: 0.8902\n",
      "Epoch 10/10\n",
      "55000/55000 [==============================] - 10s 178us/sample - loss: 0.2249 - accuracy: 0.9163 - val_loss: 0.3447 - val_accuracy: 0.8776\n"
     ]
    }
   ],
   "source": [
    "model = keras.models.Model(inputs=[X_input], outputs=[yhat])\n",
    "opt = keras.optimizers.RMSprop(lr=0.001, rho=0.9)\n",
    "model.compile(loss = \"sparse_categorical_crossentropy\", metrics = [\"accuracy\"], optimizer = opt)\n",
    "h_rms = model.fit(X_train, y_train, epochs = 10, validation_data = (X_valid, y_valid))"
   ]
  },
  {
   "cell_type": "code",
   "execution_count": 151,
   "metadata": {},
   "outputs": [
    {
     "name": "stderr",
     "output_type": "stream",
     "text": [
      "W0917 22:09:05.347188 4568876480 training_utils.py:1211] When passing input data as arrays, do not specify `steps_per_epoch`/`steps` argument. Please use `batch_size` instead.\n"
     ]
    },
    {
     "name": "stdout",
     "output_type": "stream",
     "text": [
      "Epoch 1/10\n",
      "55000/55000 [==============================] - 9s 164us/sample - loss: 0.2193 - accuracy: 0.9193 - val_loss: 0.3316 - val_accuracy: 0.8874\n",
      "Epoch 2/10\n",
      "55000/55000 [==============================] - 8s 146us/sample - loss: 0.2069 - accuracy: 0.9223 - val_loss: 0.3221 - val_accuracy: 0.8822\n",
      "Epoch 3/10\n",
      "55000/55000 [==============================] - 8s 146us/sample - loss: 0.1988 - accuracy: 0.9259 - val_loss: 0.3510 - val_accuracy: 0.8826\n",
      "Epoch 4/10\n",
      "55000/55000 [==============================] - 8s 143us/sample - loss: 0.1914 - accuracy: 0.9284 - val_loss: 0.3478 - val_accuracy: 0.8782\n",
      "Epoch 5/10\n",
      "55000/55000 [==============================] - 8s 151us/sample - loss: 0.1810 - accuracy: 0.9324 - val_loss: 0.3250 - val_accuracy: 0.8912\n",
      "Epoch 6/10\n",
      "55000/55000 [==============================] - 8s 146us/sample - loss: 0.1738 - accuracy: 0.9347 - val_loss: 0.3245 - val_accuracy: 0.8920\n",
      "Epoch 7/10\n",
      "55000/55000 [==============================] - 8s 146us/sample - loss: 0.1684 - accuracy: 0.9361 - val_loss: 0.3561 - val_accuracy: 0.8828\n",
      "Epoch 8/10\n",
      "55000/55000 [==============================] - 8s 147us/sample - loss: 0.1600 - accuracy: 0.9391 - val_loss: 0.3230 - val_accuracy: 0.8940\n",
      "Epoch 9/10\n",
      "55000/55000 [==============================] - 8s 149us/sample - loss: 0.1527 - accuracy: 0.9421 - val_loss: 0.3469 - val_accuracy: 0.8908\n",
      "Epoch 10/10\n",
      "55000/55000 [==============================] - 8s 151us/sample - loss: 0.1488 - accuracy: 0.9440 - val_loss: 0.3326 - val_accuracy: 0.8888\n"
     ]
    }
   ],
   "source": [
    "model = keras.models.Model(inputs=[X_input], outputs=[yhat])\n",
    "opt = keras.optimizers.Adam(lr=0.001, beta_1=0.9, beta_2=0.999)\n",
    "model.compile(loss = \"sparse_categorical_crossentropy\", metrics = [\"accuracy\"], optimizer = opt)\n",
    "h_adam = model.fit(X_train, y_train, epochs = 10, validation_data = (X_valid, y_valid))"
   ]
  },
  {
   "cell_type": "code",
   "execution_count": 158,
   "metadata": {},
   "outputs": [
    {
     "data": {
      "text/plain": [
       "<matplotlib.legend.Legend at 0x1655ab4e0>"
      ]
     },
     "execution_count": 158,
     "metadata": {},
     "output_type": "execute_result"
    },
    {
     "data": {
      "image/png": "[encoded data removed]",
      "text/plain": [
       "<Figure size 432x288 with 1 Axes>"
      ]
     },
     "metadata": {
      "needs_background": "light"
     },
     "output_type": "display_data"
    }
   ],
   "source": [
    "plt.plot(h_sgd.history['val_loss'], label = 'sgd')\n",
    "plt.plot(h_momentum.history['val_loss'], label = 'momentum')\n",
    "plt.plot(h_nesterov.history['val_loss'], label = 'nesterov')\n",
    "plt.plot(h_rms.history['val_loss'], label = 'rms')\n",
    "plt.plot(h_adam.history['val_loss'], label = 'adam')\n",
    "plt.legend()"
   ]
  },
  {
   "cell_type": "markdown",
   "metadata": {},
   "source": [
    "__Observações__:\n",
    "\n",
    "* Se métodos adaptativos parecem não generalizar bem no seu caso, use SGD com Nesterov sem adaptação; o artigo The Marginal Value of Adaptive Gradient Methods in Machine Learning (2017, https://arxiv.org/abs/1705.08292) mostra que métodos adaptativos podem não generalizar tão bem em muitos casos;\n",
    "* Futuras versões do tensorflow devem suportar o algoritmo AdaBound (Adaptive Gradient Methods with Dynamic Bound of Learning Rate, 2019, https://arxiv.org/abs/1902.09843) que tenta corrigir os problemas de generalização dos métodos adaptativos; "
   ]
  },
  {
   "cell_type": "markdown",
   "metadata": {},
   "source": [
    "### Política de escalonamento da taxa de aprendizado"
   ]
  },
  {
   "cell_type": "markdown",
   "metadata": {},
   "source": [
    "Técnicas:\n",
    "    \n",
    "* __Potência__: redução da taxa por um fator de acordo com uma função de potência; Em keras, basta usar o parâmetro decay do otimizador: `optimizer = keras.optimizers.SGD(lr=0.01, decay=1e-4)`\n",
    "* __Exponencial__: redução da taxa por um fator de acordo com uma função exponencial;\n",
    "* __Degraus__: taxa é a mesma durante um certo número de épocas, quando é reduzida. O processo se repete assim por vários degraus.\n",
    "* __Desempenho__: similar a early stopping com redução de taxas quando desempemnho não é mais observado. Em Keras, use a callback: `lr_scheduler = keras.callbacks.ReduceLROnPlateau(factor=0.5, patience=5)`"
   ]
  },
  {
   "cell_type": "code",
   "execution_count": 64,
   "metadata": {},
   "outputs": [],
   "source": [
    "# cai um fator de 1/2 a cada s steps, 1/3 dps de outros s steps, 1/4 dpos novos s steps, ...\n",
    "# taxa de decaimento eh o inverso de s\n",
    "def potencia(tx0 = 0.01, decay = 1/3, c = 1, n = 10):\n",
    "    return np.array([tx0 / (1 + t*decay)**c for t in range(n)])\n",
    "\n",
    "# diminua por um fator de 10 cada s passos\n",
    "def exponencial(tx0 = 0.01, s = 1, n = 10):\n",
    "    return np.array([tx0 * 0.1**(t/s) for t in range(n)])\n",
    "\n",
    "# diminui conforme escala discreta dada\n",
    "def get_val(val, steps):\n",
    "    for s in steps:\n",
    "        if val < s[0]:\n",
    "            return s[1]\n",
    "    return 0\n",
    "def degrau(steps, n = 10): \n",
    "    return [get_val(t, steps) for t in range(n)]"
   ]
  },
  {
   "cell_type": "code",
   "execution_count": 65,
   "metadata": {},
   "outputs": [
    {
     "data": {
      "text/plain": [
       "<matplotlib.legend.Legend at 0x158da3208>"
      ]
     },
     "execution_count": 65,
     "metadata": {},
     "output_type": "execute_result"
    },
    {
     "data": {
      "image/png": "[encoded data removed]",
      "text/plain": [
       "<Figure size 432x288 with 1 Axes>"
      ]
     },
     "metadata": {
      "needs_background": "light"
     },
     "output_type": "display_data"
    }
   ],
   "source": [
    "plt.plot(potencia(tx0 = 0.01, decay = 1/3, n = 10), label = 'potencia')\n",
    "plt.plot(exponencial(tx0 = 0.01, n = 10), label = 'exponencial')\n",
    "plt.plot(degrau(steps = [(2, 0.01), (5, 0.005), (8, 0.0025), (10000, 0.001)], \n",
    "                n = 10), label = 'degrau')\n",
    "\n",
    "plt.legend()"
   ]
  },
  {
   "cell_type": "markdown",
   "metadata": {},
   "source": [
    "Para o caso __exponencial__:"
   ]
  },
  {
   "cell_type": "code",
   "execution_count": 160,
   "metadata": {},
   "outputs": [],
   "source": [
    "def exponential_decay(lr0 = 0.01, s = 20):\n",
    "    def exponential_decay_fn(epoch):\n",
    "        return lr0 * 0.1**(epoch / s)\n",
    "    return exponential_decay_fn\n",
    "\n",
    "exponential_decay_fn = exponential_decay(lr0=0.01, s=20)"
   ]
  },
  {
   "cell_type": "code",
   "execution_count": 161,
   "metadata": {},
   "outputs": [],
   "source": [
    "lr_scheduler = keras.callbacks.LearningRateScheduler(exponential_decay_fn)"
   ]
  },
  {
   "cell_type": "code",
   "execution_count": 162,
   "metadata": {},
   "outputs": [
    {
     "name": "stderr",
     "output_type": "stream",
     "text": [
      "W0917 22:40:05.176612 4568876480 training_utils.py:1211] When passing input data as arrays, do not specify `steps_per_epoch`/`steps` argument. Please use `batch_size` instead.\n"
     ]
    },
    {
     "name": "stdout",
     "output_type": "stream",
     "text": [
      "Epoch 1/10\n",
      "55000/55000 [==============================] - 11s 204us/sample - loss: 0.1378 - accuracy: 0.9478 - val_loss: 0.3679 - val_accuracy: 0.8918\n",
      "Epoch 2/10\n",
      "55000/55000 [==============================] - 10s 180us/sample - loss: 0.1301 - accuracy: 0.9516 - val_loss: 0.4168 - val_accuracy: 0.8868\n",
      "Epoch 3/10\n",
      "55000/55000 [==============================] - 10s 178us/sample - loss: 0.1274 - accuracy: 0.9529 - val_loss: 0.4627 - val_accuracy: 0.8850\n",
      "Epoch 4/10\n",
      "55000/55000 [==============================] - 10s 181us/sample - loss: 0.1241 - accuracy: 0.9532 - val_loss: 0.4113 - val_accuracy: 0.8910\n",
      "Epoch 5/10\n",
      "55000/55000 [==============================] - 10s 184us/sample - loss: 0.1192 - accuracy: 0.9563 - val_loss: 0.4728 - val_accuracy: 0.8782\n",
      "Epoch 6/10\n",
      "55000/55000 [==============================] - 10s 180us/sample - loss: 0.1149 - accuracy: 0.9577 - val_loss: 0.4707 - val_accuracy: 0.8794\n",
      "Epoch 7/10\n",
      "55000/55000 [==============================] - 10s 178us/sample - loss: 0.1135 - accuracy: 0.9585 - val_loss: 0.4454 - val_accuracy: 0.8956\n",
      "Epoch 8/10\n",
      "55000/55000 [==============================] - 10s 176us/sample - loss: 0.1098 - accuracy: 0.9589 - val_loss: 0.4108 - val_accuracy: 0.8944\n",
      "Epoch 9/10\n",
      "55000/55000 [==============================] - 10s 179us/sample - loss: 0.1050 - accuracy: 0.9605 - val_loss: 0.4291 - val_accuracy: 0.8890\n",
      "Epoch 10/10\n",
      "55000/55000 [==============================] - 10s 185us/sample - loss: 0.1027 - accuracy: 0.9616 - val_loss: 0.4810 - val_accuracy: 0.8772\n"
     ]
    }
   ],
   "source": [
    "model = keras.models.Model(inputs=[X_input], outputs=[yhat])\n",
    "opt = keras.optimizers.RMSprop(lr=0.001, rho=0.9)\n",
    "model.compile(loss = \"sparse_categorical_crossentropy\", metrics = [\"accuracy\"], \n",
    "              optimizer = opt, callbacks=[lr_scheduler])\n",
    "h_rms = model.fit(X_train, y_train, epochs = 10, validation_data = (X_valid, y_valid))"
   ]
  },
  {
   "cell_type": "markdown",
   "metadata": {},
   "source": [
    "Para o caso __degraus__:"
   ]
  },
  {
   "cell_type": "code",
   "execution_count": 164,
   "metadata": {},
   "outputs": [],
   "source": [
    "def piecewise_constant_fn(epoch): \n",
    "    if epoch < 3:\n",
    "        return 0.01 \n",
    "    elif epoch < 6: \n",
    "        return 0.005\n",
    "    else:\n",
    "        return 0.001\n",
    "    \n",
    "lr_scheduler = keras.callbacks.LearningRateScheduler(piecewise_constant_fn)"
   ]
  },
  {
   "cell_type": "code",
   "execution_count": 165,
   "metadata": {},
   "outputs": [
    {
     "name": "stderr",
     "output_type": "stream",
     "text": [
      "W0917 22:43:15.021686 4568876480 training_utils.py:1211] When passing input data as arrays, do not specify `steps_per_epoch`/`steps` argument. Please use `batch_size` instead.\n"
     ]
    },
    {
     "name": "stdout",
     "output_type": "stream",
     "text": [
      "Epoch 1/10\n",
      "55000/55000 [==============================] - 13s 227us/sample - loss: 0.1022 - accuracy: 0.9623 - val_loss: 0.4851 - val_accuracy: 0.8876\n",
      "Epoch 2/10\n",
      "55000/55000 [==============================] - 10s 182us/sample - loss: 0.0962 - accuracy: 0.9653 - val_loss: 0.5153 - val_accuracy: 0.8852\n",
      "Epoch 3/10\n",
      "55000/55000 [==============================] - 10s 181us/sample - loss: 0.0955 - accuracy: 0.9654 - val_loss: 0.5924 - val_accuracy: 0.8832\n",
      "Epoch 4/10\n",
      "55000/55000 [==============================] - 10s 181us/sample - loss: 0.0946 - accuracy: 0.9655 - val_loss: 0.5204 - val_accuracy: 0.8854\n",
      "Epoch 5/10\n",
      "55000/55000 [==============================] - 10s 181us/sample - loss: 0.0898 - accuracy: 0.9671 - val_loss: 0.5745 - val_accuracy: 0.8806\n",
      "Epoch 6/10\n",
      "55000/55000 [==============================] - 10s 183us/sample - loss: 0.0867 - accuracy: 0.9683 - val_loss: 0.5291 - val_accuracy: 0.8872\n",
      "Epoch 7/10\n",
      "55000/55000 [==============================] - 10s 188us/sample - loss: 0.0866 - accuracy: 0.9687 - val_loss: 0.5083 - val_accuracy: 0.8924\n",
      "Epoch 8/10\n",
      "55000/55000 [==============================] - 10s 181us/sample - loss: 0.0856 - accuracy: 0.9692 - val_loss: 0.4652 - val_accuracy: 0.8968\n",
      "Epoch 9/10\n",
      "55000/55000 [==============================] - 10s 184us/sample - loss: 0.0807 - accuracy: 0.9709 - val_loss: 0.5381 - val_accuracy: 0.8876\n",
      "Epoch 10/10\n",
      "55000/55000 [==============================] - 10s 182us/sample - loss: 0.0799 - accuracy: 0.9710 - val_loss: 0.5626 - val_accuracy: 0.8748\n"
     ]
    }
   ],
   "source": [
    "model = keras.models.Model(inputs=[X_input], outputs=[yhat])\n",
    "opt = keras.optimizers.RMSprop(lr=0.001, rho=0.9)\n",
    "model.compile(loss = \"sparse_categorical_crossentropy\", metrics = [\"accuracy\"], \n",
    "              optimizer = opt, callbacks=[lr_scheduler])\n",
    "h_rms = model.fit(X_train, y_train, epochs = 10, validation_data = (X_valid, y_valid))"
   ]
  },
  {
   "cell_type": "markdown",
   "metadata": {},
   "source": [
    "Para o caso __desempenho__:"
   ]
  },
  {
   "cell_type": "code",
   "execution_count": 167,
   "metadata": {},
   "outputs": [],
   "source": [
    "lr_scheduler = keras.callbacks.ReduceLROnPlateau(factor=0.5, patience=3)"
   ]
  },
  {
   "cell_type": "code",
   "execution_count": 168,
   "metadata": {},
   "outputs": [
    {
     "name": "stderr",
     "output_type": "stream",
     "text": [
      "W0917 22:46:20.700640 4568876480 training_utils.py:1211] When passing input data as arrays, do not specify `steps_per_epoch`/`steps` argument. Please use `batch_size` instead.\n"
     ]
    },
    {
     "name": "stdout",
     "output_type": "stream",
     "text": [
      "Epoch 1/10\n",
      "55000/55000 [==============================] - 12s 211us/sample - loss: 0.0797 - accuracy: 0.9711 - val_loss: 0.5747 - val_accuracy: 0.8868\n",
      "Epoch 2/10\n",
      "55000/55000 [==============================] - 10s 186us/sample - loss: 0.0748 - accuracy: 0.9733 - val_loss: 0.5571 - val_accuracy: 0.8890\n",
      "Epoch 3/10\n",
      "55000/55000 [==============================] - 10s 190us/sample - loss: 0.0742 - accuracy: 0.9735 - val_loss: 0.7118 - val_accuracy: 0.8802\n",
      "Epoch 4/10\n",
      "55000/55000 [==============================] - 10s 185us/sample - loss: 0.0746 - accuracy: 0.9737 - val_loss: 0.5612 - val_accuracy: 0.8948\n",
      "Epoch 5/10\n",
      "55000/55000 [==============================] - 10s 185us/sample - loss: 0.0712 - accuracy: 0.9743 - val_loss: 0.5932 - val_accuracy: 0.8834\n",
      "Epoch 6/10\n",
      "55000/55000 [==============================] - 10s 182us/sample - loss: 0.0680 - accuracy: 0.9765 - val_loss: 0.6318 - val_accuracy: 0.8830\n",
      "Epoch 7/10\n",
      "55000/55000 [==============================] - 10s 186us/sample - loss: 0.0677 - accuracy: 0.9759 - val_loss: 0.6203 - val_accuracy: 0.8914\n",
      "Epoch 8/10\n",
      "55000/55000 [==============================] - 10s 184us/sample - loss: 0.0679 - accuracy: 0.9763 - val_loss: 0.5239 - val_accuracy: 0.8938\n",
      "Epoch 9/10\n",
      "55000/55000 [==============================] - 10s 188us/sample - loss: 0.0645 - accuracy: 0.9775 - val_loss: 0.5986 - val_accuracy: 0.8916\n",
      "Epoch 10/10\n",
      "55000/55000 [==============================] - 11s 193us/sample - loss: 0.0640 - accuracy: 0.9768 - val_loss: 0.6588 - val_accuracy: 0.8770\n"
     ]
    }
   ],
   "source": [
    "model = keras.models.Model(inputs=[X_input], outputs=[yhat])\n",
    "opt = keras.optimizers.RMSprop(lr=0.001, rho=0.9)\n",
    "model.compile(loss = \"sparse_categorical_crossentropy\", metrics = [\"accuracy\"], \n",
    "              optimizer = opt, callbacks=[lr_scheduler])\n",
    "h_rms = model.fit(X_train, y_train, epochs = 10, validation_data = (X_valid, y_valid))"
   ]
  },
  {
   "cell_type": "markdown",
   "metadata": {},
   "source": [
    "## Transferência de Aprendizado"
   ]
  },
  {
   "cell_type": "markdown",
   "metadata": {},
   "source": [
    "Vamos inicialmente treinar a coleção fashion, deixando de lado as classes sandálias e camisas."
   ]
  },
  {
   "cell_type": "code",
   "execution_count": 66,
   "metadata": {},
   "outputs": [],
   "source": [
    "# loading fashion mnist\n",
    "fashion_mnist = keras.datasets.fashion_mnist\n",
    "(X_train_full, y_train_full), (X_test, y_test) = fashion_mnist.load_data()"
   ]
  },
  {
   "cell_type": "code",
   "execution_count": 67,
   "metadata": {},
   "outputs": [],
   "source": [
    "class_names = [\"T-shirt/top\", \"Trouser\", \"Pullover\", \"Dress\", \"Coat\",\n",
    "                   \"Sandal\", \"Shirt\", \"Sneaker\", \"Bag\", \"Ankle boot\"]"
   ]
  },
  {
   "cell_type": "code",
   "execution_count": 70,
   "metadata": {},
   "outputs": [],
   "source": [
    "# obtem coleecao sem sandalias e shirts\n",
    "X_train_8 = X_train_full[(y_train_full<5) | (y_train_full>6)]\n",
    "y_train_8 = y_train_full[(y_train_full<5) | (y_train_full>6)]\n",
    "X_test_8 = X_test[(y_test<5) | (y_test>6)]\n",
    "y_test_8 = y_test[(y_test<5) | (y_test>6)]  "
   ]
  },
  {
   "cell_type": "code",
   "execution_count": 71,
   "metadata": {},
   "outputs": [],
   "source": [
    "y_test_8[y_test_8 == 7] = 5  \n",
    "y_test_8[y_test_8 == 8] = 6  \n",
    "y_test_8[y_test_8 == 9] = 7\n",
    "y_train_8[y_train_8 == 7] = 5  \n",
    "y_train_8[y_train_8 == 8] = 6  \n",
    "y_train_8[y_train_8 == 9] = 7"
   ]
  },
  {
   "cell_type": "code",
   "execution_count": 72,
   "metadata": {},
   "outputs": [
    {
     "data": {
      "text/plain": [
       "((60000, 28, 28), (48000, 28, 28))"
      ]
     },
     "execution_count": 72,
     "metadata": {},
     "output_type": "execute_result"
    }
   ],
   "source": [
    "X_train_full.shape, X_train_8.shape"
   ]
  },
  {
   "cell_type": "code",
   "execution_count": 73,
   "metadata": {},
   "outputs": [],
   "source": [
    "# data normalization\n",
    "X_valid_8, X_train_8 = X_train_8[:4000] / 255.0, X_train_8[4000:] / 255.0\n",
    "y_valid_8, y_train_8 = y_train_8[:4000], y_train_8[4000:]"
   ]
  },
  {
   "cell_type": "code",
   "execution_count": 74,
   "metadata": {},
   "outputs": [],
   "source": [
    "X_input = keras.layers.Input(shape=[28, 28])\n",
    "\n",
    "h0    = keras.layers.Flatten()(X_input)\n",
    "h1    = keras.layers.Dense(300, kernel_initializer=\"he_normal\")(h0) \n",
    "h1    = keras.layers.BatchNormalization()(h1)\n",
    "h1    = keras.layers.Activation('elu', name = 'h1')(h1)\n",
    "h2    = keras.layers.Dense(200, kernel_initializer=\"he_normal\")(h1)\n",
    "h2    = keras.layers.BatchNormalization()(h2)\n",
    "h2    = keras.layers.Activation('elu', name = 'h2')(h1)\n",
    "h3    = keras.layers.Dense(100, kernel_initializer=\"he_normal\")(h2)\n",
    "h3    = keras.layers.BatchNormalization()(h3)\n",
    "h3    = keras.layers.Activation('elu', name = 'h3')(h3)\n",
    "h4    = keras.layers.Dense( 50, kernel_initializer=\"he_normal\")(h3)\n",
    "h4    = keras.layers.BatchNormalization()(h4)\n",
    "h4    = keras.layers.Activation('elu', name = 'h4')(h4)\n",
    "yhat  = keras.layers.Dense(  8, activation=\"softmax\", name = 'out')(h4)\n",
    "model = keras.models.Model(inputs=[X_input], outputs=[yhat])\n",
    "\n",
    "model.compile(loss = \"sparse_categorical_crossentropy\",\n",
    "             optimizer = \"sgd\",\n",
    "             metrics = [\"accuracy\"])"
   ]
  },
  {
   "cell_type": "code",
   "execution_count": 75,
   "metadata": {},
   "outputs": [
    {
     "name": "stderr",
     "output_type": "stream",
     "text": [
      "W0923 14:33:07.969434 4731512256 training_utils.py:1211] When passing input data as arrays, do not specify `steps_per_epoch`/`steps` argument. Please use `batch_size` instead.\n"
     ]
    },
    {
     "name": "stdout",
     "output_type": "stream",
     "text": [
      "Epoch 1/10\n",
      "44000/44000 [==============================] - 7s 154us/sample - loss: 0.3975 - accuracy: 0.8703 - val_loss: 0.2655 - val_accuracy: 0.9107\n",
      "Epoch 2/10\n",
      "44000/44000 [==============================] - 5s 125us/sample - loss: 0.2852 - accuracy: 0.9049 - val_loss: 0.2405 - val_accuracy: 0.9178\n",
      "Epoch 3/10\n",
      "44000/44000 [==============================] - 5s 122us/sample - loss: 0.2553 - accuracy: 0.9128 - val_loss: 0.2420 - val_accuracy: 0.9143\n",
      "Epoch 4/10\n",
      "44000/44000 [==============================] - 5s 124us/sample - loss: 0.2366 - accuracy: 0.9190 - val_loss: 0.2304 - val_accuracy: 0.9187\n",
      "Epoch 5/10\n",
      "44000/44000 [==============================] - 5s 123us/sample - loss: 0.2227 - accuracy: 0.9240 - val_loss: 0.2107 - val_accuracy: 0.9265\n",
      "Epoch 6/10\n",
      "44000/44000 [==============================] - 5s 123us/sample - loss: 0.2065 - accuracy: 0.9292 - val_loss: 0.2130 - val_accuracy: 0.9250\n",
      "Epoch 7/10\n",
      "44000/44000 [==============================] - 5s 123us/sample - loss: 0.1958 - accuracy: 0.9324 - val_loss: 0.2064 - val_accuracy: 0.9273\n",
      "Epoch 8/10\n",
      "44000/44000 [==============================] - 5s 122us/sample - loss: 0.1887 - accuracy: 0.9344 - val_loss: 0.2055 - val_accuracy: 0.9258\n",
      "Epoch 9/10\n",
      "44000/44000 [==============================] - 6s 128us/sample - loss: 0.1800 - accuracy: 0.9378 - val_loss: 0.2194 - val_accuracy: 0.9190\n",
      "Epoch 10/10\n",
      "44000/44000 [==============================] - 6s 125us/sample - loss: 0.1718 - accuracy: 0.9404 - val_loss: 0.2151 - val_accuracy: 0.9230\n"
     ]
    }
   ],
   "source": [
    "h = model.fit(X_train_8, y_train_8, epochs = 10, \n",
    "             validation_data = (X_valid_8, y_valid_8))"
   ]
  },
  {
   "cell_type": "code",
   "execution_count": 76,
   "metadata": {},
   "outputs": [],
   "source": [
    "model.save('model_8.h5')"
   ]
  },
  {
   "cell_type": "markdown",
   "metadata": {},
   "source": [
    "Vamos agora treinar a coleção fashion, apenas com as classes sandálias e camisas, usando transferência de aprendizado."
   ]
  },
  {
   "cell_type": "code",
   "execution_count": 77,
   "metadata": {},
   "outputs": [],
   "source": [
    "X_train_2 = X_train_full[(y_train_full==5) | (y_train_full==6)]\n",
    "y_train_2 = y_train_full[(y_train_full==5) | (y_train_full==6)]\n",
    "X_test_2 = X_test[(y_test==5) | (y_test==6)]\n",
    "y_test_2 = y_test[(y_test==5) | (y_test==6)]"
   ]
  },
  {
   "cell_type": "code",
   "execution_count": 78,
   "metadata": {},
   "outputs": [],
   "source": [
    "y_test_2 = (y_test_2 == 5).astype(int)  \n",
    "y_train_2 = (y_train_2 == 5).astype(int)"
   ]
  },
  {
   "cell_type": "code",
   "execution_count": 79,
   "metadata": {},
   "outputs": [
    {
     "data": {
      "text/plain": [
       "((60000, 28, 28), (12000, 28, 28))"
      ]
     },
     "execution_count": 79,
     "metadata": {},
     "output_type": "execute_result"
    }
   ],
   "source": [
    "X_train_full.shape, X_train_2.shape, "
   ]
  },
  {
   "cell_type": "code",
   "execution_count": 80,
   "metadata": {},
   "outputs": [],
   "source": [
    "# data normalization\n",
    "X_valid_2, X_train_2 = X_train_2[:1200] / 255.0, X_train_2[1200:] / 255.0\n",
    "y_valid_2, y_train_2 = y_train_2[:1200], y_train_2[1200:]"
   ]
  },
  {
   "cell_type": "markdown",
   "metadata": {},
   "source": [
    "Primeiro, treino direto, para termos uma referência:"
   ]
  },
  {
   "cell_type": "code",
   "execution_count": 81,
   "metadata": {},
   "outputs": [],
   "source": [
    "X_input = keras.layers.Input(shape=[28, 28])\n",
    "\n",
    "h0    = keras.layers.Flatten()(X_input)\n",
    "h1    = keras.layers.Dense(300, kernel_initializer=\"he_normal\")(h0) \n",
    "h1    = keras.layers.BatchNormalization()(h1)\n",
    "h1    = keras.layers.Activation('elu')(h1)\n",
    "h2    = keras.layers.Dense(200, kernel_initializer=\"he_normal\")(h1)\n",
    "h2    = keras.layers.BatchNormalization()(h2)\n",
    "h2    = keras.layers.Activation('elu')(h1)\n",
    "h3    = keras.layers.Dense(100, kernel_initializer=\"he_normal\")(h2)\n",
    "h3    = keras.layers.BatchNormalization()(h3)\n",
    "h3    = keras.layers.Activation('elu')(h3)\n",
    "h4    = keras.layers.Dense( 50, kernel_initializer=\"he_normal\")(h3)\n",
    "h4    = keras.layers.BatchNormalization()(h4)\n",
    "h4    = keras.layers.Activation('elu')(h4)\n",
    "yhat  = keras.layers.Dense(1, activation=\"sigmoid\")(h4)\n",
    "model = keras.models.Model(inputs=[X_input], outputs=[yhat])\n",
    "\n",
    "model.compile(loss = \"binary_crossentropy\",\n",
    "             optimizer = \"sgd\",\n",
    "             metrics = [\"accuracy\"])"
   ]
  },
  {
   "cell_type": "code",
   "execution_count": 82,
   "metadata": {},
   "outputs": [
    {
     "name": "stderr",
     "output_type": "stream",
     "text": [
      "W0923 14:34:41.027698 4731512256 training_utils.py:1211] When passing input data as arrays, do not specify `steps_per_epoch`/`steps` argument. Please use `batch_size` instead.\n"
     ]
    },
    {
     "name": "stdout",
     "output_type": "stream",
     "text": [
      "Epoch 1/10\n",
      "10800/10800 [==============================] - 2s 212us/sample - loss: 0.0749 - accuracy: 0.9794 - val_loss: 0.0270 - val_accuracy: 0.9975\n",
      "Epoch 2/10\n",
      "10800/10800 [==============================] - 1s 126us/sample - loss: 0.0275 - accuracy: 0.9949 - val_loss: 0.0162 - val_accuracy: 0.9992\n",
      "Epoch 3/10\n",
      "10800/10800 [==============================] - 1s 125us/sample - loss: 0.0197 - accuracy: 0.9957 - val_loss: 0.0116 - val_accuracy: 0.9992\n",
      "Epoch 4/10\n",
      "10800/10800 [==============================] - 1s 130us/sample - loss: 0.0151 - accuracy: 0.9973 - val_loss: 0.0117 - val_accuracy: 0.9992\n",
      "Epoch 5/10\n",
      "10800/10800 [==============================] - 1s 125us/sample - loss: 0.0144 - accuracy: 0.9969 - val_loss: 0.0102 - val_accuracy: 0.9992\n",
      "Epoch 6/10\n",
      "10800/10800 [==============================] - 1s 130us/sample - loss: 0.0119 - accuracy: 0.9969 - val_loss: 0.0090 - val_accuracy: 0.9992\n",
      "Epoch 7/10\n",
      "10800/10800 [==============================] - 1s 134us/sample - loss: 0.0129 - accuracy: 0.9969 - val_loss: 0.0085 - val_accuracy: 0.9992\n",
      "Epoch 8/10\n",
      "10800/10800 [==============================] - 1s 136us/sample - loss: 0.0105 - accuracy: 0.9974 - val_loss: 0.0083 - val_accuracy: 0.9992\n",
      "Epoch 9/10\n",
      "10800/10800 [==============================] - 1s 131us/sample - loss: 0.0076 - accuracy: 0.9980 - val_loss: 0.0086 - val_accuracy: 0.9992\n",
      "Epoch 10/10\n",
      "10800/10800 [==============================] - 1s 132us/sample - loss: 0.0115 - accuracy: 0.9968 - val_loss: 0.0079 - val_accuracy: 0.9992\n"
     ]
    }
   ],
   "source": [
    "h = model.fit(X_train_2, y_train_2, epochs = 10, \n",
    "             validation_data = (X_valid_2, y_valid_2))"
   ]
  },
  {
   "cell_type": "markdown",
   "metadata": {},
   "source": [
    "Agora, trasnferencia:"
   ]
  },
  {
   "cell_type": "code",
   "execution_count": 83,
   "metadata": {},
   "outputs": [],
   "source": [
    "model_8 = keras.models.load_model('model_8.h5')\n",
    "\n",
    "# use close se vc quer uma copia do modelo em memoria\n",
    "# que possa ser modificada sem mudar o modelo original em memoria\n",
    "model_8_clone = keras.models.clone_model(model_8)\n",
    "model_8_clone.set_weights(model_8.get_weights())"
   ]
  },
  {
   "cell_type": "code",
   "execution_count": 84,
   "metadata": {},
   "outputs": [
    {
     "name": "stdout",
     "output_type": "stream",
     "text": [
      "Model: \"model_7\"\n",
      "_________________________________________________________________\n",
      "Layer (type)                 Output Shape              Param #   \n",
      "=================================================================\n",
      "input_8 (InputLayer)         [(None, 28, 28)]          0         \n",
      "_________________________________________________________________\n",
      "flatten_7 (Flatten)          (None, 784)               0         \n",
      "_________________________________________________________________\n",
      "dense_35 (Dense)             (None, 300)               235500    \n",
      "_________________________________________________________________\n",
      "batch_normalization_8 (Batch (None, 300)               1200      \n",
      "_________________________________________________________________\n",
      "h1 (Activation)              (None, 300)               0         \n",
      "_________________________________________________________________\n",
      "h2 (Activation)              (None, 300)               0         \n",
      "_________________________________________________________________\n",
      "dense_37 (Dense)             (None, 100)               30100     \n",
      "_________________________________________________________________\n",
      "batch_normalization_10 (Batc (None, 100)               400       \n",
      "_________________________________________________________________\n",
      "h3 (Activation)              (None, 100)               0         \n",
      "_________________________________________________________________\n",
      "dense_38 (Dense)             (None, 50)                5050      \n",
      "_________________________________________________________________\n",
      "batch_normalization_11 (Batc (None, 50)                200       \n",
      "_________________________________________________________________\n",
      "h4 (Activation)              (None, 50)                0         \n",
      "_________________________________________________________________\n",
      "out (Dense)                  (None, 8)                 408       \n",
      "=================================================================\n",
      "Total params: 272,858\n",
      "Trainable params: 271,958\n",
      "Non-trainable params: 900\n",
      "_________________________________________________________________\n"
     ]
    }
   ],
   "source": [
    "model_8.summary()"
   ]
  },
  {
   "cell_type": "code",
   "execution_count": 85,
   "metadata": {},
   "outputs": [],
   "source": [
    "model_2_usando_8_nohead = keras.models.Model(inputs = model_8_clone.input, \n",
    "                                             outputs = model_8_clone.get_layer('h4').output)"
   ]
  },
  {
   "cell_type": "code",
   "execution_count": 86,
   "metadata": {},
   "outputs": [],
   "source": [
    "x = model_2_usando_8_nohead.output\n",
    "yhat = keras.layers.Dense(1, activation=\"sigmoid\")(x)\n",
    "\n",
    "model_2_usando_8 = keras.models.Model(inputs = model_2_usando_8_nohead.input, outputs = yhat)"
   ]
  },
  {
   "cell_type": "code",
   "execution_count": 87,
   "metadata": {},
   "outputs": [
    {
     "name": "stdout",
     "output_type": "stream",
     "text": [
      "Model: \"model_10\"\n",
      "_________________________________________________________________\n",
      "Layer (type)                 Output Shape              Param #   \n",
      "=================================================================\n",
      "input_8 (InputLayer)         [(None, 28, 28)]          0         \n",
      "_________________________________________________________________\n",
      "flatten_7 (Flatten)          (None, 784)               0         \n",
      "_________________________________________________________________\n",
      "dense_35 (Dense)             (None, 300)               235500    \n",
      "_________________________________________________________________\n",
      "batch_normalization_8 (Batch (None, 300)               1200      \n",
      "_________________________________________________________________\n",
      "h1 (Activation)              (None, 300)               0         \n",
      "_________________________________________________________________\n",
      "h2 (Activation)              (None, 300)               0         \n",
      "_________________________________________________________________\n",
      "dense_37 (Dense)             (None, 100)               30100     \n",
      "_________________________________________________________________\n",
      "batch_normalization_10 (Batc (None, 100)               400       \n",
      "_________________________________________________________________\n",
      "h3 (Activation)              (None, 100)               0         \n",
      "_________________________________________________________________\n",
      "dense_38 (Dense)             (None, 50)                5050      \n",
      "_________________________________________________________________\n",
      "batch_normalization_11 (Batc (None, 50)                200       \n",
      "_________________________________________________________________\n",
      "h4 (Activation)              (None, 50)                0         \n",
      "_________________________________________________________________\n",
      "dense_44 (Dense)             (None, 1)                 51        \n",
      "=================================================================\n",
      "Total params: 272,501\n",
      "Trainable params: 271,601\n",
      "Non-trainable params: 900\n",
      "_________________________________________________________________\n"
     ]
    }
   ],
   "source": [
    "model_2_usando_8.summary()"
   ]
  },
  {
   "cell_type": "code",
   "execution_count": 88,
   "metadata": {},
   "outputs": [],
   "source": [
    "for layer in model_2_usando_8.layers[:-1]: \n",
    "    layer.trainable = False"
   ]
  },
  {
   "cell_type": "code",
   "execution_count": 89,
   "metadata": {},
   "outputs": [],
   "source": [
    "model_2_usando_8.compile(loss = \"binary_crossentropy\",\n",
    "             optimizer = \"sgd\",\n",
    "             metrics = [\"accuracy\"])"
   ]
  },
  {
   "cell_type": "code",
   "execution_count": 90,
   "metadata": {},
   "outputs": [
    {
     "name": "stderr",
     "output_type": "stream",
     "text": [
      "W0923 14:36:20.727291 4731512256 training_utils.py:1211] When passing input data as arrays, do not specify `steps_per_epoch`/`steps` argument. Please use `batch_size` instead.\n"
     ]
    },
    {
     "name": "stdout",
     "output_type": "stream",
     "text": [
      "Epoch 1/10\n",
      "10800/10800 [==============================] - 2s 168us/sample - loss: 0.2750 - accuracy: 0.8891 - val_loss: 0.0890 - val_accuracy: 0.9883\n",
      "Epoch 2/10\n",
      "10800/10800 [==============================] - 1s 84us/sample - loss: 0.0889 - accuracy: 0.9792 - val_loss: 0.0561 - val_accuracy: 0.9908\n",
      "Epoch 3/10\n",
      "10800/10800 [==============================] - 1s 79us/sample - loss: 0.0657 - accuracy: 0.9845 - val_loss: 0.0446 - val_accuracy: 0.9925\n",
      "Epoch 4/10\n",
      "10800/10800 [==============================] - 1s 80us/sample - loss: 0.0537 - accuracy: 0.9879 - val_loss: 0.0384 - val_accuracy: 0.9933\n",
      "Epoch 5/10\n",
      "10800/10800 [==============================] - 1s 78us/sample - loss: 0.0507 - accuracy: 0.9876 - val_loss: 0.0346 - val_accuracy: 0.9933\n",
      "Epoch 6/10\n",
      "10800/10800 [==============================] - 1s 85us/sample - loss: 0.0425 - accuracy: 0.9903 - val_loss: 0.0318 - val_accuracy: 0.9933\n",
      "Epoch 7/10\n",
      "10800/10800 [==============================] - 1s 84us/sample - loss: 0.0427 - accuracy: 0.9894 - val_loss: 0.0298 - val_accuracy: 0.9942\n",
      "Epoch 8/10\n",
      "10800/10800 [==============================] - 1s 81us/sample - loss: 0.0396 - accuracy: 0.9888 - val_loss: 0.0283 - val_accuracy: 0.9942\n",
      "Epoch 9/10\n",
      "10800/10800 [==============================] - 1s 79us/sample - loss: 0.0354 - accuracy: 0.9905 - val_loss: 0.0271 - val_accuracy: 0.9942\n",
      "Epoch 10/10\n",
      "10800/10800 [==============================] - 1s 80us/sample - loss: 0.0384 - accuracy: 0.9909 - val_loss: 0.0261 - val_accuracy: 0.9942\n"
     ]
    }
   ],
   "source": [
    "h = model_2_usando_8.fit(X_train_2, y_train_2, epochs=10,\n",
    "                            validation_data=(X_valid_2, y_valid_2))"
   ]
  },
  {
   "cell_type": "code",
   "execution_count": 91,
   "metadata": {},
   "outputs": [],
   "source": [
    "for layer in model_2_usando_8.layers[:-1]: \n",
    "    layer.trainable = True"
   ]
  },
  {
   "cell_type": "code",
   "execution_count": 92,
   "metadata": {},
   "outputs": [],
   "source": [
    "optimizer = keras.optimizers.SGD(lr=1e-4) # the default lr is 1e-3 \n",
    "model_2_usando_8.compile(loss=\"binary_crossentropy\", optimizer=optimizer,\n",
    "                         metrics=[\"accuracy\"])"
   ]
  },
  {
   "cell_type": "code",
   "execution_count": 93,
   "metadata": {},
   "outputs": [
    {
     "name": "stderr",
     "output_type": "stream",
     "text": [
      "W0923 14:36:58.146462 4731512256 training_utils.py:1211] When passing input data as arrays, do not specify `steps_per_epoch`/`steps` argument. Please use `batch_size` instead.\n"
     ]
    },
    {
     "name": "stdout",
     "output_type": "stream",
     "text": [
      "Epoch 1/16\n",
      "10800/10800 [==============================] - 2s 223us/sample - loss: 0.0310 - accuracy: 0.9924 - val_loss: 0.0239 - val_accuracy: 0.9958\n",
      "Epoch 2/16\n",
      "10800/10800 [==============================] - 1s 138us/sample - loss: 0.0296 - accuracy: 0.9927 - val_loss: 0.0223 - val_accuracy: 0.9958\n",
      "Epoch 3/16\n",
      "10800/10800 [==============================] - 1s 136us/sample - loss: 0.0282 - accuracy: 0.9919 - val_loss: 0.0207 - val_accuracy: 0.9958\n",
      "Epoch 4/16\n",
      "10800/10800 [==============================] - 2s 141us/sample - loss: 0.0260 - accuracy: 0.9939 - val_loss: 0.0205 - val_accuracy: 0.9958\n",
      "Epoch 5/16\n",
      "10800/10800 [==============================] - 1s 136us/sample - loss: 0.0285 - accuracy: 0.9933 - val_loss: 0.0198 - val_accuracy: 0.9958\n",
      "Epoch 6/16\n",
      "10800/10800 [==============================] - 1s 137us/sample - loss: 0.0246 - accuracy: 0.9931 - val_loss: 0.0194 - val_accuracy: 0.9958\n",
      "Epoch 7/16\n",
      "10800/10800 [==============================] - 1s 135us/sample - loss: 0.0268 - accuracy: 0.9930 - val_loss: 0.0188 - val_accuracy: 0.9958\n",
      "Epoch 8/16\n",
      "10800/10800 [==============================] - 1s 136us/sample - loss: 0.0251 - accuracy: 0.9935 - val_loss: 0.0185 - val_accuracy: 0.9958\n",
      "Epoch 9/16\n",
      "10800/10800 [==============================] - 1s 136us/sample - loss: 0.0226 - accuracy: 0.9945 - val_loss: 0.0187 - val_accuracy: 0.9958\n",
      "Epoch 10/16\n",
      "10800/10800 [==============================] - 1s 135us/sample - loss: 0.0268 - accuracy: 0.9931 - val_loss: 0.0181 - val_accuracy: 0.9958\n",
      "Epoch 11/16\n",
      "10800/10800 [==============================] - 1s 129us/sample - loss: 0.0237 - accuracy: 0.9935 - val_loss: 0.0179 - val_accuracy: 0.9958\n",
      "Epoch 12/16\n",
      "10800/10800 [==============================] - 1s 133us/sample - loss: 0.0234 - accuracy: 0.9945 - val_loss: 0.0177 - val_accuracy: 0.9967\n",
      "Epoch 13/16\n",
      "10800/10800 [==============================] - 1s 130us/sample - loss: 0.0256 - accuracy: 0.9939 - val_loss: 0.0173 - val_accuracy: 0.9967\n",
      "Epoch 14/16\n",
      "10800/10800 [==============================] - 1s 132us/sample - loss: 0.0244 - accuracy: 0.9928 - val_loss: 0.0175 - val_accuracy: 0.9967\n",
      "Epoch 15/16\n",
      "10800/10800 [==============================] - 1s 135us/sample - loss: 0.0244 - accuracy: 0.9935 - val_loss: 0.0168 - val_accuracy: 0.9958\n",
      "Epoch 16/16\n",
      "10800/10800 [==============================] - 1s 134us/sample - loss: 0.0257 - accuracy: 0.9934 - val_loss: 0.0165 - val_accuracy: 0.9958\n"
     ]
    }
   ],
   "source": [
    "h = model_2_usando_8.fit(X_train_2, y_train_2, epochs=16,\n",
    "                            validation_data=(X_valid_2, y_valid_2))"
   ]
  },
  {
   "cell_type": "code",
   "execution_count": null,
   "metadata": {},
   "outputs": [],
   "source": []
  }
 ],
 "metadata": {
  "kernelspec": {
   "display_name": "Python 3",
   "language": "python",
   "name": "python3"
  },
  "language_info": {
   "codemirror_mode": {
    "name": "ipython",
    "version": 3
   },
   "file_extension": ".py",
   "mimetype": "text/x-python",
   "name": "python",
   "nbconvert_exporter": "python",
   "pygments_lexer": "ipython3",
   "version": "3.7.5"
  }
 },
 "nbformat": 4,
 "nbformat_minor": 4
}
