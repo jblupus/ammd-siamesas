{
 "cells": [
  {
   "cell_type": "code",
   "execution_count": 1,
   "metadata": {},
   "outputs": [
    {
     "name": "stdout",
     "output_type": "stream",
     "text": [
      "Collecting tqdm==4.28.1\n",
      "  Using cached https://files.pythonhosted.org/packages/91/55/8cb23a97301b177e9c8e3226dba45bb454411de2cbd25746763267f226c2/tqdm-4.28.1-py2.py3-none-any.whl\n",
      "Installing collected packages: tqdm\n",
      "Successfully installed tqdm-4.28.1\n",
      "Requirement already up-to-date: gast==0.2.2 in /opt/anaconda3/envs/siamesas/lib/python3.7/site-packages (0.2.2)\n",
      "Collecting gdown\n",
      "  Using cached https://files.pythonhosted.org/packages/b0/b4/a8e9d0b02bca6aa53087001abf064cc9992bda11bd6840875b8098d93573/gdown-3.8.3.tar.gz\n",
      "Collecting filelock\n",
      "  Using cached https://files.pythonhosted.org/packages/93/83/71a2ee6158bb9f39a90c0dea1637f81d5eef866e188e1971a1b1ab01a35a/filelock-3.0.12-py3-none-any.whl\n",
      "Requirement already satisfied: requests in /opt/anaconda3/envs/siamesas/lib/python3.7/site-packages (from gdown) (2.22.0)\n",
      "Requirement already satisfied: six in /opt/anaconda3/envs/siamesas/lib/python3.7/site-packages (from gdown) (1.12.0)\n",
      "Requirement already satisfied: tqdm in /opt/anaconda3/envs/siamesas/lib/python3.7/site-packages (from gdown) (4.28.1)\n",
      "Requirement already satisfied: chardet<3.1.0,>=3.0.2 in /opt/anaconda3/envs/siamesas/lib/python3.7/site-packages (from requests->gdown) (3.0.4)\n",
      "Requirement already satisfied: urllib3!=1.25.0,!=1.25.1,<1.26,>=1.21.1 in /opt/anaconda3/envs/siamesas/lib/python3.7/site-packages (from requests->gdown) (1.25.6)\n",
      "Requirement already satisfied: certifi>=2017.4.17 in /opt/anaconda3/envs/siamesas/lib/python3.7/site-packages (from requests->gdown) (2019.9.11)\n",
      "Requirement already satisfied: idna<2.9,>=2.5 in /opt/anaconda3/envs/siamesas/lib/python3.7/site-packages (from requests->gdown) (2.8)\n",
      "Building wheels for collected packages: gdown\n",
      "  Building wheel for gdown (setup.py) ... \u001b[?25ldone\n",
      "\u001b[?25h  Created wheel for gdown: filename=gdown-3.8.3-cp37-none-any.whl size=8852 sha256=e0d144f37ddd3acac0953840f5851a2236a72447abff4dbe929c5947a6324d07\n",
      "  Stored in directory: /home/joao/.cache/pip/wheels/a7/9d/16/9e0bda9a327ff2cddaee8de48a27553fb1efce73133593d066\n",
      "Successfully built gdown\n",
      "Installing collected packages: filelock, gdown\n",
      "Successfully installed filelock-3.0.12 gdown-3.8.3\n",
      "Downloading...\n",
      "From: https://drive.google.com/uc?id=14CB3Vw4jPf-8-DAriB9XDq4mfbs4o747\n",
      "To: /home/joao/Documents/Doutorado/ammd2-siamesas/airport-alunos.tgz\n",
      "533MB [02:28, 3.30MB/s] \n",
      "mkdir: cannot create directory ‘datasets’: File exists\n"
     ]
    }
   ],
   "source": [
    "!pip install tqdm==4.28.1\n",
    "!pip install -U gast==0.2.2\n",
    "!pip install gdown\n",
    "\n",
    "!gdown https://drive.google.com/uc?id=14CB3Vw4jPf-8-DAriB9XDq4mfbs4o747\n",
    "!mkdir datasets\n",
    "!tar -C datasets -xzf airport-alunos.tgz\n"
   ]
  },
  {
   "cell_type": "code",
   "execution_count": 1,
   "metadata": {
    "colab": {
     "base_uri": "https://localhost:8080/",
     "height": 51
    },
    "colab_type": "code",
    "id": "USM43pOIGCw2",
    "outputId": "0c9ddb6e-2d96-4ae8-a360-cdd3ccd5c200"
   },
   "outputs": [
    {
     "name": "stdout",
     "output_type": "stream",
     "text": [
      "2.0.0\n",
      "4.28.1\n"
     ]
    }
   ],
   "source": [
    "#%tensorflow_version 2.x\n",
    "import tensorflow as tf; print(tf.__version__)\n",
    "import tensorflow.keras\n",
    "from tensorflow.keras.layers import Input\n",
    "from tensorflow.keras.layers import Conv2D\n",
    "from tensorflow.keras.layers import BatchNormalization\n",
    "from tensorflow.keras.layers import Activation\n",
    "from tensorflow.keras.layers import MaxPooling2D\n",
    "from tensorflow.keras.layers import Flatten\n",
    "from tensorflow.keras.layers import Dense\n",
    "from tensorflow.keras.layers import Lambda\n",
    "from tensorflow.keras.models import Model\n",
    "from tensorflow.keras import backend as K\n",
    "\n",
    "\n",
    "from sklearn.datasets import load_sample_image;\n",
    "\n",
    "import numpy as np\n",
    "import tqdm; print(tqdm.__version__)\n",
    "import matplotlib.pyplot as plt\n",
    "%matplotlib inline"
   ]
  },
  {
   "cell_type": "code",
   "execution_count": 2,
   "metadata": {},
   "outputs": [],
   "source": [
    "def base_model(input_shape):\n",
    "    \"\"\"\n",
    "        Model architecture\n",
    "    \"\"\"\n",
    "    \n",
    "    input_layer = Input(shape = input_shape)\n",
    "    \n",
    "    seq_model = Conv2D(8, (3, 3), activation = 'relu')(input_layer)\n",
    "    seq_model = BatchNormalization()(seq_model)\n",
    "    seq_model = Activation('relu')(seq_model)\n",
    "    seq_model = MaxPooling2D((2, 2), padding = 'same')(seq_model)\n",
    "    \n",
    "    seq_model = Conv2D(16, (3, 3), strides = (2, 2), padding = 'same')(seq_model)\n",
    "    seq_model = BatchNormalization()(seq_model)\n",
    "    seq_model = Activation('relu')(seq_model)\n",
    "    seq_model = MaxPooling2D((2, 2), padding = 'same')(seq_model)\n",
    "    \n",
    "    seq_model = Conv2D(32, (3, 3), strides = (2, 2), padding = 'same')(seq_model)\n",
    "    seq_model = BatchNormalization()(seq_model)\n",
    "    seq_model = Activation('relu')(seq_model)\n",
    "    seq_model = MaxPooling2D((2, 2), padding = 'same')(seq_model)\n",
    "    \n",
    "    seq_model = Conv2D(64, (3, 3), strides = (2, 2), padding = 'same')(seq_model)\n",
    "    seq_model = BatchNormalization()(seq_model)\n",
    "    seq_model = Activation('relu')(seq_model)\n",
    "    seq_model = MaxPooling2D((2, 2), padding = 'same')(seq_model)\n",
    "    \n",
    "    seq_model = Flatten()(seq_model)\n",
    "    seq_model = Dense(64)(seq_model)\n",
    "    \n",
    "    seq_model = Model(inputs=input_layer, outputs=seq_model)\n",
    "    \n",
    "    return seq_model\n",
    "  \n",
    "def siamise_model(input_shape):\n",
    "    \n",
    "    seq_model = base_model(input_shape)\n",
    "    \n",
    "    left_input = Input(shape = input_shape)\n",
    "    right_input = Input(shape = input_shape)\n",
    "    \n",
    "    left_encod = seq_model(left_input)\n",
    "    right_encod = seq_model(right_input)\n",
    "\n",
    "    lambda_layer = Lambda(lambda tensors:K.abs(tensors[0] - tensors[1]))\n",
    "    lambda_distance  = lambda_layer([left_encod, right_encod])\n",
    "    \n",
    "    return Model(inputs=[left_input,right_input], outputs=lambda_distance)"
   ]
  },
  {
   "cell_type": "code",
   "execution_count": null,
   "metadata": {},
   "outputs": [],
   "source": []
  },
  {
   "cell_type": "code",
   "execution_count": null,
   "metadata": {
    "colab": {
     "base_uri": "https://localhost:8080/",
     "height": 284
    },
    "colab_type": "code",
    "id": "oeSbaC8eGCw9",
    "outputId": "d0544b8b-1e33-4c06-8327-36bc58211ca6"
   },
   "outputs": [],
   "source": []
  },
  {
   "cell_type": "code",
   "execution_count": null,
   "metadata": {
    "colab": {},
    "colab_type": "code",
    "id": "v3b_n2GaP-3H"
   },
   "outputs": [],
   "source": []
  },
  {
   "cell_type": "code",
   "execution_count": null,
   "metadata": {
    "colab": {},
    "colab_type": "code",
    "id": "hc66zI_QGCxB"
   },
   "outputs": [],
   "source": []
  },
  {
   "cell_type": "code",
   "execution_count": 3,
   "metadata": {
    "colab": {
     "base_uri": "https://localhost:8080/",
     "height": 51
    },
    "colab_type": "code",
    "id": "DijeWsmwGCxF",
    "outputId": "b729d3cc-a32d-46f1-c24a-a51899ade55d"
   },
   "outputs": [
    {
     "name": "stdout",
     "output_type": "stream",
     "text": [
      "['datasets/airport-alunos/treino/0/000/000.png', 'datasets/airport-alunos/treino/0/000/001.png']\n",
      "['datasets/airport-alunos/val/0/200/000.png', 'datasets/airport-alunos/val/0/200/001.png']\n"
     ]
    }
   ],
   "source": [
    "file_names_treino = !find datasets/airport-alunos/treino -name '???.png' | sort\n",
    "file_names_val = !find datasets/airport-alunos/val -name '???.png' | sort\n",
    "\n",
    "print(file_names_treino[:2])\n",
    "print(file_names_val[:2])"
   ]
  },
  {
   "cell_type": "code",
   "execution_count": 4,
   "metadata": {
    "colab": {},
    "colab_type": "code",
    "id": "0zrwkBKwGCxJ"
   },
   "outputs": [],
   "source": [
    "#load_sample_image('datasets/airport-alunos/treino/0/094/051.png')\n",
    "\n",
    "#tf.image.decode_image(tf.io.read_file('datasets/airport-alunos/treino/0/094/051.png'))"
   ]
  },
  {
   "cell_type": "code",
   "execution_count": null,
   "metadata": {},
   "outputs": [],
   "source": []
  },
  {
   "cell_type": "code",
   "execution_count": 5,
   "metadata": {},
   "outputs": [
    {
     "name": "stdout",
     "output_type": "stream",
     "text": [
      "Images in cam1 = 2824, cam2 = 3648\n"
     ]
    }
   ],
   "source": [
    "from dataset_utils import person_to_img\n",
    "# carrega imagens para memória\n",
    "cam_img_dict_val, pids1_val, pids2_val = person_to_img(file_names_val)"
   ]
  },
  {
   "cell_type": "code",
   "execution_count": 7,
   "metadata": {},
   "outputs": [
    {
     "name": "stderr",
     "output_type": "stream",
     "text": [
      "100%|██████████| 2824/2824 [00:00<00:00, 3478.55it/s]\n"
     ]
    }
   ],
   "source": [
    "from dataset_utils import combine_cam_files\n",
    "# gera listas de similares e dissimilares na memória\n",
    "d_combination_val = combine_cam_files(pids1_val, pids2_val)"
   ]
  },
  {
   "cell_type": "code",
   "execution_count": null,
   "metadata": {},
   "outputs": [],
   "source": [
    "from dataset_utils import get_batch\n",
    "# obtem pares de batches apartir das imagens em memória\n",
    "X_a_val, X_b_val, y_val = get_batch(d_combination_val, cam_img_dict_val)"
   ]
  },
  {
   "cell_type": "code",
   "execution_count": 10,
   "metadata": {},
   "outputs": [],
   "source": []
  },
  {
   "cell_type": "code",
   "execution_count": null,
   "metadata": {},
   "outputs": [],
   "source": [
    "from dataset_utils import get_batch\n",
    "plot_sample(X_a_val/255, X_b_val/255, y_val)"
   ]
  },
  {
   "cell_type": "code",
   "execution_count": null,
   "metadata": {
    "colab": {},
    "colab_type": "code",
    "id": "jh93gdL9GCxQ"
   },
   "outputs": [],
   "source": []
  },
  {
   "cell_type": "code",
   "execution_count": null,
   "metadata": {
    "colab": {},
    "colab_type": "code",
    "id": "CUuvQ_zDGCxT"
   },
   "outputs": [],
   "source": []
  },
  {
   "cell_type": "code",
   "execution_count": null,
   "metadata": {
    "colab": {},
    "colab_type": "code",
    "id": "0KWHWRVCGCxW"
   },
   "outputs": [],
   "source": []
  },
  {
   "cell_type": "code",
   "execution_count": 0,
   "metadata": {
    "colab": {},
    "colab_type": "code",
    "id": "Ec7JVXihGCxZ"
   },
   "outputs": [],
   "source": []
  },
  {
   "cell_type": "code",
   "execution_count": 0,
   "metadata": {
    "colab": {},
    "colab_type": "code",
    "id": "t83rwHU-GCxd"
   },
   "outputs": [],
   "source": []
  }
 ],
 "metadata": {
  "colab": {
   "name": "AMMD2 - Siamesas 01.ipynb",
   "provenance": []
  },
  "kernelspec": {
   "display_name": "Python 3",
   "language": "python",
   "name": "python3"
  },
  "language_info": {
   "codemirror_mode": {
    "name": "ipython",
    "version": 3
   },
   "file_extension": ".py",
   "mimetype": "text/x-python",
   "name": "python",
   "nbconvert_exporter": "python",
   "pygments_lexer": "ipython3",
   "version": "3.7.4"
  }
 },
 "nbformat": 4,
 "nbformat_minor": 1
}
